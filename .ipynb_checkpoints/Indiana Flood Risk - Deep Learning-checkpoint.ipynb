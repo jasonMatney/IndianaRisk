{
 "cells": [
  {
   "cell_type": "markdown",
   "metadata": {},
   "source": [
    "# Indiana Flood Risk\n",
    "## Deep Neural Networks for Supervised Learning - Regression"
   ]
  },
  {
   "cell_type": "code",
   "execution_count": 1,
   "metadata": {},
   "outputs": [],
   "source": [
    "import pandas as pd\n",
    "import seaborn as sns\n",
    "import numpy as np\n",
    "%matplotlib inline\n",
    "from sklearn.model_selection import train_test_split\n",
    "from sklearn.preprocessing import LabelEncoder, OneHotEncoder\n",
    "import seaborn as sns  #Seaborn is another powerful visulization library for Python\n",
    "from sklearn.linear_model import Ridge"
   ]
  },
  {
   "cell_type": "code",
   "execution_count": 2,
   "metadata": {},
   "outputs": [],
   "source": [
    "df = pd.read_excel(\"C:\\\\Users\\jmatney\\Documents\\GitHub\\IndianaRIsk\\data\\IN_22HUCS_05062020_new.xlsx\")"
   ]
  },
  {
   "cell_type": "code",
   "execution_count": 3,
   "metadata": {},
   "outputs": [
    {
     "data": {
      "text/plain": [
       "'C:\\\\Users\\\\jmatney\\\\Documents\\\\GitHub\\\\IndianaRisk'"
      ]
     },
     "execution_count": 3,
     "metadata": {},
     "output_type": "execute_result"
    }
   ],
   "source": [
    "import os\n",
    "cwd = os.getcwd()\n",
    "cwd"
   ]
  },
  {
   "cell_type": "code",
   "execution_count": 4,
   "metadata": {},
   "outputs": [
    {
     "name": "stdout",
     "output_type": "stream",
     "text": [
      "Shape of the Dataset: (32, 42)\n"
     ]
    },
    {
     "data": {
      "text/html": [
       "<div>\n",
       "<style scoped>\n",
       "    .dataframe tbody tr th:only-of-type {\n",
       "        vertical-align: middle;\n",
       "    }\n",
       "\n",
       "    .dataframe tbody tr th {\n",
       "        vertical-align: top;\n",
       "    }\n",
       "\n",
       "    .dataframe thead th {\n",
       "        text-align: right;\n",
       "    }\n",
       "</style>\n",
       "<table border=\"1\" class=\"dataframe\">\n",
       "  <thead>\n",
       "    <tr style=\"text-align: right;\">\n",
       "      <th></th>\n",
       "      <th>subwatershed</th>\n",
       "      <th>area</th>\n",
       "      <th>perimeter</th>\n",
       "      <th>circulatory_ratio</th>\n",
       "      <th>relief</th>\n",
       "      <th>avg_slope</th>\n",
       "      <th>watershed_length</th>\n",
       "      <th>elongation_ratio</th>\n",
       "      <th>drainage_density</th>\n",
       "      <th>shape_factor</th>\n",
       "      <th>...</th>\n",
       "      <th>lu_24_area</th>\n",
       "      <th>lu_41_area</th>\n",
       "      <th>lu_82_area</th>\n",
       "      <th>avg_impervious_percent</th>\n",
       "      <th>orb100yr24ha_am</th>\n",
       "      <th>orb25yr24ha_am</th>\n",
       "      <th>orb2yr24ha_am</th>\n",
       "      <th>orb50yr24ha_am</th>\n",
       "      <th>policy_total_building_coverage_avg</th>\n",
       "      <th>claims_total_building_insurance_coverage_avg</th>\n",
       "    </tr>\n",
       "  </thead>\n",
       "  <tbody>\n",
       "    <tr>\n",
       "      <th>0</th>\n",
       "      <td>50800030204</td>\n",
       "      <td>71.677298</td>\n",
       "      <td>46.020782</td>\n",
       "      <td>0.425288</td>\n",
       "      <td>71.490857</td>\n",
       "      <td>3.892551</td>\n",
       "      <td>21.657336</td>\n",
       "      <td>0.441104</td>\n",
       "      <td>5.281157</td>\n",
       "      <td>6.543776</td>\n",
       "      <td>...</td>\n",
       "      <td>0.021967</td>\n",
       "      <td>10.632549</td>\n",
       "      <td>52.330381</td>\n",
       "      <td>0.633946</td>\n",
       "      <td>5599.612793</td>\n",
       "      <td>4591.765625</td>\n",
       "      <td>2625.774658</td>\n",
       "      <td>5094.054199</td>\n",
       "      <td>25890.320120</td>\n",
       "      <td>33940.666450</td>\n",
       "    </tr>\n",
       "    <tr>\n",
       "      <th>1</th>\n",
       "      <td>51201020403</td>\n",
       "      <td>90.022814</td>\n",
       "      <td>54.601063</td>\n",
       "      <td>0.379455</td>\n",
       "      <td>42.432038</td>\n",
       "      <td>1.726250</td>\n",
       "      <td>16.964608</td>\n",
       "      <td>0.631084</td>\n",
       "      <td>4.668109</td>\n",
       "      <td>3.196945</td>\n",
       "      <td>...</td>\n",
       "      <td>0.016072</td>\n",
       "      <td>7.862318</td>\n",
       "      <td>76.583387</td>\n",
       "      <td>0.476848</td>\n",
       "      <td>5953.043457</td>\n",
       "      <td>4679.166504</td>\n",
       "      <td>2509.688477</td>\n",
       "      <td>5299.992676</td>\n",
       "      <td>50564.225580</td>\n",
       "      <td>14171.843030</td>\n",
       "    </tr>\n",
       "    <tr>\n",
       "      <th>2</th>\n",
       "      <td>51201061303</td>\n",
       "      <td>61.214067</td>\n",
       "      <td>56.265707</td>\n",
       "      <td>0.242982</td>\n",
       "      <td>28.827573</td>\n",
       "      <td>0.963398</td>\n",
       "      <td>10.675799</td>\n",
       "      <td>0.826952</td>\n",
       "      <td>4.797476</td>\n",
       "      <td>1.861871</td>\n",
       "      <td>...</td>\n",
       "      <td>0.030316</td>\n",
       "      <td>0.425820</td>\n",
       "      <td>57.837264</td>\n",
       "      <td>0.932902</td>\n",
       "      <td>6299.303223</td>\n",
       "      <td>4963.820312</td>\n",
       "      <td>2660.348389</td>\n",
       "      <td>5617.482910</td>\n",
       "      <td>14272.364260</td>\n",
       "      <td>6688.688164</td>\n",
       "    </tr>\n",
       "    <tr>\n",
       "      <th>3</th>\n",
       "      <td>51201130502</td>\n",
       "      <td>88.814228</td>\n",
       "      <td>62.557067</td>\n",
       "      <td>0.285194</td>\n",
       "      <td>60.097282</td>\n",
       "      <td>3.027722</td>\n",
       "      <td>22.169999</td>\n",
       "      <td>0.479657</td>\n",
       "      <td>4.508082</td>\n",
       "      <td>5.534123</td>\n",
       "      <td>...</td>\n",
       "      <td>0.098821</td>\n",
       "      <td>2.664403</td>\n",
       "      <td>76.516670</td>\n",
       "      <td>1.165766</td>\n",
       "      <td>7079.081543</td>\n",
       "      <td>5566.014648</td>\n",
       "      <td>2983.962891</td>\n",
       "      <td>6303.637207</td>\n",
       "      <td>3503.722054</td>\n",
       "      <td>1.671780</td>\n",
       "    </tr>\n",
       "    <tr>\n",
       "      <th>4</th>\n",
       "      <td>51202010605</td>\n",
       "      <td>85.414836</td>\n",
       "      <td>48.154895</td>\n",
       "      <td>0.462873</td>\n",
       "      <td>16.629288</td>\n",
       "      <td>1.359579</td>\n",
       "      <td>12.156831</td>\n",
       "      <td>0.857830</td>\n",
       "      <td>4.343422</td>\n",
       "      <td>1.730244</td>\n",
       "      <td>...</td>\n",
       "      <td>0.361117</td>\n",
       "      <td>1.436435</td>\n",
       "      <td>73.595816</td>\n",
       "      <td>2.224639</td>\n",
       "      <td>6162.261719</td>\n",
       "      <td>4884.453613</td>\n",
       "      <td>2649.507812</td>\n",
       "      <td>5509.884766</td>\n",
       "      <td>40334.518090</td>\n",
       "      <td>32054.838460</td>\n",
       "    </tr>\n",
       "  </tbody>\n",
       "</table>\n",
       "<p>5 rows × 42 columns</p>\n",
       "</div>"
      ],
      "text/plain": [
       "   subwatershed       area  perimeter  circulatory_ratio     relief  \\\n",
       "0   50800030204  71.677298  46.020782           0.425288  71.490857   \n",
       "1   51201020403  90.022814  54.601063           0.379455  42.432038   \n",
       "2   51201061303  61.214067  56.265707           0.242982  28.827573   \n",
       "3   51201130502  88.814228  62.557067           0.285194  60.097282   \n",
       "4   51202010605  85.414836  48.154895           0.462873  16.629288   \n",
       "\n",
       "   avg_slope  watershed_length  elongation_ratio  drainage_density  \\\n",
       "0   3.892551         21.657336          0.441104          5.281157   \n",
       "1   1.726250         16.964608          0.631084          4.668109   \n",
       "2   0.963398         10.675799          0.826952          4.797476   \n",
       "3   3.027722         22.169999          0.479657          4.508082   \n",
       "4   1.359579         12.156831          0.857830          4.343422   \n",
       "\n",
       "   shape_factor  ...  lu_24_area  lu_41_area  lu_82_area  \\\n",
       "0      6.543776  ...    0.021967   10.632549   52.330381   \n",
       "1      3.196945  ...    0.016072    7.862318   76.583387   \n",
       "2      1.861871  ...    0.030316    0.425820   57.837264   \n",
       "3      5.534123  ...    0.098821    2.664403   76.516670   \n",
       "4      1.730244  ...    0.361117    1.436435   73.595816   \n",
       "\n",
       "   avg_impervious_percent  orb100yr24ha_am  orb25yr24ha_am  orb2yr24ha_am  \\\n",
       "0                0.633946      5599.612793     4591.765625    2625.774658   \n",
       "1                0.476848      5953.043457     4679.166504    2509.688477   \n",
       "2                0.932902      6299.303223     4963.820312    2660.348389   \n",
       "3                1.165766      7079.081543     5566.014648    2983.962891   \n",
       "4                2.224639      6162.261719     4884.453613    2649.507812   \n",
       "\n",
       "   orb50yr24ha_am  policy_total_building_coverage_avg  \\\n",
       "0     5094.054199                        25890.320120   \n",
       "1     5299.992676                        50564.225580   \n",
       "2     5617.482910                        14272.364260   \n",
       "3     6303.637207                         3503.722054   \n",
       "4     5509.884766                        40334.518090   \n",
       "\n",
       "   claims_total_building_insurance_coverage_avg  \n",
       "0                                  33940.666450  \n",
       "1                                  14171.843030  \n",
       "2                                   6688.688164  \n",
       "3                                      1.671780  \n",
       "4                                  32054.838460  \n",
       "\n",
       "[5 rows x 42 columns]"
      ]
     },
     "execution_count": 4,
     "metadata": {},
     "output_type": "execute_result"
    }
   ],
   "source": [
    "print(\"Shape of the Dataset:\",df.shape)\n",
    "#the head method displays the first 5 rows of the data\n",
    "df.head(5)  \n"
   ]
  },
  {
   "cell_type": "markdown",
   "metadata": {},
   "source": [
    "# Metadata\n",
    "*\t**subwatershed** - a unique Id for each subwatershed"
   ]
  },
  {
   "cell_type": "markdown",
   "metadata": {},
   "source": [
    "### Data Exploration"
   ]
  },
  {
   "cell_type": "code",
   "execution_count": 5,
   "metadata": {},
   "outputs": [
    {
     "data": {
      "image/png": "[encoded data removed]",
      "text/plain": [
       "<Figure size 1080x576 with 1 Axes>"
      ]
     },
     "metadata": {
      "needs_background": "light"
     },
     "output_type": "display_data"
    }
   ],
   "source": [
    "#Import matplotlib, python most popular data visualizing library\n",
    "import matplotlib.pyplot as plt\n",
    "%matplotlib inline\n",
    "\n",
    "#Create a histogram to study the Daily Sales for the stores\n",
    "plt.figure(figsize=(15,8)) \n",
    "plt.hist(df[\"claims_total_building_insurance_coverage_avg\"])  \n",
    "plt.title(\"Histogram for Claims\")\n",
    "plt.xlabel(\"bins\")\n",
    "plt.xlabel(\"Frequency\")\n",
    "plt.show()\n"
   ]
  },
  {
   "cell_type": "code",
   "execution_count": 6,
   "metadata": {},
   "outputs": [],
   "source": [
    "#Use the  histogram function provided by the Pandas object\n",
    "#The function returns a cross-tab histogram plot for all numeric columns in the data\n",
    "# df.hist(figsize=(40,20))"
   ]
  },
  {
   "cell_type": "code",
   "execution_count": 7,
   "metadata": {},
   "outputs": [
    {
     "data": {
      "text/plain": [
       "subwatershed                                    0.0\n",
       "area                                            0.0\n",
       "perimeter                                       0.0\n",
       "circulatory_ratio                               0.0\n",
       "relief                                          0.0\n",
       "avg_slope                                       0.0\n",
       "watershed_length                                0.0\n",
       "elongation_ratio                                0.0\n",
       "drainage_density                                0.0\n",
       "shape_factor                                    0.0\n",
       "relief_ratio                                    0.0\n",
       "ruggedness                                      0.0\n",
       "aae_area                                        0.0\n",
       "buildings_aae_count                             0.0\n",
       "x_area                                          0.0\n",
       "buildings_x_count                               0.0\n",
       "water_bodies_area                               0.0\n",
       "dams_count                                      0.0\n",
       "bridges_count                                   0.0\n",
       "streets_km                                      0.0\n",
       "railroads_km                                    0.0\n",
       "population                                      0.0\n",
       "population_density                              0.0\n",
       "avg_median_income                               0.0\n",
       "housing_density                                 0.0\n",
       "population_change                               0.0\n",
       "dependent_population_pct                        0.0\n",
       "dist_to_stream_avg (m)                          0.0\n",
       "dist_to_stream_stdev (m)                        0.0\n",
       "lu_21_area                                      0.0\n",
       "lu_22_area                                      0.0\n",
       "lu_23_area                                      0.0\n",
       "lu_24_area                                      0.0\n",
       "lu_41_area                                      0.0\n",
       "lu_82_area                                      0.0\n",
       "avg_impervious_percent                          0.0\n",
       "orb100yr24ha_am                                 0.0\n",
       "orb25yr24ha_am                                  0.0\n",
       "orb2yr24ha_am                                   0.0\n",
       "orb50yr24ha_am                                  0.0\n",
       "policy_total_building_coverage_avg              0.0\n",
       "claims_total_building_insurance_coverage_avg    0.0\n",
       "dtype: float64"
      ]
     },
     "execution_count": 7,
     "metadata": {},
     "output_type": "execute_result"
    }
   ],
   "source": [
    "df.isnull().sum()/df.shape[0] * 100"
   ]
  },
  {
   "cell_type": "code",
   "execution_count": 8,
   "metadata": {},
   "outputs": [
    {
     "data": {
      "image/png": "[encoded data removed]",
      "text/plain": [
       "<Figure size 432x288 with 1 Axes>"
      ]
     },
     "metadata": {},
     "output_type": "display_data"
    }
   ],
   "source": [
    "sns.set(style=\"whitegrid\")\n",
    "# actuaries prefer averages \n",
    "\n",
    "# Create the bar plot for Average Sales acrss different Seasons\n",
    "ax = sns.barplot(x=\"policy_total_building_coverage_avg\", y=\"claims_total_building_insurance_coverage_avg\", data=df) \n"
   ]
  },
  {
   "cell_type": "markdown",
   "metadata": {},
   "source": [
    "### Data Engineering"
   ]
  },
  {
   "cell_type": "code",
   "execution_count": 9,
   "metadata": {},
   "outputs": [],
   "source": [
    "#Define a variable for each type of feature\n",
    "target = [\"claims_total_building_insurance_coverage_avg\"]\n",
    "test = [x for x in df if x != \"claims_total_building_insurance_coverage_avg\"]\n",
    "numeric_columns = [x for x in test if x != \"subwatershed\"]"
   ]
  },
  {
   "cell_type": "code",
   "execution_count": 10,
   "metadata": {},
   "outputs": [
    {
     "name": "stdout",
     "output_type": "stream",
     "text": [
      "Shape of Data: (32, 42)\n",
      "Distinct Datatypes: [dtype('int64') dtype('float64')]\n"
     ]
    },
    {
     "data": {
      "text/html": [
       "<div>\n",
       "<style scoped>\n",
       "    .dataframe tbody tr th:only-of-type {\n",
       "        vertical-align: middle;\n",
       "    }\n",
       "\n",
       "    .dataframe tbody tr th {\n",
       "        vertical-align: top;\n",
       "    }\n",
       "\n",
       "    .dataframe thead th {\n",
       "        text-align: right;\n",
       "    }\n",
       "</style>\n",
       "<table border=\"1\" class=\"dataframe\">\n",
       "  <thead>\n",
       "    <tr style=\"text-align: right;\">\n",
       "      <th></th>\n",
       "      <th>area</th>\n",
       "      <th>perimeter</th>\n",
       "      <th>circulatory_ratio</th>\n",
       "      <th>relief</th>\n",
       "      <th>avg_slope</th>\n",
       "      <th>watershed_length</th>\n",
       "      <th>elongation_ratio</th>\n",
       "      <th>drainage_density</th>\n",
       "      <th>shape_factor</th>\n",
       "      <th>relief_ratio</th>\n",
       "      <th>...</th>\n",
       "      <th>lu_23_area</th>\n",
       "      <th>lu_24_area</th>\n",
       "      <th>lu_41_area</th>\n",
       "      <th>lu_82_area</th>\n",
       "      <th>avg_impervious_percent</th>\n",
       "      <th>orb100yr24ha_am</th>\n",
       "      <th>orb25yr24ha_am</th>\n",
       "      <th>orb2yr24ha_am</th>\n",
       "      <th>orb50yr24ha_am</th>\n",
       "      <th>policy_total_building_coverage_avg</th>\n",
       "    </tr>\n",
       "  </thead>\n",
       "  <tbody>\n",
       "    <tr>\n",
       "      <th>0</th>\n",
       "      <td>71.677298</td>\n",
       "      <td>46.020782</td>\n",
       "      <td>0.425288</td>\n",
       "      <td>71.490857</td>\n",
       "      <td>3.892551</td>\n",
       "      <td>21.657336</td>\n",
       "      <td>0.441104</td>\n",
       "      <td>5.281157</td>\n",
       "      <td>6.543776</td>\n",
       "      <td>0.003301</td>\n",
       "      <td>...</td>\n",
       "      <td>0.077206</td>\n",
       "      <td>0.021967</td>\n",
       "      <td>10.632549</td>\n",
       "      <td>52.330381</td>\n",
       "      <td>0.633946</td>\n",
       "      <td>5599.612793</td>\n",
       "      <td>4591.765625</td>\n",
       "      <td>2625.774658</td>\n",
       "      <td>5094.054199</td>\n",
       "      <td>25890.320120</td>\n",
       "    </tr>\n",
       "    <tr>\n",
       "      <th>1</th>\n",
       "      <td>90.022814</td>\n",
       "      <td>54.601063</td>\n",
       "      <td>0.379455</td>\n",
       "      <td>42.432038</td>\n",
       "      <td>1.726250</td>\n",
       "      <td>16.964608</td>\n",
       "      <td>0.631084</td>\n",
       "      <td>4.668109</td>\n",
       "      <td>3.196945</td>\n",
       "      <td>0.002501</td>\n",
       "      <td>...</td>\n",
       "      <td>0.073834</td>\n",
       "      <td>0.016072</td>\n",
       "      <td>7.862318</td>\n",
       "      <td>76.583387</td>\n",
       "      <td>0.476848</td>\n",
       "      <td>5953.043457</td>\n",
       "      <td>4679.166504</td>\n",
       "      <td>2509.688477</td>\n",
       "      <td>5299.992676</td>\n",
       "      <td>50564.225580</td>\n",
       "    </tr>\n",
       "    <tr>\n",
       "      <th>2</th>\n",
       "      <td>61.214067</td>\n",
       "      <td>56.265707</td>\n",
       "      <td>0.242982</td>\n",
       "      <td>28.827573</td>\n",
       "      <td>0.963398</td>\n",
       "      <td>10.675799</td>\n",
       "      <td>0.826952</td>\n",
       "      <td>4.797476</td>\n",
       "      <td>1.861871</td>\n",
       "      <td>0.002700</td>\n",
       "      <td>...</td>\n",
       "      <td>0.076454</td>\n",
       "      <td>0.030316</td>\n",
       "      <td>0.425820</td>\n",
       "      <td>57.837264</td>\n",
       "      <td>0.932902</td>\n",
       "      <td>6299.303223</td>\n",
       "      <td>4963.820312</td>\n",
       "      <td>2660.348389</td>\n",
       "      <td>5617.482910</td>\n",
       "      <td>14272.364260</td>\n",
       "    </tr>\n",
       "    <tr>\n",
       "      <th>3</th>\n",
       "      <td>88.814228</td>\n",
       "      <td>62.557067</td>\n",
       "      <td>0.285194</td>\n",
       "      <td>60.097282</td>\n",
       "      <td>3.027722</td>\n",
       "      <td>22.169999</td>\n",
       "      <td>0.479657</td>\n",
       "      <td>4.508082</td>\n",
       "      <td>5.534123</td>\n",
       "      <td>0.002711</td>\n",
       "      <td>...</td>\n",
       "      <td>0.249153</td>\n",
       "      <td>0.098821</td>\n",
       "      <td>2.664403</td>\n",
       "      <td>76.516670</td>\n",
       "      <td>1.165766</td>\n",
       "      <td>7079.081543</td>\n",
       "      <td>5566.014648</td>\n",
       "      <td>2983.962891</td>\n",
       "      <td>6303.637207</td>\n",
       "      <td>3503.722054</td>\n",
       "    </tr>\n",
       "    <tr>\n",
       "      <th>4</th>\n",
       "      <td>85.414836</td>\n",
       "      <td>48.154895</td>\n",
       "      <td>0.462873</td>\n",
       "      <td>16.629288</td>\n",
       "      <td>1.359579</td>\n",
       "      <td>12.156831</td>\n",
       "      <td>0.857830</td>\n",
       "      <td>4.343422</td>\n",
       "      <td>1.730244</td>\n",
       "      <td>0.001368</td>\n",
       "      <td>...</td>\n",
       "      <td>0.832354</td>\n",
       "      <td>0.361117</td>\n",
       "      <td>1.436435</td>\n",
       "      <td>73.595816</td>\n",
       "      <td>2.224639</td>\n",
       "      <td>6162.261719</td>\n",
       "      <td>4884.453613</td>\n",
       "      <td>2649.507812</td>\n",
       "      <td>5509.884766</td>\n",
       "      <td>40334.518090</td>\n",
       "    </tr>\n",
       "  </tbody>\n",
       "</table>\n",
       "<p>5 rows × 40 columns</p>\n",
       "</div>"
      ],
      "text/plain": [
       "        area  perimeter  circulatory_ratio     relief  avg_slope  \\\n",
       "0  71.677298  46.020782           0.425288  71.490857   3.892551   \n",
       "1  90.022814  54.601063           0.379455  42.432038   1.726250   \n",
       "2  61.214067  56.265707           0.242982  28.827573   0.963398   \n",
       "3  88.814228  62.557067           0.285194  60.097282   3.027722   \n",
       "4  85.414836  48.154895           0.462873  16.629288   1.359579   \n",
       "\n",
       "   watershed_length  elongation_ratio  drainage_density  shape_factor  \\\n",
       "0         21.657336          0.441104          5.281157      6.543776   \n",
       "1         16.964608          0.631084          4.668109      3.196945   \n",
       "2         10.675799          0.826952          4.797476      1.861871   \n",
       "3         22.169999          0.479657          4.508082      5.534123   \n",
       "4         12.156831          0.857830          4.343422      1.730244   \n",
       "\n",
       "   relief_ratio  ...  lu_23_area  lu_24_area  lu_41_area  lu_82_area  \\\n",
       "0      0.003301  ...    0.077206    0.021967   10.632549   52.330381   \n",
       "1      0.002501  ...    0.073834    0.016072    7.862318   76.583387   \n",
       "2      0.002700  ...    0.076454    0.030316    0.425820   57.837264   \n",
       "3      0.002711  ...    0.249153    0.098821    2.664403   76.516670   \n",
       "4      0.001368  ...    0.832354    0.361117    1.436435   73.595816   \n",
       "\n",
       "   avg_impervious_percent  orb100yr24ha_am  orb25yr24ha_am  orb2yr24ha_am  \\\n",
       "0                0.633946      5599.612793     4591.765625    2625.774658   \n",
       "1                0.476848      5953.043457     4679.166504    2509.688477   \n",
       "2                0.932902      6299.303223     4963.820312    2660.348389   \n",
       "3                1.165766      7079.081543     5566.014648    2983.962891   \n",
       "4                2.224639      6162.261719     4884.453613    2649.507812   \n",
       "\n",
       "   orb50yr24ha_am  policy_total_building_coverage_avg  \n",
       "0     5094.054199                        25890.320120  \n",
       "1     5299.992676                        50564.225580  \n",
       "2     5617.482910                        14272.364260  \n",
       "3     6303.637207                         3503.722054  \n",
       "4     5509.884766                        40334.518090  \n",
       "\n",
       "[5 rows x 40 columns]"
      ]
     },
     "execution_count": 10,
     "metadata": {},
     "output_type": "execute_result"
    }
   ],
   "source": [
    "print(\"Shape of Data:\",df.shape)\n",
    "print(\"Distinct Datatypes:\",df.dtypes.unique())\n",
    "df[numeric_columns].head(5)"
   ]
  },
  {
   "cell_type": "markdown",
   "metadata": {},
   "source": [
    "### Feature Selection using the LassoCV estimator"
   ]
  },
  {
   "cell_type": "code",
   "execution_count": 11,
   "metadata": {},
   "outputs": [
    {
     "name": "stdout",
     "output_type": "stream",
     "text": [
      "Automatically created module for IPython interactive environment\n"
     ]
    }
   ],
   "source": [
    "print(__doc__)\n",
    "\n",
    "import matplotlib.pyplot as plt\n",
    "import numpy as np\n",
    "\n",
    "from sklearn.datasets import load_diabetes\n",
    "from sklearn.feature_selection import SelectFromModel\n",
    "from sklearn.linear_model import LassoCV"
   ]
  },
  {
   "cell_type": "code",
   "execution_count": 12,
   "metadata": {},
   "outputs": [],
   "source": [
    "X = df[numeric_columns]"
   ]
  },
  {
   "cell_type": "code",
   "execution_count": 13,
   "metadata": {},
   "outputs": [
    {
     "data": {
      "text/html": [
       "<div>\n",
       "<style scoped>\n",
       "    .dataframe tbody tr th:only-of-type {\n",
       "        vertical-align: middle;\n",
       "    }\n",
       "\n",
       "    .dataframe tbody tr th {\n",
       "        vertical-align: top;\n",
       "    }\n",
       "\n",
       "    .dataframe thead th {\n",
       "        text-align: right;\n",
       "    }\n",
       "</style>\n",
       "<table border=\"1\" class=\"dataframe\">\n",
       "  <thead>\n",
       "    <tr style=\"text-align: right;\">\n",
       "      <th></th>\n",
       "      <th>area</th>\n",
       "      <th>perimeter</th>\n",
       "      <th>circulatory_ratio</th>\n",
       "      <th>relief</th>\n",
       "      <th>avg_slope</th>\n",
       "      <th>watershed_length</th>\n",
       "      <th>elongation_ratio</th>\n",
       "      <th>drainage_density</th>\n",
       "      <th>shape_factor</th>\n",
       "      <th>relief_ratio</th>\n",
       "      <th>...</th>\n",
       "      <th>lu_23_area</th>\n",
       "      <th>lu_24_area</th>\n",
       "      <th>lu_41_area</th>\n",
       "      <th>lu_82_area</th>\n",
       "      <th>avg_impervious_percent</th>\n",
       "      <th>orb100yr24ha_am</th>\n",
       "      <th>orb25yr24ha_am</th>\n",
       "      <th>orb2yr24ha_am</th>\n",
       "      <th>orb50yr24ha_am</th>\n",
       "      <th>policy_total_building_coverage_avg</th>\n",
       "    </tr>\n",
       "  </thead>\n",
       "  <tbody>\n",
       "    <tr>\n",
       "      <th>0</th>\n",
       "      <td>71.677298</td>\n",
       "      <td>46.020782</td>\n",
       "      <td>0.425288</td>\n",
       "      <td>71.490857</td>\n",
       "      <td>3.892551</td>\n",
       "      <td>21.657336</td>\n",
       "      <td>0.441104</td>\n",
       "      <td>5.281157</td>\n",
       "      <td>6.543776</td>\n",
       "      <td>0.003301</td>\n",
       "      <td>...</td>\n",
       "      <td>0.077206</td>\n",
       "      <td>0.021967</td>\n",
       "      <td>10.632549</td>\n",
       "      <td>52.330381</td>\n",
       "      <td>0.633946</td>\n",
       "      <td>5599.612793</td>\n",
       "      <td>4591.765625</td>\n",
       "      <td>2625.774658</td>\n",
       "      <td>5094.054199</td>\n",
       "      <td>25890.320120</td>\n",
       "    </tr>\n",
       "    <tr>\n",
       "      <th>1</th>\n",
       "      <td>90.022814</td>\n",
       "      <td>54.601063</td>\n",
       "      <td>0.379455</td>\n",
       "      <td>42.432038</td>\n",
       "      <td>1.726250</td>\n",
       "      <td>16.964608</td>\n",
       "      <td>0.631084</td>\n",
       "      <td>4.668109</td>\n",
       "      <td>3.196945</td>\n",
       "      <td>0.002501</td>\n",
       "      <td>...</td>\n",
       "      <td>0.073834</td>\n",
       "      <td>0.016072</td>\n",
       "      <td>7.862318</td>\n",
       "      <td>76.583387</td>\n",
       "      <td>0.476848</td>\n",
       "      <td>5953.043457</td>\n",
       "      <td>4679.166504</td>\n",
       "      <td>2509.688477</td>\n",
       "      <td>5299.992676</td>\n",
       "      <td>50564.225580</td>\n",
       "    </tr>\n",
       "    <tr>\n",
       "      <th>2</th>\n",
       "      <td>61.214067</td>\n",
       "      <td>56.265707</td>\n",
       "      <td>0.242982</td>\n",
       "      <td>28.827573</td>\n",
       "      <td>0.963398</td>\n",
       "      <td>10.675799</td>\n",
       "      <td>0.826952</td>\n",
       "      <td>4.797476</td>\n",
       "      <td>1.861871</td>\n",
       "      <td>0.002700</td>\n",
       "      <td>...</td>\n",
       "      <td>0.076454</td>\n",
       "      <td>0.030316</td>\n",
       "      <td>0.425820</td>\n",
       "      <td>57.837264</td>\n",
       "      <td>0.932902</td>\n",
       "      <td>6299.303223</td>\n",
       "      <td>4963.820312</td>\n",
       "      <td>2660.348389</td>\n",
       "      <td>5617.482910</td>\n",
       "      <td>14272.364260</td>\n",
       "    </tr>\n",
       "    <tr>\n",
       "      <th>3</th>\n",
       "      <td>88.814228</td>\n",
       "      <td>62.557067</td>\n",
       "      <td>0.285194</td>\n",
       "      <td>60.097282</td>\n",
       "      <td>3.027722</td>\n",
       "      <td>22.169999</td>\n",
       "      <td>0.479657</td>\n",
       "      <td>4.508082</td>\n",
       "      <td>5.534123</td>\n",
       "      <td>0.002711</td>\n",
       "      <td>...</td>\n",
       "      <td>0.249153</td>\n",
       "      <td>0.098821</td>\n",
       "      <td>2.664403</td>\n",
       "      <td>76.516670</td>\n",
       "      <td>1.165766</td>\n",
       "      <td>7079.081543</td>\n",
       "      <td>5566.014648</td>\n",
       "      <td>2983.962891</td>\n",
       "      <td>6303.637207</td>\n",
       "      <td>3503.722054</td>\n",
       "    </tr>\n",
       "    <tr>\n",
       "      <th>4</th>\n",
       "      <td>85.414836</td>\n",
       "      <td>48.154895</td>\n",
       "      <td>0.462873</td>\n",
       "      <td>16.629288</td>\n",
       "      <td>1.359579</td>\n",
       "      <td>12.156831</td>\n",
       "      <td>0.857830</td>\n",
       "      <td>4.343422</td>\n",
       "      <td>1.730244</td>\n",
       "      <td>0.001368</td>\n",
       "      <td>...</td>\n",
       "      <td>0.832354</td>\n",
       "      <td>0.361117</td>\n",
       "      <td>1.436435</td>\n",
       "      <td>73.595816</td>\n",
       "      <td>2.224639</td>\n",
       "      <td>6162.261719</td>\n",
       "      <td>4884.453613</td>\n",
       "      <td>2649.507812</td>\n",
       "      <td>5509.884766</td>\n",
       "      <td>40334.518090</td>\n",
       "    </tr>\n",
       "  </tbody>\n",
       "</table>\n",
       "<p>5 rows × 40 columns</p>\n",
       "</div>"
      ],
      "text/plain": [
       "        area  perimeter  circulatory_ratio     relief  avg_slope  \\\n",
       "0  71.677298  46.020782           0.425288  71.490857   3.892551   \n",
       "1  90.022814  54.601063           0.379455  42.432038   1.726250   \n",
       "2  61.214067  56.265707           0.242982  28.827573   0.963398   \n",
       "3  88.814228  62.557067           0.285194  60.097282   3.027722   \n",
       "4  85.414836  48.154895           0.462873  16.629288   1.359579   \n",
       "\n",
       "   watershed_length  elongation_ratio  drainage_density  shape_factor  \\\n",
       "0         21.657336          0.441104          5.281157      6.543776   \n",
       "1         16.964608          0.631084          4.668109      3.196945   \n",
       "2         10.675799          0.826952          4.797476      1.861871   \n",
       "3         22.169999          0.479657          4.508082      5.534123   \n",
       "4         12.156831          0.857830          4.343422      1.730244   \n",
       "\n",
       "   relief_ratio  ...  lu_23_area  lu_24_area  lu_41_area  lu_82_area  \\\n",
       "0      0.003301  ...    0.077206    0.021967   10.632549   52.330381   \n",
       "1      0.002501  ...    0.073834    0.016072    7.862318   76.583387   \n",
       "2      0.002700  ...    0.076454    0.030316    0.425820   57.837264   \n",
       "3      0.002711  ...    0.249153    0.098821    2.664403   76.516670   \n",
       "4      0.001368  ...    0.832354    0.361117    1.436435   73.595816   \n",
       "\n",
       "   avg_impervious_percent  orb100yr24ha_am  orb25yr24ha_am  orb2yr24ha_am  \\\n",
       "0                0.633946      5599.612793     4591.765625    2625.774658   \n",
       "1                0.476848      5953.043457     4679.166504    2509.688477   \n",
       "2                0.932902      6299.303223     4963.820312    2660.348389   \n",
       "3                1.165766      7079.081543     5566.014648    2983.962891   \n",
       "4                2.224639      6162.261719     4884.453613    2649.507812   \n",
       "\n",
       "   orb50yr24ha_am  policy_total_building_coverage_avg  \n",
       "0     5094.054199                        25890.320120  \n",
       "1     5299.992676                        50564.225580  \n",
       "2     5617.482910                        14272.364260  \n",
       "3     6303.637207                         3503.722054  \n",
       "4     5509.884766                        40334.518090  \n",
       "\n",
       "[5 rows x 40 columns]"
      ]
     },
     "execution_count": 13,
     "metadata": {},
     "output_type": "execute_result"
    }
   ],
   "source": [
    "X.head(5)"
   ]
  },
  {
   "cell_type": "code",
   "execution_count": 14,
   "metadata": {},
   "outputs": [],
   "source": [
    "y = df[target]\n",
    "X = df[numeric_columns]"
   ]
  },
  {
   "cell_type": "markdown",
   "metadata": {},
   "source": [
    "## Lasso Feature Selection "
   ]
  },
  {
   "cell_type": "code",
   "execution_count": 15,
   "metadata": {},
   "outputs": [
    {
     "name": "stdout",
     "output_type": "stream",
     "text": [
      "[0.         0.         0.         0.         0.         0.\n",
      " 0.         0.         0.         0.         0.         0.\n",
      " 0.         0.         0.         0.         0.         0.\n",
      " 0.         0.         0.00465607 0.0047908  0.         0.\n",
      " 0.         0.         0.         0.         0.         0.\n",
      " 0.         0.         0.         0.         0.         0.\n",
      " 0.         0.         0.         0.37572584]\n"
     ]
    }
   ],
   "source": [
    "lasso_clf = LassoCV().fit(X, y.values.ravel())\n",
    "lasso_importance = np.abs(lasso_clf.coef_)\n",
    "print(lasso_importance)"
   ]
  },
  {
   "cell_type": "markdown",
   "metadata": {},
   "source": [
    "## Ridge Feature Selection"
   ]
  },
  {
   "cell_type": "code",
   "execution_count": 16,
   "metadata": {},
   "outputs": [
    {
     "data": {
      "text/plain": [
       "array([1.489450e+03, 4.655660e+02, 3.673520e+02, 9.906600e+01,\n",
       "       3.313821e+03, 2.204836e+03, 7.435520e+02, 2.073830e+02,\n",
       "       9.145910e+02, 6.037000e+00, 7.425660e+02, 2.155360e+02,\n",
       "       4.659000e+00, 3.849150e+02, 3.534000e+00, 4.741830e+03,\n",
       "       3.234942e+03, 1.318748e+03, 7.084800e+01, 5.584500e+02,\n",
       "       1.306000e+00, 9.435000e+00, 3.430000e-01, 4.616800e+01,\n",
       "       1.099000e+00, 2.977421e+03, 3.900720e+02, 5.206620e+02,\n",
       "       1.225591e+03, 5.088701e+03, 1.913463e+03, 1.282108e+03,\n",
       "       5.780720e+02, 1.095596e+03, 2.783771e+03, 7.307590e+02,\n",
       "       2.999120e+02, 2.978940e+02, 1.228825e+03, 6.870000e-01])"
      ]
     },
     "execution_count": 16,
     "metadata": {},
     "output_type": "execute_result"
    }
   ],
   "source": [
    "ridge_clf = Ridge().fit(X, y.values.ravel())\n",
    "ridge_importance = np.abs(ridge_clf.coef_)\n",
    "np.round(ridge_importance,3)"
   ]
  },
  {
   "cell_type": "code",
   "execution_count": 17,
   "metadata": {},
   "outputs": [
    {
     "name": "stdout",
     "output_type": "stream",
     "text": [
      "[22 39 24 20 14 12  9 21 23 18  3  7 11 37 36  2 13 26  1 27 19 32 35 10\n",
      "  6  8 33 28 38 31 17  0 30  5 34 25 16  4 15 29]\n",
      "Threshold is: 3323.820533597778\n",
      "Selected features: ['lu_22_area' 'water_bodies_area' 'avg_slope' 'dams_count'\n",
      " 'dependent_population_pct' 'avg_impervious_percent' 'watershed_length'\n",
      " 'lu_23_area' 'area' 'bridges_count']\n"
     ]
    }
   ],
   "source": [
    "ridge_importance = np.abs(ridge_clf.coef_)\n",
    "np.round(ridge_importance,3)\n",
    "\n",
    "feature_names = numeric_columns\n",
    "idx_third = ridge_importance.argsort()[-3]\n",
    "print(ridge_importance.argsort())\n",
    "\n",
    "ridge_threshold = ridge_importance[idx_third] + 10\n",
    "print('Threshold is: {}'.format(ridge_threshold))\n",
    "\n",
    "# # How many features do we want?\n",
    "# # Get the indicies\n",
    "idx_features = (-ridge_importance).argsort()[:10]\n",
    "\n",
    "# # subset by the indicies\n",
    "name_features = np.array(feature_names)[idx_features]\n",
    "print('Selected features: {}'.format(name_features))"
   ]
  },
  {
   "cell_type": "code",
   "execution_count": 18,
   "metadata": {},
   "outputs": [],
   "source": [
    "# ridge_threshold = ridge_importance[idx_third] + 10\n",
    "# print('Threshold is: {}'.format(ridge_threshold))"
   ]
  },
  {
   "cell_type": "code",
   "execution_count": 19,
   "metadata": {},
   "outputs": [],
   "source": [
    "# # How many features do we want?\n",
    "# # Get the indicies\n",
    "# idx_features = (-ridge_importance).argsort()[:10]\n",
    "\n",
    "# # subset by the indicies\n",
    "# name_features = np.array(feature_names)[idx_features]\n",
    "# print('Selected features: {}'.format(name_features))"
   ]
  },
  {
   "cell_type": "code",
   "execution_count": 20,
   "metadata": {},
   "outputs": [],
   "source": [
    "# sfm = SelectFromModel(ridge_clf, threshold=ridge_threshold)\n",
    "# sfm.fit(X, y.values.ravel())\n",
    "# X_transform = sfm.transform(X)\n",
    "\n",
    "# n_features = sfm.transform(X).shape[1]"
   ]
  },
  {
   "cell_type": "markdown",
   "metadata": {},
   "source": [
    "### Min Max Normalization"
   ]
  },
  {
   "cell_type": "code",
   "execution_count": 21,
   "metadata": {},
   "outputs": [
    {
     "data": {
      "text/plain": [
       "array([[0.   , 0.358, 0.153, ..., 0.151, 0.382, 0.35 ],\n",
       "       [0.02 , 0.579, 0.268, ..., 0.292, 0.746, 0.146],\n",
       "       [0.02 , 0.232, 0.291, ..., 0.511, 0.211, 0.069],\n",
       "       ...,\n",
       "       [0.02 , 0.253, 0.159, ..., 1.   , 0.917, 0.001],\n",
       "       [1.   , 0.238, 0.14 , ..., 0.808, 0.   , 0.   ],\n",
       "       [0.02 , 0.134, 0.034, ..., 0.   , 0.51 , 0.01 ]])"
      ]
     },
     "execution_count": 21,
     "metadata": {},
     "output_type": "execute_result"
    }
   ],
   "source": [
    "from sklearn.preprocessing import MinMaxScaler\n",
    "scaler = MinMaxScaler()\n",
    "scaler.fit(df)\n",
    "df_scale = scaler.transform(df)\n",
    "np.round(df_scale, 3)"
   ]
  },
  {
   "cell_type": "code",
   "execution_count": 22,
   "metadata": {},
   "outputs": [],
   "source": [
    "df_scale_dataframe = pd.DataFrame(df_scale, columns = df.columns.values)"
   ]
  },
  {
   "cell_type": "code",
   "execution_count": null,
   "metadata": {},
   "outputs": [],
   "source": [
    "#df_scale_dataframe.hist(figsize=(40,20))\n",
    "# df_scale_dataframe.to_csv(\"IN_ML_scale.csv\")"
   ]
  },
  {
   "cell_type": "code",
   "execution_count": null,
   "metadata": {},
   "outputs": [],
   "source": [
    "import os\n",
    "cwd = os.getcwd()\n",
    "cwd"
   ]
  },
  {
   "cell_type": "markdown",
   "metadata": {},
   "source": [
    "## Train Test Split"
   ]
  },
  {
   "cell_type": "code",
   "execution_count": null,
   "metadata": {},
   "outputs": [],
   "source": [
    "#Create train and test dataset with an 80:20 split\n",
    "x_train, x_test, y_train, y_test = train_test_split(df_scale_dataframe[numeric_columns],df_scale_dataframe[target],test_size=0.2,random_state=2018)\n",
    "# Further divide training dataset into train and validation dataset with an 90:10 split\n",
    "x_train, x_val, y_train, y_val = train_test_split(x_train,y_train,test_size=0.1,random_state=2018)\n",
    "\n",
    "#Check the sizes of all newly created datasets\n",
    "print(\"Shape of x_train:\",x_train.shape)\n",
    "print(\"Shape of x_val:\",x_val.shape)\n",
    "print(\"Shape of x_test:\",x_test.shape)\n",
    "print(\"Shape of y_train:\",y_train.shape)\n",
    "print(\"Shape of y_val:\",y_val.shape)\n",
    "print(\"Shape of y_test:\",y_test.shape)"
   ]
  },
  {
   "cell_type": "markdown",
   "metadata": {},
   "source": [
    "## Modelling a ridge regression in Python"
   ]
  },
  {
   "cell_type": "code",
   "execution_count": null,
   "metadata": {},
   "outputs": [],
   "source": [
    "###Model Ridge regression\n",
    "from sklearn.linear_model import Ridge, RidgeCV, ElasticNet, LassoCV, LassoLarsCV\n",
    "from sklearn.model_selection import cross_val_score\n",
    "cross_val_score(Ridge(), x_train, y_train, scoring= \"neg_mean_squared_error\", cv = 5)"
   ]
  },
  {
   "cell_type": "code",
   "execution_count": null,
   "metadata": {},
   "outputs": [],
   "source": [
    "# Let’s look at the coefficients of the model:\n",
    "rmse_ridge = np.sqrt(-cross_val_score(Ridge(), x_train, y_train, scoring=\"neg_mean_squared_error\", cv = 5))\n",
    "rmse_ridge"
   ]
  },
  {
   "cell_type": "code",
   "execution_count": null,
   "metadata": {},
   "outputs": [],
   "source": [
    "# sns.set_style(\"white\")\n",
    "# # Now let us look at a chart about the coefficients in the model:\n",
    "# alphas = np.arange(0,2,0.1)\n",
    "# def rmse_cv(model):\n",
    "#     rmse= np.sqrt(-cross_val_score(model, x_train, y_train, scoring=\"neg_mean_squared_error\", cv = 5))\n",
    "#     return(rmse)\n",
    "# cv_ridge = [rmse_cv(Ridge(alpha = alpha)).mean() \n",
    "#             for alpha in alphas]\n",
    "# cv_ridge = pd.Series(cv_ridge, index = alphas)\n",
    "# cv_ridge.plot(title = \"Validation\")\n",
    "# plt.xlabel(\"alpha\")\n",
    "# plt.ylabel(\"rmse\")"
   ]
  },
  {
   "cell_type": "code",
   "execution_count": null,
   "metadata": {},
   "outputs": [],
   "source": [
    "cv_ridge[cv_ridge.values == cv_ridge.min()]"
   ]
  },
  {
   "cell_type": "code",
   "execution_count": null,
   "metadata": {},
   "outputs": [],
   "source": [
    "ridge_clf = Ridge(alpha = 0.7).fit(x_train, y_train.values.ravel())"
   ]
  },
  {
   "cell_type": "code",
   "execution_count": null,
   "metadata": {},
   "outputs": [],
   "source": [
    "clf = LassoCV().fit(x_train, y_train)\n",
    "importance = np.abs(clf.coef_)\n",
    "print(importance)\n",
    "\n",
    "idx_third = importance.argsort()[-3]\n",
    "threshold = importance[idx_third] + 0.001\n",
    "\n",
    "idx_features = (-importance).argsort()[:2]\n",
    "name_features = np.array(feature_names)[idx_features]\n",
    "print('Selected features: {}'.format(name_features))\n",
    "\n",
    "sfm = SelectFromModel(clf, threshold=threshold)\n",
    "sfm.fit(x_train, y_train)\n",
    "X_transform = sfm.transform(X)\n",
    "\n",
    "n_features = sfm.transform(X).shape[1]"
   ]
  },
  {
   "cell_type": "code",
   "execution_count": null,
   "metadata": {},
   "outputs": [],
   "source": [
    "X_transform"
   ]
  },
  {
   "cell_type": "code",
   "execution_count": null,
   "metadata": {},
   "outputs": [],
   "source": [
    "plt.title(\n",
    "    \"Features from diabets using SelectFromModel with \"\n",
    "    \"threshold %0.3f.\" % sfm.threshold)\n",
    "feature1 = X_transform[:, 0]\n",
    "feature2 = X_transform[:, 1]\n",
    "plt.plot(feature1, feature2, 'r.')\n",
    "plt.xlabel(\"First feature: {}\".format(name_features[0]))\n",
    "plt.ylabel(\"Second feature: {}\".format(name_features[1]))\n",
    "plt.ylim([np.min(feature2), np.max(feature2)])\n",
    "plt.show()"
   ]
  },
  {
   "cell_type": "code",
   "execution_count": null,
   "metadata": {},
   "outputs": [],
   "source": [
    "ridge_importance = np.abs(ridge_clf.coef_)\n",
    "np.round(ridge_importance,3)\n",
    "\n",
    "feature_names = numeric_columns\n",
    "idx_third = ridge_importance.argsort()[-3]\n",
    "print(ridge_importance.argsort())\n",
    "\n",
    "ridge_threshold = ridge_importance[idx_third] + 0.000001\n",
    "print('Threshold is: {}'.format(ridge_threshold))\n",
    "\n",
    "# # How many features do we want?\n",
    "# # Get the indicies\n",
    "idx_features = (-ridge_importance).argsort()\n",
    "\n",
    "# # subset by the indicies\n",
    "name_features = np.array(feature_names)[idx_features]\n",
    "print('Selected features: {}'.format(name_features))"
   ]
  },
  {
   "cell_type": "code",
   "execution_count": null,
   "metadata": {},
   "outputs": [],
   "source": [
    "# ###Model Lasso regression\n",
    "# coef = pd.Series(model_ridge.coef_, index = x_train.columns)\n",
    "# coef.head()"
   ]
  },
  {
   "cell_type": "code",
   "execution_count": null,
   "metadata": {},
   "outputs": [],
   "source": [
    "# ###Model Lasso regression\n",
    "# model_lasso = LassoCV(alphas=alphas).fit(x_train, y_train.values.ravel())\n",
    "# coef = pd.Series(model_lasso.coef_, index = x_train.columns)\n",
    "# print(\"Lasso picked \" + str(sum(coef != 0)) + \" variables and eliminated the other \" +  str(sum(coef == 0)) + \" variables\")"
   ]
  },
  {
   "cell_type": "code",
   "execution_count": null,
   "metadata": {},
   "outputs": [],
   "source": [
    "# imp_coef = pd.concat([coef.sort_values().head(10),\n",
    "#                      coef.sort_values().tail(10)])\n",
    "# matplotlib.rcParams['figure.figsize'] = (8.0, 10.0)\n",
    "# imp_coef.plot(kind = \"barh\")\n",
    "# plt.title(\"Coefficients in the Lasso Model\")"
   ]
  },
  {
   "cell_type": "code",
   "execution_count": null,
   "metadata": {},
   "outputs": [],
   "source": [
    "# import matplotlib\n",
    "# imp_coef = pd.concat([coef.sort_values().head(10),\n",
    "#                      coef.sort_values().tail(10)])\n",
    "# matplotlib.rcParams['figure.figsize'] = (8.0, 10.0)\n",
    "# imp_coef.plot(kind = \"barh\")\n",
    "# plt.title(\"Coefficients in the Lasso Model\")"
   ]
  },
  {
   "cell_type": "markdown",
   "metadata": {},
   "source": [
    "### Creating Baseline Accuracy"
   ]
  },
  {
   "cell_type": "code",
   "execution_count": null,
   "metadata": {},
   "outputs": [],
   "source": [
    "#calcualte the average score of the train dataset\n",
    "mean_claims = y_train.mean()\n",
    "print(\"Average Claims :\",mean_claims) "
   ]
  },
  {
   "cell_type": "code",
   "execution_count": null,
   "metadata": {},
   "outputs": [],
   "source": [
    "#Calculate the Mean Absolute Error on the test dataset\n",
    "print(\"MAE for Test Data:\",abs(y_test - mean_claims).mean()[0])"
   ]
  },
  {
   "cell_type": "markdown",
   "metadata": {},
   "source": [
    "# ------------ GLM -----------------"
   ]
  },
  {
   "cell_type": "code",
   "execution_count": null,
   "metadata": {},
   "outputs": [],
   "source": [
    "# pip uninstall h2o"
   ]
  },
  {
   "cell_type": "code",
   "execution_count": null,
   "metadata": {},
   "outputs": [],
   "source": [
    "# import h2o"
   ]
  },
  {
   "cell_type": "markdown",
   "metadata": {},
   "source": [
    "# -------------- Deep Learning ------------------\n",
    "### Designing the Deep Neural Network"
   ]
  },
  {
   "cell_type": "code",
   "execution_count": null,
   "metadata": {},
   "outputs": [],
   "source": [
    "#Create Deep Neural Network Architecuture\n",
    "from keras import Sequential\n",
    "from keras.layers import Dense, Dropout\n",
    "\n",
    "model = Sequential()\n",
    "model.add(Dense(150,input_dim = 40, activation=\"relu\", use_bias=True))\n",
    "model.add(Dense(1, activation = \"linear\"))\n",
    "\n",
    "#Configure the model\n",
    "model.compile(optimizer='adam', loss=\"mean_absolute_error\", metrics=[\"mean_absolute_error\"])\n",
    "\n",
    "#Train the model\n",
    "model.fit(x_train,y_train, validation_data=(x_val,y_val),epochs=100,batch_size=64)\n",
    "\n",
    "result = model.evaluate(x_test,y_test)\n",
    "for i in range(len(model.metrics_names)):\n",
    "    print(\"Metric \",model.metrics_names[i],\":\",str(round(result[i],2)))"
   ]
  },
  {
   "cell_type": "code",
   "execution_count": null,
   "metadata": {},
   "outputs": [],
   "source": [
    "#Use the model's evaluate method to predict and evaluate the test datasets\n",
    "result = model.evaluate(x_test,y_test)\n",
    "\n",
    "#Print the results\n",
    "for i in range(len(model.metrics_names)):\n",
    "    print(\"Metric \",model.metrics_names[i],\":\",str(round(result[i],2)))"
   ]
  },
  {
   "cell_type": "code",
   "execution_count": null,
   "metadata": {},
   "outputs": [],
   "source": [
    "model = Sequential()\n",
    "model.add(Dense(150,input_dim = 40, activation=\"relu\", use_bias=True))\n",
    "model.add(Dense(150,activation=\"relu\"))\n",
    "model.add(Dense(150,activation=\"relu\"))\n",
    "model.add(Dense(1,activation = \"linear\"))\n",
    "\n",
    "model.compile(optimizer='adam',loss=\"mean_squared_error\",metrics=[\"mean_absolute_error\"])\n",
    "\n",
    "history = model.fit(x_train,y_train, validation_data=(x_val,y_val),epochs=10,batch_size=64)\n",
    "\n",
    "#result = model.evaluate(x_test,y_test)\n",
    "for i in range(len(model.metrics_names)):\n",
    "    print(\"Metric \",model.metrics_names[i],\":\",str(round(result[i],2)))\n"
   ]
  },
  {
   "cell_type": "code",
   "execution_count": null,
   "metadata": {},
   "outputs": [],
   "source": [
    "# model = Sequential()\n",
    "# model.add(Dense(150,input_dim = 40, activation=\"relu\", use_bias=True))\n",
    "# model.add(Dense(1, activation = \"linear\"))\n",
    "\n",
    "# #Configure the model\n",
    "# model.compile(optimizer='adam', loss=\"mean_absolute_error\", metrics=[\"mean_absolute_error\"])\n",
    "\n",
    "# #Train the model\n",
    "# model.fit(x_train,y_train, validation_data=(x_val,y_val),epochs=100,batch_size=64)\n",
    "\n",
    "model = Sequential()\n",
    "model.add(Dense(150, input_dim = 40, activation=\"relu\", use_bias=True))\n",
    "model.add(Dense(150, activation=\"relu\", use_bias=True))\n",
    "model.add(Dense(150, activation=\"relu\", use_bias=True))\n",
    "model.add(Dense(150, activation=\"relu\", use_bias=True))\n",
    "model.add(Dense(150, activation=\"relu\", use_bias=True))\n",
    "model.add(Dense(1, activation = \"linear\", use_bias=True))\n",
    "\n",
    "model.compile(optimizer='adam',loss=\"mean_squared_error\",metrics=[\"mean_absolute_error\"])\n",
    "\n",
    "model.fit(x_train,y_train, validation_data=(x_val,y_val),epochs=30,batch_size=64)\n",
    "\n",
    "result = model.evaluate(x_test,y_test)\n",
    "for i in range(len(model.metrics_names)):\n",
    "    print(\"Metric \",model.metrics_names[i],\":\",str(round(result[i],2)))"
   ]
  },
  {
   "cell_type": "code",
   "execution_count": null,
   "metadata": {},
   "outputs": [],
   "source": [
    "model = Sequential()\n",
    "model.add(Dense(350,input_dim = 40,activation=\"relu\"))\n",
    "model.add(Dense(350,activation=\"relu\"))\n",
    "model.add(Dense(1,activation = \"linear\"))\n",
    "\n",
    "model.compile(optimizer='adam',loss=\"mean_squared_error\",metrics=[\"mean_absolute_error\"])\n",
    "\n",
    "model.fit(x_train,y_train, validation_data=(x_val,y_val),epochs=15,batch_size=64)\n",
    "\n",
    "result = model.evaluate(x_test,y_test)\n",
    "for i in range(len(model.metrics_names)):\n",
    "    print(\"Metric \",model.metrics_names[i],\":\",str(round(result[i],2)))\n"
   ]
  },
  {
   "cell_type": "markdown",
   "metadata": {},
   "source": [
    "### Training the model with increased number of epochs"
   ]
  },
  {
   "cell_type": "code",
   "execution_count": null,
   "metadata": {},
   "outputs": [],
   "source": [
    "from keras.callbacks import History\n",
    "from keras.callbacks import EarlyStopping, ModelCheckpoint\n",
    "\n",
    "history = History()\n",
    "callbacks = [EarlyStopping(monitor='val_accuracy', patience=3), history] # Early Stopping\n",
    "\n",
    "model = Sequential()\n",
    "model.add(Dense(350,input_dim = 40,activation=\"relu\"))\n",
    "model.add(Dropout(0.2, input_shape=(40,)))\n",
    "model.add(Dense(350,activation=\"relu\"))\n",
    "model.add(Dropout(0.2, input_shape=(40,)))\n",
    "model.add(Dense(350,activation=\"relu\"))\n",
    "model.add(Dropout(0.2, input_shape=(40,)))\n",
    "model.add(Dense(350,activation=\"relu\"))\n",
    "model.add(Dropout(0.2, input_shape=(40,)))\n",
    "model.add(Dense(350,activation=\"relu\"))\n",
    "model.add(Dropout(0.2, input_shape=(40,)))\n",
    "model.add(Dense(1,activation = \"linear\"))\n",
    "\n",
    "model.compile(optimizer='adam',loss=\"mean_squared_error\",metrics=[\"mean_absolute_error\"])\n",
    "\n",
    "model.fit(x_train,y_train, validation_data=(x_val,y_val), \n",
    "epochs=150,batch_size=64,callbacks=callbacks)\n",
    "\n",
    "result = model.evaluate(x_test,y_test)\n",
    "\n",
    "for i in range(len(model.metrics_names)):\n",
    "    print(\"Metric \",model.metrics_names[i],\":\",str(round(result[i],2)))\n"
   ]
  },
  {
   "cell_type": "markdown",
   "metadata": {},
   "source": [
    "### Visualing the final results"
   ]
  },
  {
   "cell_type": "code",
   "execution_count": null,
   "metadata": {},
   "outputs": [],
   "source": [
    "plt.plot(history.history['loss'])\n",
    "plt.plot(history.history['val_loss'])\n",
    "plt.title(\"Model's Training & Validation loss across epochs\")\n",
    "plt.ylabel('Loss')\n",
    "plt.xlabel('Epochs')\n",
    "plt.legend(['Train', 'Validation'], loc='upper right')\n",
    "plt.show()\n"
   ]
  },
  {
   "cell_type": "code",
   "execution_count": null,
   "metadata": {},
   "outputs": [],
   "source": [
    "#Manually predicting from the model, instead of using model's evaluate function\n",
    "y_test[\"Prediction\"] = model.predict(x_test)\n",
    "y_test.columns = [\"Actual Claims\",\"Predicted Claims\"]\n",
    "print(y_test.head(10))\n",
    "\n",
    "# #Manually predicting from the model, instead of using model's evaluate function\n",
    "from sklearn.metrics import mean_squared_error, mean_absolute_error\n",
    "print(\"MSE :\",mean_squared_error(y_test[\"Actual Claims\"].values,y_test[\"Predicted Claims\"].values))\n",
    "print(\"MAE :\",mean_absolute_error(y_test[\"Actual Claims\"].values,y_test[\"Predicted Claims\"].values))"
   ]
  },
  {
   "cell_type": "code",
   "execution_count": null,
   "metadata": {},
   "outputs": [],
   "source": [
    "# permutation feature importance with knn for regression\n",
    "from sklearn.datasets import make_regression\n",
    "from sklearn.neighbors import KNeighborsRegressor\n",
    "from sklearn.inspection import permutation_importance\n",
    "from matplotlib import pyplot\n",
    "\n",
    "# define the model\n",
    "model = KNeighborsRegressor()\n",
    "# fit the model\n",
    "model.fit(X, y)\n",
    "# perform permutation importance\n",
    "results = permutation_importance(model, X, y, scoring='neg_mean_squared_error')\n",
    "# get importance\n",
    "importance = results.importances_mean\n",
    "# summarize feature importance\n",
    "for i,v in enumerate(importance):\n",
    "\tprint('Feature: %0d, Score: %.5f' % (i,v))\n",
    "# plot feature importance\n",
    "pyplot.bar([x for x in range(len(importance))], importance)\n",
    "pyplot.show()"
   ]
  },
  {
   "cell_type": "code",
   "execution_count": null,
   "metadata": {},
   "outputs": [],
   "source": [
    "X"
   ]
  },
  {
   "cell_type": "code",
   "execution_count": null,
   "metadata": {},
   "outputs": [],
   "source": []
  }
 ],
 "metadata": {
  "kernelspec": {
   "display_name": "Python 3",
   "language": "python",
   "name": "python3"
  },
  "language_info": {
   "codemirror_mode": {
    "name": "ipython",
    "version": 3
   },
   "file_extension": ".py",
   "mimetype": "text/x-python",
   "name": "python",
   "nbconvert_exporter": "python",
   "pygments_lexer": "ipython3",
   "version": "3.7.4"
  }
 },
 "nbformat": 4,
 "nbformat_minor": 2
}
