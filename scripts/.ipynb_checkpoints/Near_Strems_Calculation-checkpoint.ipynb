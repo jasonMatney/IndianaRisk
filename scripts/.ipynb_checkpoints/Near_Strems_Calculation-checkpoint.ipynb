{
 "cells": [
  {
   "cell_type": "code",
   "execution_count": 1,
   "metadata": {},
   "outputs": [],
   "source": [
    "import arcpy\n",
    "arcpy.env.overwriteOutput = True\n",
    "\n",
    "workspace = r\"D:\\\\D_IndianaRisk\\\\data\"\n",
    "arcpy.env.workspace = workspace\n"
   ]
  },
  {
   "cell_type": "code",
   "execution_count": 2,
   "metadata": {},
   "outputs": [],
   "source": [
    "#source for Bing building footprints for Indiana (attrubuted with open street maps data)\n",
    "building_footprints = r\"D:\\\\D_IndianaRisk\\\\data\\\\buildings_project.shp\"\n",
    "\n",
    "#set source for streams data\n",
    "streams = r\"D:\\\\D_IndianaRisk\\\\data\\\\streams_project.shp\"\n",
    "\n",
    "#set source for subwatersheds\n",
    "all_subwatersheds = r\"D:\\\\D_IndianaRisk\\\\data\\\\HUCs\\\\June_6_HUCS.shp\""
   ]
  },
  {
   "cell_type": "code",
   "execution_count": 3,
   "metadata": {},
   "outputs": [],
   "source": [
    "# arcpy.analysis.Clip(\"test\", \"Building_Footprints_Attributed_IN\", r\"C:\\Users\\jmatney\\Documents\\ArcGIS\\Projects\\Indiana ML Results\\Indiana ML Results.gdb\\test_Clip\", None)"
   ]
  },
  {
   "cell_type": "code",
   "execution_count": 4,
   "metadata": {},
   "outputs": [],
   "source": [
    "#get distance from residential buildings to streams\n",
    "#project buildings and streams so they are in the same GCS\n",
    "# sr = arcpy.SpatialReference(4269)\n",
    "\n",
    "# arcpy.Project_management(streams, workspace + \"streams_project.shp\", sr)\n",
    "\n",
    "\n",
    "# b_copy = arcpy.CopyFeatures_management(building_footprints, workspace + \"buildings_copy\")\n",
    "\n",
    "\n",
    "# arcpy.Project_management(b_copy, workspace+\"buildings_project.shp\", sr)\n",
    "\n"
   ]
  },
  {
   "cell_type": "code",
   "execution_count": 6,
   "metadata": {},
   "outputs": [],
   "source": [
    "# #use near tool to get distance to steams\n",
    "# arcpy.Near_analysis(building_footprints,\n",
    "#                     streams,\n",
    "#                     method=\"GEODESIC\")"
   ]
  },
  {
   "cell_type": "code",
   "execution_count": 7,
   "metadata": {},
   "outputs": [],
   "source": [
    "subwatershed_list = [] \n",
    "dist_to_stream_avg_list = []\n",
    "dist_to_stream_stdev_list =[]\n"
   ]
  },
  {
   "cell_type": "code",
   "execution_count": null,
   "metadata": {},
   "outputs": [],
   "source": [
    "arcpy.analysis.Clip(\"test\", \"Building_Footprints_Attributed_IN\", r\"C:\\Users\\jmatney\\Documents\\ArcGIS\\Projects\\Indiana ML Results\\Indiana ML Results.gdb\\test_Clip\", None)"
   ]
  },
  {
   "cell_type": "code",
   "execution_count": 14,
   "metadata": {},
   "outputs": [
    {
     "name": "stdout",
     "output_type": "stream",
     "text": [
      "huc_051202080201_building.shp\n"
     ]
    },
    {
     "ename": "TypeError",
     "evalue": "string indices must be integers",
     "output_type": "error",
     "traceback": [
      "\u001b[1;31m---------------------------------------------------------------------------\u001b[0m",
      "\u001b[1;31mTypeError\u001b[0m                                 Traceback (most recent call last)",
      "\u001b[1;32m<ipython-input-14-efbc2307a5af>\u001b[0m in \u001b[0;36m<module>\u001b[1;34m\u001b[0m\n\u001b[0;32m     10\u001b[0m \u001b[1;33m\u001b[0m\u001b[0m\n\u001b[0;32m     11\u001b[0m         \u001b[0mprint\u001b[0m\u001b[1;33m(\u001b[0m\u001b[0moutputFile\u001b[0m\u001b[1;33m)\u001b[0m\u001b[1;33m\u001b[0m\u001b[1;33m\u001b[0m\u001b[0m\n\u001b[1;32m---> 12\u001b[1;33m         \u001b[0mprint\u001b[0m\u001b[1;33m(\u001b[0m\u001b[0mall_subwatersheds\u001b[0m\u001b[1;33m[\u001b[0m\u001b[0mrow\u001b[0m\u001b[1;33m]\u001b[0m\u001b[1;33m)\u001b[0m\u001b[1;33m\u001b[0m\u001b[1;33m\u001b[0m\u001b[0m\n\u001b[0m\u001b[0;32m     13\u001b[0m         \u001b[0marcpy\u001b[0m\u001b[1;33m.\u001b[0m\u001b[0manalysis\u001b[0m\u001b[1;33m.\u001b[0m\u001b[0mClip\u001b[0m\u001b[1;33m(\u001b[0m\u001b[0mbuilding_footprints\u001b[0m\u001b[1;33m,\u001b[0m \u001b[0mrow\u001b[0m\u001b[1;33m,\u001b[0m \u001b[0moutputFile\u001b[0m\u001b[1;33m)\u001b[0m\u001b[1;33m\u001b[0m\u001b[1;33m\u001b[0m\u001b[0m\n\u001b[0;32m     14\u001b[0m \u001b[1;33m\u001b[0m\u001b[0m\n",
      "\u001b[1;31mTypeError\u001b[0m: string indices must be integers"
     ]
    }
   ],
   "source": [
    "#search cursor through each row of county subwatersheds file\n",
    "with arcpy.da.SearchCursor(all_subwatersheds, ['HUC12', 'AREA', 'PERIMETER']) as cursor:\n",
    "\n",
    "    for row in cursor:\n",
    "        subwatershed_number = row[0]\n",
    "        \n",
    "        subwatershed_list.append(subwatershed_number)\n",
    "        \n",
    "        outputFile = \"huc_\" + subwatershed_number + \"_building.shp\"\n",
    "        \n",
    "        print(outputFile)\n",
    "       \n",
    "        arcpy.analysis.Clip(building_footprints, row, outputFile)\n",
    "\n",
    "        # get all the distances in to the streams\n",
    "        dist_to_stream_list = []\n",
    "        with arcpy.da.SearchCursor(outputFile, [\"NEAR_DIST\"]) as distCursor: \n",
    "            for dist in distCursor:  \n",
    "                dist_to_stream = dist[0]  \n",
    "                dist_to_stream_list.append(dist_to_stream)  \n",
    "\n",
    "        dist_to_stream_avg = mean(dist_to_stream_list)\n",
    "\n",
    "        dist_to_stream_stdev = std(dist_to_stream_list)\n",
    "\n",
    "        print(dist_to_stream_avg)\n",
    "        print(dist_to_stream_stdev)\n",
    "\n",
    "        dist_to_stream_avg_list.append(dist_to_stream_avg)\n",
    "        dist_to_stream_stdev_list.append(dist_to_stream_stdev)"
   ]
  },
  {
   "cell_type": "code",
   "execution_count": 13,
   "metadata": {},
   "outputs": [
    {
     "data": {
      "text/plain": [
       "['051202080201',\n",
       " '051202080201',\n",
       " '051202080201',\n",
       " '051202080201',\n",
       " '051202080201']"
      ]
     },
     "execution_count": 13,
     "metadata": {},
     "output_type": "execute_result"
    }
   ],
   "source": [
    "subwatershed_list"
   ]
  }
 ],
 "metadata": {
  "kernelspec": {
   "display_name": "Python 3",
   "language": "python",
   "name": "python3"
  },
  "language_info": {
   "codemirror_mode": {
    "name": "ipython",
    "version": 3
   },
   "file_extension": ".py",
   "mimetype": "text/x-python",
   "name": "python",
   "nbconvert_exporter": "python",
   "pygments_lexer": "ipython3",
   "version": "3.6.9"
  }
 },
 "nbformat": 4,
 "nbformat_minor": 2
}
