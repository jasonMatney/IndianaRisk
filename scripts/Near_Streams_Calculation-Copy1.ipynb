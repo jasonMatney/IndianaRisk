{
 "cells": [
  {
   "cell_type": "code",
   "execution_count": 1,
   "metadata": {},
   "outputs": [],
   "source": [
    "import pandas as pd\n",
    "import arcpy\n",
    "import numpy as np\n",
    "from numpy import mean\n",
    "from numpy import std\n",
    "import os\n",
    "from arcpy import management\n",
    "# from arcgis.gis import GIS\n",
    "from time import time\n",
    "arcpy.CheckOutExtension('Spatial')\n",
    "arcpy.env.overwriteOutput = True\n",
    "\n",
    "workspace = r\"D:\\\\D_IndianaRisk\\\\data\\\\\"\n",
    "arcpy.env.workspace = workspace\n"
   ]
  },
  {
   "cell_type": "code",
   "execution_count": 2,
   "metadata": {},
   "outputs": [],
   "source": [
    "#source for Bing building footprints for Indiana (attrubuted with open street maps data)\n",
    "building_footprints = r\"D:\\\\D_IndianaRisk\\\\data\\\\buildings_project.shp\"\n",
    "\n",
    "#set source for streams data\n",
    "streams = r\"D:\\\\D_IndianaRisk\\\\data\\\\streams_project.shp\"\n",
    "\n",
    "#set source for subwatersheds\n",
    "all_subwatersheds = r\"D:\\\\D_IndianaRisk\\\\data\\\\HUCs\\\\June_6_HUCS.shp\""
   ]
  },
  {
   "cell_type": "code",
   "execution_count": null,
   "metadata": {},
   "outputs": [],
   "source": []
  },
  {
   "cell_type": "code",
   "execution_count": 3,
   "metadata": {},
   "outputs": [
    {
     "ename": "ExecuteError",
     "evalue": "ERROR 000229: Cannot open D:\\\\D_IndianaRisk\\\\data\\\\streams_project.shp\nFailed to execute (Project).\n",
     "output_type": "error",
     "traceback": [
      "\u001b[1;31m---------------------------------------------------------------------------\u001b[0m",
      "\u001b[1;31mExecuteError\u001b[0m                              Traceback (most recent call last)",
      "\u001b[1;32m<ipython-input-3-66cea4f630ba>\u001b[0m in \u001b[0;36m<module>\u001b[1;34m\u001b[0m\n\u001b[0;32m      3\u001b[0m \u001b[0msr\u001b[0m \u001b[1;33m=\u001b[0m \u001b[0marcpy\u001b[0m\u001b[1;33m.\u001b[0m\u001b[0mSpatialReference\u001b[0m\u001b[1;33m(\u001b[0m\u001b[1;36m4269\u001b[0m\u001b[1;33m)\u001b[0m\u001b[1;33m\u001b[0m\u001b[1;33m\u001b[0m\u001b[0m\n\u001b[0;32m      4\u001b[0m \u001b[1;33m\u001b[0m\u001b[0m\n\u001b[1;32m----> 5\u001b[1;33m \u001b[0marcpy\u001b[0m\u001b[1;33m.\u001b[0m\u001b[0mProject_management\u001b[0m\u001b[1;33m(\u001b[0m\u001b[0mstreams\u001b[0m\u001b[1;33m,\u001b[0m \u001b[0mworkspace\u001b[0m \u001b[1;33m+\u001b[0m \u001b[1;34m\"streams_project.shp\"\u001b[0m\u001b[1;33m,\u001b[0m \u001b[0msr\u001b[0m\u001b[1;33m)\u001b[0m\u001b[1;33m\u001b[0m\u001b[1;33m\u001b[0m\u001b[0m\n\u001b[0m\u001b[0;32m      6\u001b[0m \u001b[1;33m\u001b[0m\u001b[0m\n\u001b[0;32m      7\u001b[0m \u001b[1;33m\u001b[0m\u001b[0m\n",
      "\u001b[1;32mC:\\Program Files\\ArcGIS\\Pro\\Resources\\ArcPy\\arcpy\\management.py\u001b[0m in \u001b[0;36mProject\u001b[1;34m(in_dataset, out_dataset, out_coor_system, transform_method, in_coor_system, preserve_shape, max_deviation, vertical)\u001b[0m\n\u001b[0;32m  11194\u001b[0m         \u001b[1;32mreturn\u001b[0m \u001b[0mretval\u001b[0m\u001b[1;33m\u001b[0m\u001b[1;33m\u001b[0m\u001b[0m\n\u001b[0;32m  11195\u001b[0m     \u001b[1;32mexcept\u001b[0m \u001b[0mException\u001b[0m \u001b[1;32mas\u001b[0m \u001b[0me\u001b[0m\u001b[1;33m:\u001b[0m\u001b[1;33m\u001b[0m\u001b[1;33m\u001b[0m\u001b[0m\n\u001b[1;32m> 11196\u001b[1;33m         \u001b[1;32mraise\u001b[0m \u001b[0me\u001b[0m\u001b[1;33m\u001b[0m\u001b[1;33m\u001b[0m\u001b[0m\n\u001b[0m\u001b[0;32m  11197\u001b[0m \u001b[1;33m\u001b[0m\u001b[0m\n\u001b[0;32m  11198\u001b[0m \u001b[1;33m\u001b[0m\u001b[0m\n",
      "\u001b[1;32mC:\\Program Files\\ArcGIS\\Pro\\Resources\\ArcPy\\arcpy\\management.py\u001b[0m in \u001b[0;36mProject\u001b[1;34m(in_dataset, out_dataset, out_coor_system, transform_method, in_coor_system, preserve_shape, max_deviation, vertical)\u001b[0m\n\u001b[0;32m  11191\u001b[0m     \u001b[1;32mfrom\u001b[0m \u001b[0marcpy\u001b[0m\u001b[1;33m.\u001b[0m\u001b[0marcobjects\u001b[0m\u001b[1;33m.\u001b[0m\u001b[0marcobjectconversion\u001b[0m \u001b[1;32mimport\u001b[0m \u001b[0mconvertArcObjectToPythonObject\u001b[0m\u001b[1;33m\u001b[0m\u001b[1;33m\u001b[0m\u001b[0m\n\u001b[0;32m  11192\u001b[0m     \u001b[1;32mtry\u001b[0m\u001b[1;33m:\u001b[0m\u001b[1;33m\u001b[0m\u001b[1;33m\u001b[0m\u001b[0m\n\u001b[1;32m> 11193\u001b[1;33m         \u001b[0mretval\u001b[0m \u001b[1;33m=\u001b[0m \u001b[0mconvertArcObjectToPythonObject\u001b[0m\u001b[1;33m(\u001b[0m\u001b[0mgp\u001b[0m\u001b[1;33m.\u001b[0m\u001b[0mProject_management\u001b[0m\u001b[1;33m(\u001b[0m\u001b[1;33m*\u001b[0m\u001b[0mgp_fixargs\u001b[0m\u001b[1;33m(\u001b[0m\u001b[1;33m(\u001b[0m\u001b[0min_dataset\u001b[0m\u001b[1;33m,\u001b[0m \u001b[0mout_dataset\u001b[0m\u001b[1;33m,\u001b[0m \u001b[0mout_coor_system\u001b[0m\u001b[1;33m,\u001b[0m \u001b[0mtransform_method\u001b[0m\u001b[1;33m,\u001b[0m \u001b[0min_coor_system\u001b[0m\u001b[1;33m,\u001b[0m \u001b[0mpreserve_shape\u001b[0m\u001b[1;33m,\u001b[0m \u001b[0mmax_deviation\u001b[0m\u001b[1;33m,\u001b[0m \u001b[0mvertical\u001b[0m\u001b[1;33m)\u001b[0m\u001b[1;33m,\u001b[0m \u001b[1;32mTrue\u001b[0m\u001b[1;33m)\u001b[0m\u001b[1;33m)\u001b[0m\u001b[1;33m)\u001b[0m\u001b[1;33m\u001b[0m\u001b[1;33m\u001b[0m\u001b[0m\n\u001b[0m\u001b[0;32m  11194\u001b[0m         \u001b[1;32mreturn\u001b[0m \u001b[0mretval\u001b[0m\u001b[1;33m\u001b[0m\u001b[1;33m\u001b[0m\u001b[0m\n\u001b[0;32m  11195\u001b[0m     \u001b[1;32mexcept\u001b[0m \u001b[0mException\u001b[0m \u001b[1;32mas\u001b[0m \u001b[0me\u001b[0m\u001b[1;33m:\u001b[0m\u001b[1;33m\u001b[0m\u001b[1;33m\u001b[0m\u001b[0m\n",
      "\u001b[1;32mC:\\Program Files\\ArcGIS\\Pro\\Resources\\ArcPy\\arcpy\\geoprocessing\\_base.py\u001b[0m in \u001b[0;36m<lambda>\u001b[1;34m(*args)\u001b[0m\n\u001b[0;32m    509\u001b[0m         \u001b[0mval\u001b[0m \u001b[1;33m=\u001b[0m \u001b[0mgetattr\u001b[0m\u001b[1;33m(\u001b[0m\u001b[0mself\u001b[0m\u001b[1;33m.\u001b[0m\u001b[0m_gp\u001b[0m\u001b[1;33m,\u001b[0m \u001b[0mattr\u001b[0m\u001b[1;33m)\u001b[0m\u001b[1;33m\u001b[0m\u001b[1;33m\u001b[0m\u001b[0m\n\u001b[0;32m    510\u001b[0m         \u001b[1;32mif\u001b[0m \u001b[0mcallable\u001b[0m\u001b[1;33m(\u001b[0m\u001b[0mval\u001b[0m\u001b[1;33m)\u001b[0m\u001b[1;33m:\u001b[0m\u001b[1;33m\u001b[0m\u001b[1;33m\u001b[0m\u001b[0m\n\u001b[1;32m--> 511\u001b[1;33m             \u001b[1;32mreturn\u001b[0m \u001b[1;32mlambda\u001b[0m \u001b[1;33m*\u001b[0m\u001b[0margs\u001b[0m\u001b[1;33m:\u001b[0m \u001b[0mval\u001b[0m\u001b[1;33m(\u001b[0m\u001b[1;33m*\u001b[0m\u001b[0mgp_fixargs\u001b[0m\u001b[1;33m(\u001b[0m\u001b[0margs\u001b[0m\u001b[1;33m,\u001b[0m \u001b[1;32mTrue\u001b[0m\u001b[1;33m)\u001b[0m\u001b[1;33m)\u001b[0m\u001b[1;33m\u001b[0m\u001b[1;33m\u001b[0m\u001b[0m\n\u001b[0m\u001b[0;32m    512\u001b[0m         \u001b[1;32melse\u001b[0m\u001b[1;33m:\u001b[0m\u001b[1;33m\u001b[0m\u001b[1;33m\u001b[0m\u001b[0m\n\u001b[0;32m    513\u001b[0m             \u001b[1;32mreturn\u001b[0m \u001b[0mconvertArcObjectToPythonObject\u001b[0m\u001b[1;33m(\u001b[0m\u001b[0mval\u001b[0m\u001b[1;33m)\u001b[0m\u001b[1;33m\u001b[0m\u001b[1;33m\u001b[0m\u001b[0m\n",
      "\u001b[1;31mExecuteError\u001b[0m: ERROR 000229: Cannot open D:\\\\D_IndianaRisk\\\\data\\\\streams_project.shp\nFailed to execute (Project).\n"
     ]
    }
   ],
   "source": [
    "#get distance from residential buildings to streams\n",
    "#project buildings and streams so they are in the same GCS\n",
    "sr = arcpy.SpatialReference(4269)\n",
    "\n",
    "arcpy.Project_management(streams, workspace + \"streams_project.shp\", sr)\n",
    "\n",
    "\n",
    "b_copy = arcpy.CopyFeatures_management(building_footprints, workspace + \"buildings_copy\")\n",
    "\n",
    "\n",
    "arcpy.Project_management(b_copy, workspace+\"buildings_project.shp\", sr)\n",
    "\n"
   ]
  },
  {
   "cell_type": "code",
   "execution_count": null,
   "metadata": {},
   "outputs": [],
   "source": [
    "# #use near tool to get distance to steams\n",
    "arcpy.Near_analysis(workspace+\"buildings_project.shp\",\n",
    "                    workspace + \"streams_project.shp\",\n",
    "                    method=\"GEODESIC\")\n",
    "\n"
   ]
  },
  {
   "cell_type": "code",
   "execution_count": null,
   "metadata": {},
   "outputs": [],
   "source": [
    "subwatershed_list = [] \n",
    "dist_to_stream_avg_list = []\n",
    "dist_to_stream_stdev_list = []\n"
   ]
  },
  {
   "cell_type": "code",
   "execution_count": null,
   "metadata": {},
   "outputs": [],
   "source": [
    "#search cursor through each row of county subwatersheds file\n",
    "with arcpy.da.SearchCursor(all_subwatersheds, ['HUC12','AREA', 'PERIMETER']) as cursor:\n",
    "\n",
    "    for row in cursor:\n",
    "        subwatershed_number = row[0]\n",
    "        \n",
    "        subwatershed_list.append(subwatershed_number)\n",
    "        \n",
    "        print(subwatershed_number, \" is the subwatershed to be worked on\")\n",
    "\n",
    "        #select subwatershed from shapefile with all of them\n",
    "        s = arcpy.SelectLayerByAttribute_management(all_subwatersheds, \"NEW_SELECTION\", \n",
    "                                                \"HUC12 = '{}'\".format(subwatershed_number))\n",
    "        \n",
    "        arcpy.CopyFeatures_management(s, \"s_lyr.shp\")\n",
    "        subwatershed_selection1 = workspace + 's_lyr.shp'\n",
    "        \n",
    "        arcpy.Clip_analysis(workspace+\"buildings_project.shp\", \n",
    "                            subwatershed_selection1,\n",
    "                            f\"{subwatershed_number}_buildings.shp\")\n",
    "\n",
    "        #get all the distances in to the streams\n",
    "        dist_to_stream_list = []\n",
    "        with arcpy.da.SearchCursor(workspace+f\"{subwatershed_number}_buildings.shp\", [\"NEAR_DIST\"]) as distCursor: \n",
    "            for dist in distCursor:  \n",
    "                dist_to_stream = dist[0]  \n",
    "                dist_to_stream_list.append(dist_to_stream)  \n",
    "\n",
    "        dist_to_stream_avg = mean(dist_to_stream_list)\n",
    "\n",
    "        dist_to_stream_stdev = std(dist_to_stream_list)\n",
    "\n",
    "        # print(dist_to_stream_avg)\n",
    "        # print(dist_to_stream_stdev)\n",
    "\n",
    "        dist_to_stream_avg_list.append(dist_to_stream_avg)\n",
    "        dist_to_stream_stdev_list.append(dist_to_stream_stdev)"
   ]
  },
  {
   "cell_type": "code",
   "execution_count": null,
   "metadata": {},
   "outputs": [],
   "source": [
    "st = time()\n",
    "outputs = {'subwatershed': subwatershed_list,\n",
    "           'dist_to_stream_avg (m)': dist_to_stream_avg_list,\n",
    "           'dist_to_stream_stdev (m)': dist_to_stream_stdev_list}\n",
    "           \n",
    "outputs_df = pd.DataFrame(outputs, columns = ['subwatershed',\n",
    "                                              'dist_to_stream_avg (m)',\n",
    "                                              'dist_to_stream_stdev (m)'])\n",
    "                                              \n",
    "                                              \n",
    "print(outputs_df)\n",
    "\n",
    "outputs_df.to_excel(workspace+ 'last30_stream_dist.xlsx')\n",
    "print(round(((time()-st)/60), 2) , 'minutes to process.')                                              "
   ]
  },
  {
   "cell_type": "code",
   "execution_count": null,
   "metadata": {},
   "outputs": [],
   "source": [
    "print(dist_to_stream_avg)\n",
    "print(dist_to_stream_stdev)"
   ]
  },
  {
   "cell_type": "code",
   "execution_count": null,
   "metadata": {},
   "outputs": [],
   "source": [
    "workspace\n"
   ]
  }
 ],
 "metadata": {
  "kernelspec": {
   "display_name": "Python 3",
   "language": "python",
   "name": "python3"
  },
  "language_info": {
   "codemirror_mode": {
    "name": "ipython",
    "version": 3
   },
   "file_extension": ".py",
   "mimetype": "text/x-python",
   "name": "python",
   "nbconvert_exporter": "python",
   "pygments_lexer": "ipython3",
   "version": "3.6.9"
  }
 },
 "nbformat": 4,
 "nbformat_minor": 2
}
