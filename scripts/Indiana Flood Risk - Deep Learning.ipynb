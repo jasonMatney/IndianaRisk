{
 "cells": [
  {
   "cell_type": "markdown",
   "metadata": {},
   "source": [
    "# Indiana Flood Risk\n",
    "## Deep Neural Networks for Supervised Learning - Regression"
   ]
  },
  {
   "cell_type": "code",
   "execution_count": 1,
   "metadata": {},
   "outputs": [
    {
     "name": "stderr",
     "output_type": "stream",
     "text": [
      "C:\\Users\\jmatney\\AppData\\Local\\Continuum\\anaconda3\\lib\\site-packages\\statsmodels\\tools\\_testing.py:19: FutureWarning: pandas.util.testing is deprecated. Use the functions in the public API at pandas.testing instead.\n",
      "  import pandas.util.testing as tm\n"
     ]
    }
   ],
   "source": [
    "import pandas as pd\n",
    "import seaborn as sns\n",
    "import numpy as np\n",
    "%matplotlib inline\n",
    "from sklearn.model_selection import train_test_split\n",
    "from sklearn.preprocessing import LabelEncoder, OneHotEncoder\n",
    "import seaborn as sns  #Seaborn is another powerful visulization library for Python\n",
    "from sklearn.linear_model import Ridge\n",
    "import os"
   ]
  },
  {
   "cell_type": "code",
   "execution_count": 2,
   "metadata": {},
   "outputs": [],
   "source": [
    "path = \"C:\\\\Users\\jmatney\\Documents\\GitHub\\IndianaRisk\\data\"\n",
    "df = pd.read_csv(os.path.join(path, \"IndianaRisk.csv\"))"
   ]
  },
  {
   "cell_type": "code",
   "execution_count": 3,
   "metadata": {},
   "outputs": [
    {
     "data": {
      "text/plain": [
       "'C:\\\\Users\\\\jmatney\\\\Documents\\\\GitHub\\\\IndianaRisk\\\\scripts'"
      ]
     },
     "execution_count": 3,
     "metadata": {},
     "output_type": "execute_result"
    }
   ],
   "source": [
    "import os\n",
    "cwd = os.getcwd()\n",
    "cwd"
   ]
  },
  {
   "cell_type": "code",
   "execution_count": 4,
   "metadata": {},
   "outputs": [
    {
     "name": "stdout",
     "output_type": "stream",
     "text": [
      "Shape of the Dataset: (100, 42)\n"
     ]
    },
    {
     "data": {
      "text/html": [
       "<div>\n",
       "<style scoped>\n",
       "    .dataframe tbody tr th:only-of-type {\n",
       "        vertical-align: middle;\n",
       "    }\n",
       "\n",
       "    .dataframe tbody tr th {\n",
       "        vertical-align: top;\n",
       "    }\n",
       "\n",
       "    .dataframe thead th {\n",
       "        text-align: right;\n",
       "    }\n",
       "</style>\n",
       "<table border=\"1\" class=\"dataframe\">\n",
       "  <thead>\n",
       "    <tr style=\"text-align: right;\">\n",
       "      <th></th>\n",
       "      <th>subwatershed</th>\n",
       "      <th>area</th>\n",
       "      <th>perimeter</th>\n",
       "      <th>circulatory_ratio</th>\n",
       "      <th>relief</th>\n",
       "      <th>avg_slope</th>\n",
       "      <th>watershed_length</th>\n",
       "      <th>elongation_ratio</th>\n",
       "      <th>drainage_density</th>\n",
       "      <th>shape_factor</th>\n",
       "      <th>...</th>\n",
       "      <th>lu_24_area</th>\n",
       "      <th>lu_41_area</th>\n",
       "      <th>lu_82_area</th>\n",
       "      <th>avg_impervious_percent</th>\n",
       "      <th>orb100yr24ha_am</th>\n",
       "      <th>orb25yr24ha_am</th>\n",
       "      <th>orb2yr24ha_am</th>\n",
       "      <th>orb50yr24ha_am</th>\n",
       "      <th>policy_total_building_coverage_avg</th>\n",
       "      <th>claims_total_building_insurance_coverage_avg</th>\n",
       "    </tr>\n",
       "  </thead>\n",
       "  <tbody>\n",
       "    <tr>\n",
       "      <th>0</th>\n",
       "      <td>40400010303</td>\n",
       "      <td>106.11</td>\n",
       "      <td>54.56</td>\n",
       "      <td>0.45</td>\n",
       "      <td>85.49</td>\n",
       "      <td>3.97</td>\n",
       "      <td>22.38</td>\n",
       "      <td>0.04</td>\n",
       "      <td>0.53</td>\n",
       "      <td>4.72</td>\n",
       "      <td>...</td>\n",
       "      <td>1.47</td>\n",
       "      <td>18.41</td>\n",
       "      <td>23.36</td>\n",
       "      <td>0.15</td>\n",
       "      <td>6,789.38</td>\n",
       "      <td>5,329.28</td>\n",
       "      <td>2,861.72</td>\n",
       "      <td>6,040.96</td>\n",
       "      <td>64,285.55</td>\n",
       "      <td>33,104.28</td>\n",
       "    </tr>\n",
       "    <tr>\n",
       "      <th>1</th>\n",
       "      <td>40400010503</td>\n",
       "      <td>54.66</td>\n",
       "      <td>45.84</td>\n",
       "      <td>0.33</td>\n",
       "      <td>38.18</td>\n",
       "      <td>3.10</td>\n",
       "      <td>13.28</td>\n",
       "      <td>0.01</td>\n",
       "      <td>0.37</td>\n",
       "      <td>3.23</td>\n",
       "      <td>...</td>\n",
       "      <td>1.22</td>\n",
       "      <td>6.01</td>\n",
       "      <td>8.10</td>\n",
       "      <td>0.15</td>\n",
       "      <td>6,789.38</td>\n",
       "      <td>5,329.28</td>\n",
       "      <td>2,861.72</td>\n",
       "      <td>6,040.96</td>\n",
       "      <td>29,839.39</td>\n",
       "      <td>15,823.07</td>\n",
       "    </tr>\n",
       "    <tr>\n",
       "      <th>2</th>\n",
       "      <td>40500011001</td>\n",
       "      <td>89.52</td>\n",
       "      <td>74.92</td>\n",
       "      <td>0.20</td>\n",
       "      <td>54.63</td>\n",
       "      <td>3.66</td>\n",
       "      <td>13.57</td>\n",
       "      <td>0.14</td>\n",
       "      <td>0.45</td>\n",
       "      <td>2.06</td>\n",
       "      <td>...</td>\n",
       "      <td>0.08</td>\n",
       "      <td>2.66</td>\n",
       "      <td>49.32</td>\n",
       "      <td>0.15</td>\n",
       "      <td>6,789.38</td>\n",
       "      <td>5,329.28</td>\n",
       "      <td>2,861.72</td>\n",
       "      <td>6,040.96</td>\n",
       "      <td>55,680.81</td>\n",
       "      <td>179.54</td>\n",
       "    </tr>\n",
       "    <tr>\n",
       "      <th>3</th>\n",
       "      <td>40500011506</td>\n",
       "      <td>105.46</td>\n",
       "      <td>79.94</td>\n",
       "      <td>0.21</td>\n",
       "      <td>51.75</td>\n",
       "      <td>3.61</td>\n",
       "      <td>14.96</td>\n",
       "      <td>0.06</td>\n",
       "      <td>0.44</td>\n",
       "      <td>2.12</td>\n",
       "      <td>...</td>\n",
       "      <td>0.09</td>\n",
       "      <td>4.43</td>\n",
       "      <td>60.33</td>\n",
       "      <td>0.92</td>\n",
       "      <td>5,735.26</td>\n",
       "      <td>4,511.41</td>\n",
       "      <td>2,418.30</td>\n",
       "      <td>5,107.41</td>\n",
       "      <td>37,778.49</td>\n",
       "      <td>26,955.98</td>\n",
       "    </tr>\n",
       "    <tr>\n",
       "      <th>4</th>\n",
       "      <td>41000050102</td>\n",
       "      <td>87.28</td>\n",
       "      <td>64.13</td>\n",
       "      <td>0.27</td>\n",
       "      <td>28.41</td>\n",
       "      <td>2.42</td>\n",
       "      <td>13.24</td>\n",
       "      <td>0.49</td>\n",
       "      <td>0.53</td>\n",
       "      <td>2.01</td>\n",
       "      <td>...</td>\n",
       "      <td>5.10</td>\n",
       "      <td>2.54</td>\n",
       "      <td>28.17</td>\n",
       "      <td>21.89</td>\n",
       "      <td>5,639.30</td>\n",
       "      <td>4,438.93</td>\n",
       "      <td>2,379.89</td>\n",
       "      <td>5,025.40</td>\n",
       "      <td>46,515.81</td>\n",
       "      <td>20,702.79</td>\n",
       "    </tr>\n",
       "  </tbody>\n",
       "</table>\n",
       "<p>5 rows × 42 columns</p>\n",
       "</div>"
      ],
      "text/plain": [
       "   subwatershed    area  perimeter  circulatory_ratio  relief  avg_slope  \\\n",
       "0   40400010303  106.11      54.56               0.45   85.49       3.97   \n",
       "1   40400010503   54.66      45.84               0.33   38.18       3.10   \n",
       "2   40500011001   89.52      74.92               0.20   54.63       3.66   \n",
       "3   40500011506  105.46      79.94               0.21   51.75       3.61   \n",
       "4   41000050102   87.28      64.13               0.27   28.41       2.42   \n",
       "\n",
       "   watershed_length  elongation_ratio  drainage_density  shape_factor  ...  \\\n",
       "0             22.38              0.04              0.53          4.72  ...   \n",
       "1             13.28              0.01              0.37          3.23  ...   \n",
       "2             13.57              0.14              0.45          2.06  ...   \n",
       "3             14.96              0.06              0.44          2.12  ...   \n",
       "4             13.24              0.49              0.53          2.01  ...   \n",
       "\n",
       "   lu_24_area  lu_41_area  lu_82_area avg_impervious_percent  orb100yr24ha_am  \\\n",
       "0        1.47       18.41       23.36                   0.15         6,789.38   \n",
       "1        1.22        6.01        8.10                   0.15         6,789.38   \n",
       "2        0.08        2.66       49.32                   0.15         6,789.38   \n",
       "3        0.09        4.43       60.33                   0.92         5,735.26   \n",
       "4        5.10        2.54       28.17                  21.89         5,639.30   \n",
       "\n",
       "  orb25yr24ha_am  orb2yr24ha_am  orb50yr24ha_am  \\\n",
       "0       5,329.28       2,861.72        6,040.96   \n",
       "1       5,329.28       2,861.72        6,040.96   \n",
       "2       5,329.28       2,861.72        6,040.96   \n",
       "3       4,511.41       2,418.30        5,107.41   \n",
       "4       4,438.93       2,379.89        5,025.40   \n",
       "\n",
       "   policy_total_building_coverage_avg  \\\n",
       "0                           64,285.55   \n",
       "1                           29,839.39   \n",
       "2                           55,680.81   \n",
       "3                           37,778.49   \n",
       "4                           46,515.81   \n",
       "\n",
       "  claims_total_building_insurance_coverage_avg  \n",
       "0                                    33,104.28  \n",
       "1                                    15,823.07  \n",
       "2                                       179.54  \n",
       "3                                    26,955.98  \n",
       "4                                    20,702.79  \n",
       "\n",
       "[5 rows x 42 columns]"
      ]
     },
     "execution_count": 4,
     "metadata": {},
     "output_type": "execute_result"
    }
   ],
   "source": [
    "print(\"Shape of the Dataset:\",df.shape)\n",
    "#the head method displays the first 5 rows of the data\n",
    "df.head(5)  \n"
   ]
  },
  {
   "cell_type": "markdown",
   "metadata": {},
   "source": [
    "# Metadata\n",
    "*\t**subwatershed** - a unique Id for each subwatershed"
   ]
  },
  {
   "cell_type": "markdown",
   "metadata": {},
   "source": [
    "### Data Exploration"
   ]
  },
  {
   "cell_type": "code",
   "execution_count": 5,
   "metadata": {},
   "outputs": [
    {
     "data": {
      "image/png": "[encoded data removed]",
      "text/plain": [
       "<Figure size 1080x576 with 1 Axes>"
      ]
     },
     "metadata": {
      "needs_background": "light"
     },
     "output_type": "display_data"
    }
   ],
   "source": [
    "#Import matplotlib, python most popular data visualizing library\n",
    "import matplotlib.pyplot as plt\n",
    "%matplotlib inline\n",
    "\n",
    "#Create a histogram to study the Daily Sales for the stores\n",
    "plt.figure(figsize=(15,8)) \n",
    "plt.hist(df[\"claims_total_building_insurance_coverage_avg\"])  \n",
    "plt.title(\"Histogram for Claims\")\n",
    "plt.xlabel(\"bins\")\n",
    "plt.xlabel(\"Frequency\")\n",
    "plt.show()\n"
   ]
  },
  {
   "cell_type": "code",
   "execution_count": 6,
   "metadata": {},
   "outputs": [
    {
     "data": {
      "text/plain": [
       "array([[<matplotlib.axes._subplots.AxesSubplot object at 0x0000020585C056C8>,\n",
       "        <matplotlib.axes._subplots.AxesSubplot object at 0x0000020585D33D08>,\n",
       "        <matplotlib.axes._subplots.AxesSubplot object at 0x0000020585D6EB88>,\n",
       "        <matplotlib.axes._subplots.AxesSubplot object at 0x0000020585DA5A08>,\n",
       "        <matplotlib.axes._subplots.AxesSubplot object at 0x0000020585DE08C8>],\n",
       "       [<matplotlib.axes._subplots.AxesSubplot object at 0x0000020585E1B6C8>,\n",
       "        <matplotlib.axes._subplots.AxesSubplot object at 0x0000020585E555C8>,\n",
       "        <matplotlib.axes._subplots.AxesSubplot object at 0x0000020585E8E308>,\n",
       "        <matplotlib.axes._subplots.AxesSubplot object at 0x0000020585E8E508>,\n",
       "        <matplotlib.axes._subplots.AxesSubplot object at 0x0000020585EC8448>],\n",
       "       [<matplotlib.axes._subplots.AxesSubplot object at 0x0000020585F35F08>,\n",
       "        <matplotlib.axes._subplots.AxesSubplot object at 0x0000020586260DC8>,\n",
       "        <matplotlib.axes._subplots.AxesSubplot object at 0x0000020586299C48>,\n",
       "        <matplotlib.axes._subplots.AxesSubplot object at 0x00000205862D2AC8>,\n",
       "        <matplotlib.axes._subplots.AxesSubplot object at 0x000002058630C988>],\n",
       "       [<matplotlib.axes._subplots.AxesSubplot object at 0x0000020586346788>,\n",
       "        <matplotlib.axes._subplots.AxesSubplot object at 0x0000020586381608>,\n",
       "        <matplotlib.axes._subplots.AxesSubplot object at 0x00000205863BB4C8>,\n",
       "        <matplotlib.axes._subplots.AxesSubplot object at 0x00000205863F5348>,\n",
       "        <matplotlib.axes._subplots.AxesSubplot object at 0x000002058642E208>],\n",
       "       [<matplotlib.axes._subplots.AxesSubplot object at 0x0000020586461FC8>,\n",
       "        <matplotlib.axes._subplots.AxesSubplot object at 0x000002058649AE48>,\n",
       "        <matplotlib.axes._subplots.AxesSubplot object at 0x00000205864D4D08>,\n",
       "        <matplotlib.axes._subplots.AxesSubplot object at 0x000002058650FB88>,\n",
       "        <matplotlib.axes._subplots.AxesSubplot object at 0x0000020586549508>],\n",
       "       [<matplotlib.axes._subplots.AxesSubplot object at 0x00000205859447C8>,\n",
       "        <matplotlib.axes._subplots.AxesSubplot object at 0x0000020586284C48>,\n",
       "        <matplotlib.axes._subplots.AxesSubplot object at 0x000002058651E488>,\n",
       "        <matplotlib.axes._subplots.AxesSubplot object at 0x0000020586009B48>,\n",
       "        <matplotlib.axes._subplots.AxesSubplot object at 0x0000020585FCD3C8>]],\n",
       "      dtype=object)"
      ]
     },
     "execution_count": 6,
     "metadata": {},
     "output_type": "execute_result"
    },
    {
     "data": {
      "image/png": "[encoded data removed]",
      "text/plain": [
       "<Figure size 2880x1440 with 30 Axes>"
      ]
     },
     "metadata": {
      "needs_background": "light"
     },
     "output_type": "display_data"
    }
   ],
   "source": [
    "#Use the  histogram function provided by the Pandas object\n",
    "#The function returns a cross-tab histogram plot for all numeric columns in the data\n",
    "df.hist(figsize=(40,20))"
   ]
  },
  {
   "cell_type": "markdown",
   "metadata": {},
   "source": [
    "### Data Engineering"
   ]
  },
  {
   "cell_type": "code",
   "execution_count": 9,
   "metadata": {},
   "outputs": [],
   "source": [
    "#Define a variable for each type of feature\n",
    "target = [\"claims_total_building_insurance_coverage_avg\"]\n",
    "test = [x for x in df if x != \"claims_total_building_insurance_coverage_avg\"]\n",
    "numeric_columns = [x for x in test if x != \"subwatershed\"]"
   ]
  },
  {
   "cell_type": "code",
   "execution_count": 10,
   "metadata": {},
   "outputs": [
    {
     "name": "stdout",
     "output_type": "stream",
     "text": [
      "Shape of Data: (100, 42)\n",
      "Distinct Datatypes: [dtype('int64') dtype('float64') dtype('O')]\n"
     ]
    },
    {
     "data": {
      "text/html": [
       "<div>\n",
       "<style scoped>\n",
       "    .dataframe tbody tr th:only-of-type {\n",
       "        vertical-align: middle;\n",
       "    }\n",
       "\n",
       "    .dataframe tbody tr th {\n",
       "        vertical-align: top;\n",
       "    }\n",
       "\n",
       "    .dataframe thead th {\n",
       "        text-align: right;\n",
       "    }\n",
       "</style>\n",
       "<table border=\"1\" class=\"dataframe\">\n",
       "  <thead>\n",
       "    <tr style=\"text-align: right;\">\n",
       "      <th></th>\n",
       "      <th>area</th>\n",
       "      <th>perimeter</th>\n",
       "      <th>circulatory_ratio</th>\n",
       "      <th>relief</th>\n",
       "      <th>avg_slope</th>\n",
       "      <th>watershed_length</th>\n",
       "      <th>elongation_ratio</th>\n",
       "      <th>drainage_density</th>\n",
       "      <th>shape_factor</th>\n",
       "      <th>relief_ratio</th>\n",
       "      <th>...</th>\n",
       "      <th>lu_23_area</th>\n",
       "      <th>lu_24_area</th>\n",
       "      <th>lu_41_area</th>\n",
       "      <th>lu_82_area</th>\n",
       "      <th>avg_impervious_percent</th>\n",
       "      <th>orb100yr24ha_am</th>\n",
       "      <th>orb25yr24ha_am</th>\n",
       "      <th>orb2yr24ha_am</th>\n",
       "      <th>orb50yr24ha_am</th>\n",
       "      <th>policy_total_building_coverage_avg</th>\n",
       "    </tr>\n",
       "  </thead>\n",
       "  <tbody>\n",
       "    <tr>\n",
       "      <th>0</th>\n",
       "      <td>106.11</td>\n",
       "      <td>54.56</td>\n",
       "      <td>0.45</td>\n",
       "      <td>85.49</td>\n",
       "      <td>3.97</td>\n",
       "      <td>22.38</td>\n",
       "      <td>0.04</td>\n",
       "      <td>0.53</td>\n",
       "      <td>4.72</td>\n",
       "      <td>0.0</td>\n",
       "      <td>...</td>\n",
       "      <td>7.64</td>\n",
       "      <td>1.47</td>\n",
       "      <td>18.41</td>\n",
       "      <td>23.36</td>\n",
       "      <td>0.15</td>\n",
       "      <td>6,789.38</td>\n",
       "      <td>5,329.28</td>\n",
       "      <td>2,861.72</td>\n",
       "      <td>6,040.96</td>\n",
       "      <td>64,285.55</td>\n",
       "    </tr>\n",
       "    <tr>\n",
       "      <th>1</th>\n",
       "      <td>54.66</td>\n",
       "      <td>45.84</td>\n",
       "      <td>0.33</td>\n",
       "      <td>38.18</td>\n",
       "      <td>3.10</td>\n",
       "      <td>13.28</td>\n",
       "      <td>0.01</td>\n",
       "      <td>0.37</td>\n",
       "      <td>3.23</td>\n",
       "      <td>0.0</td>\n",
       "      <td>...</td>\n",
       "      <td>5.19</td>\n",
       "      <td>1.22</td>\n",
       "      <td>6.01</td>\n",
       "      <td>8.10</td>\n",
       "      <td>0.15</td>\n",
       "      <td>6,789.38</td>\n",
       "      <td>5,329.28</td>\n",
       "      <td>2,861.72</td>\n",
       "      <td>6,040.96</td>\n",
       "      <td>29,839.39</td>\n",
       "    </tr>\n",
       "    <tr>\n",
       "      <th>2</th>\n",
       "      <td>89.52</td>\n",
       "      <td>74.92</td>\n",
       "      <td>0.20</td>\n",
       "      <td>54.63</td>\n",
       "      <td>3.66</td>\n",
       "      <td>13.57</td>\n",
       "      <td>0.14</td>\n",
       "      <td>0.45</td>\n",
       "      <td>2.06</td>\n",
       "      <td>0.0</td>\n",
       "      <td>...</td>\n",
       "      <td>0.39</td>\n",
       "      <td>0.08</td>\n",
       "      <td>2.66</td>\n",
       "      <td>49.32</td>\n",
       "      <td>0.15</td>\n",
       "      <td>6,789.38</td>\n",
       "      <td>5,329.28</td>\n",
       "      <td>2,861.72</td>\n",
       "      <td>6,040.96</td>\n",
       "      <td>55,680.81</td>\n",
       "    </tr>\n",
       "    <tr>\n",
       "      <th>3</th>\n",
       "      <td>105.46</td>\n",
       "      <td>79.94</td>\n",
       "      <td>0.21</td>\n",
       "      <td>51.75</td>\n",
       "      <td>3.61</td>\n",
       "      <td>14.96</td>\n",
       "      <td>0.06</td>\n",
       "      <td>0.44</td>\n",
       "      <td>2.12</td>\n",
       "      <td>0.0</td>\n",
       "      <td>...</td>\n",
       "      <td>0.33</td>\n",
       "      <td>0.09</td>\n",
       "      <td>4.43</td>\n",
       "      <td>60.33</td>\n",
       "      <td>0.92</td>\n",
       "      <td>5,735.26</td>\n",
       "      <td>4,511.41</td>\n",
       "      <td>2,418.30</td>\n",
       "      <td>5,107.41</td>\n",
       "      <td>37,778.49</td>\n",
       "    </tr>\n",
       "    <tr>\n",
       "      <th>4</th>\n",
       "      <td>87.28</td>\n",
       "      <td>64.13</td>\n",
       "      <td>0.27</td>\n",
       "      <td>28.41</td>\n",
       "      <td>2.42</td>\n",
       "      <td>13.24</td>\n",
       "      <td>0.49</td>\n",
       "      <td>0.53</td>\n",
       "      <td>2.01</td>\n",
       "      <td>0.0</td>\n",
       "      <td>...</td>\n",
       "      <td>8.43</td>\n",
       "      <td>5.10</td>\n",
       "      <td>2.54</td>\n",
       "      <td>28.17</td>\n",
       "      <td>21.89</td>\n",
       "      <td>5,639.30</td>\n",
       "      <td>4,438.93</td>\n",
       "      <td>2,379.89</td>\n",
       "      <td>5,025.40</td>\n",
       "      <td>46,515.81</td>\n",
       "    </tr>\n",
       "  </tbody>\n",
       "</table>\n",
       "<p>5 rows × 40 columns</p>\n",
       "</div>"
      ],
      "text/plain": [
       "     area  perimeter  circulatory_ratio  relief  avg_slope  watershed_length  \\\n",
       "0  106.11      54.56               0.45   85.49       3.97             22.38   \n",
       "1   54.66      45.84               0.33   38.18       3.10             13.28   \n",
       "2   89.52      74.92               0.20   54.63       3.66             13.57   \n",
       "3  105.46      79.94               0.21   51.75       3.61             14.96   \n",
       "4   87.28      64.13               0.27   28.41       2.42             13.24   \n",
       "\n",
       "   elongation_ratio  drainage_density  shape_factor  relief_ratio  ...  \\\n",
       "0              0.04              0.53          4.72           0.0  ...   \n",
       "1              0.01              0.37          3.23           0.0  ...   \n",
       "2              0.14              0.45          2.06           0.0  ...   \n",
       "3              0.06              0.44          2.12           0.0  ...   \n",
       "4              0.49              0.53          2.01           0.0  ...   \n",
       "\n",
       "   lu_23_area  lu_24_area lu_41_area  lu_82_area avg_impervious_percent  \\\n",
       "0        7.64        1.47      18.41       23.36                   0.15   \n",
       "1        5.19        1.22       6.01        8.10                   0.15   \n",
       "2        0.39        0.08       2.66       49.32                   0.15   \n",
       "3        0.33        0.09       4.43       60.33                   0.92   \n",
       "4        8.43        5.10       2.54       28.17                  21.89   \n",
       "\n",
       "   orb100yr24ha_am  orb25yr24ha_am  orb2yr24ha_am orb50yr24ha_am  \\\n",
       "0         6,789.38        5,329.28       2,861.72       6,040.96   \n",
       "1         6,789.38        5,329.28       2,861.72       6,040.96   \n",
       "2         6,789.38        5,329.28       2,861.72       6,040.96   \n",
       "3         5,735.26        4,511.41       2,418.30       5,107.41   \n",
       "4         5,639.30        4,438.93       2,379.89       5,025.40   \n",
       "\n",
       "   policy_total_building_coverage_avg  \n",
       "0                           64,285.55  \n",
       "1                           29,839.39  \n",
       "2                           55,680.81  \n",
       "3                           37,778.49  \n",
       "4                           46,515.81  \n",
       "\n",
       "[5 rows x 40 columns]"
      ]
     },
     "execution_count": 10,
     "metadata": {},
     "output_type": "execute_result"
    }
   ],
   "source": [
    "print(\"Shape of Data:\",df.shape)\n",
    "print(\"Distinct Datatypes:\",df.dtypes.unique())\n",
    "df[numeric_columns].head(5)"
   ]
  },
  {
   "cell_type": "markdown",
   "metadata": {},
   "source": [
    "### Feature Selection using the LassoCV estimator"
   ]
  },
  {
   "cell_type": "code",
   "execution_count": 11,
   "metadata": {},
   "outputs": [
    {
     "name": "stdout",
     "output_type": "stream",
     "text": [
      "Automatically created module for IPython interactive environment\n"
     ]
    }
   ],
   "source": [
    "print(__doc__)\n",
    "\n",
    "import matplotlib.pyplot as plt\n",
    "import numpy as np\n",
    "\n",
    "from sklearn.datasets import load_diabetes\n",
    "from sklearn.feature_selection import SelectFromModel\n",
    "from sklearn.linear_model import LassoCV"
   ]
  },
  {
   "cell_type": "code",
   "execution_count": 12,
   "metadata": {},
   "outputs": [],
   "source": [
    "X = df[numeric_columns]"
   ]
  },
  {
   "cell_type": "code",
   "execution_count": 13,
   "metadata": {},
   "outputs": [
    {
     "data": {
      "text/html": [
       "<div>\n",
       "<style scoped>\n",
       "    .dataframe tbody tr th:only-of-type {\n",
       "        vertical-align: middle;\n",
       "    }\n",
       "\n",
       "    .dataframe tbody tr th {\n",
       "        vertical-align: top;\n",
       "    }\n",
       "\n",
       "    .dataframe thead th {\n",
       "        text-align: right;\n",
       "    }\n",
       "</style>\n",
       "<table border=\"1\" class=\"dataframe\">\n",
       "  <thead>\n",
       "    <tr style=\"text-align: right;\">\n",
       "      <th></th>\n",
       "      <th>area</th>\n",
       "      <th>perimeter</th>\n",
       "      <th>circulatory_ratio</th>\n",
       "      <th>relief</th>\n",
       "      <th>avg_slope</th>\n",
       "      <th>watershed_length</th>\n",
       "      <th>elongation_ratio</th>\n",
       "      <th>drainage_density</th>\n",
       "      <th>shape_factor</th>\n",
       "      <th>relief_ratio</th>\n",
       "      <th>...</th>\n",
       "      <th>lu_23_area</th>\n",
       "      <th>lu_24_area</th>\n",
       "      <th>lu_41_area</th>\n",
       "      <th>lu_82_area</th>\n",
       "      <th>avg_impervious_percent</th>\n",
       "      <th>orb100yr24ha_am</th>\n",
       "      <th>orb25yr24ha_am</th>\n",
       "      <th>orb2yr24ha_am</th>\n",
       "      <th>orb50yr24ha_am</th>\n",
       "      <th>policy_total_building_coverage_avg</th>\n",
       "    </tr>\n",
       "  </thead>\n",
       "  <tbody>\n",
       "    <tr>\n",
       "      <th>0</th>\n",
       "      <td>106.11</td>\n",
       "      <td>54.56</td>\n",
       "      <td>0.45</td>\n",
       "      <td>85.49</td>\n",
       "      <td>3.97</td>\n",
       "      <td>22.38</td>\n",
       "      <td>0.04</td>\n",
       "      <td>0.53</td>\n",
       "      <td>4.72</td>\n",
       "      <td>0.0</td>\n",
       "      <td>...</td>\n",
       "      <td>7.64</td>\n",
       "      <td>1.47</td>\n",
       "      <td>18.41</td>\n",
       "      <td>23.36</td>\n",
       "      <td>0.15</td>\n",
       "      <td>6,789.38</td>\n",
       "      <td>5,329.28</td>\n",
       "      <td>2,861.72</td>\n",
       "      <td>6,040.96</td>\n",
       "      <td>64,285.55</td>\n",
       "    </tr>\n",
       "    <tr>\n",
       "      <th>1</th>\n",
       "      <td>54.66</td>\n",
       "      <td>45.84</td>\n",
       "      <td>0.33</td>\n",
       "      <td>38.18</td>\n",
       "      <td>3.10</td>\n",
       "      <td>13.28</td>\n",
       "      <td>0.01</td>\n",
       "      <td>0.37</td>\n",
       "      <td>3.23</td>\n",
       "      <td>0.0</td>\n",
       "      <td>...</td>\n",
       "      <td>5.19</td>\n",
       "      <td>1.22</td>\n",
       "      <td>6.01</td>\n",
       "      <td>8.10</td>\n",
       "      <td>0.15</td>\n",
       "      <td>6,789.38</td>\n",
       "      <td>5,329.28</td>\n",
       "      <td>2,861.72</td>\n",
       "      <td>6,040.96</td>\n",
       "      <td>29,839.39</td>\n",
       "    </tr>\n",
       "    <tr>\n",
       "      <th>2</th>\n",
       "      <td>89.52</td>\n",
       "      <td>74.92</td>\n",
       "      <td>0.20</td>\n",
       "      <td>54.63</td>\n",
       "      <td>3.66</td>\n",
       "      <td>13.57</td>\n",
       "      <td>0.14</td>\n",
       "      <td>0.45</td>\n",
       "      <td>2.06</td>\n",
       "      <td>0.0</td>\n",
       "      <td>...</td>\n",
       "      <td>0.39</td>\n",
       "      <td>0.08</td>\n",
       "      <td>2.66</td>\n",
       "      <td>49.32</td>\n",
       "      <td>0.15</td>\n",
       "      <td>6,789.38</td>\n",
       "      <td>5,329.28</td>\n",
       "      <td>2,861.72</td>\n",
       "      <td>6,040.96</td>\n",
       "      <td>55,680.81</td>\n",
       "    </tr>\n",
       "    <tr>\n",
       "      <th>3</th>\n",
       "      <td>105.46</td>\n",
       "      <td>79.94</td>\n",
       "      <td>0.21</td>\n",
       "      <td>51.75</td>\n",
       "      <td>3.61</td>\n",
       "      <td>14.96</td>\n",
       "      <td>0.06</td>\n",
       "      <td>0.44</td>\n",
       "      <td>2.12</td>\n",
       "      <td>0.0</td>\n",
       "      <td>...</td>\n",
       "      <td>0.33</td>\n",
       "      <td>0.09</td>\n",
       "      <td>4.43</td>\n",
       "      <td>60.33</td>\n",
       "      <td>0.92</td>\n",
       "      <td>5,735.26</td>\n",
       "      <td>4,511.41</td>\n",
       "      <td>2,418.30</td>\n",
       "      <td>5,107.41</td>\n",
       "      <td>37,778.49</td>\n",
       "    </tr>\n",
       "    <tr>\n",
       "      <th>4</th>\n",
       "      <td>87.28</td>\n",
       "      <td>64.13</td>\n",
       "      <td>0.27</td>\n",
       "      <td>28.41</td>\n",
       "      <td>2.42</td>\n",
       "      <td>13.24</td>\n",
       "      <td>0.49</td>\n",
       "      <td>0.53</td>\n",
       "      <td>2.01</td>\n",
       "      <td>0.0</td>\n",
       "      <td>...</td>\n",
       "      <td>8.43</td>\n",
       "      <td>5.10</td>\n",
       "      <td>2.54</td>\n",
       "      <td>28.17</td>\n",
       "      <td>21.89</td>\n",
       "      <td>5,639.30</td>\n",
       "      <td>4,438.93</td>\n",
       "      <td>2,379.89</td>\n",
       "      <td>5,025.40</td>\n",
       "      <td>46,515.81</td>\n",
       "    </tr>\n",
       "  </tbody>\n",
       "</table>\n",
       "<p>5 rows × 40 columns</p>\n",
       "</div>"
      ],
      "text/plain": [
       "     area  perimeter  circulatory_ratio  relief  avg_slope  watershed_length  \\\n",
       "0  106.11      54.56               0.45   85.49       3.97             22.38   \n",
       "1   54.66      45.84               0.33   38.18       3.10             13.28   \n",
       "2   89.52      74.92               0.20   54.63       3.66             13.57   \n",
       "3  105.46      79.94               0.21   51.75       3.61             14.96   \n",
       "4   87.28      64.13               0.27   28.41       2.42             13.24   \n",
       "\n",
       "   elongation_ratio  drainage_density  shape_factor  relief_ratio  ...  \\\n",
       "0              0.04              0.53          4.72           0.0  ...   \n",
       "1              0.01              0.37          3.23           0.0  ...   \n",
       "2              0.14              0.45          2.06           0.0  ...   \n",
       "3              0.06              0.44          2.12           0.0  ...   \n",
       "4              0.49              0.53          2.01           0.0  ...   \n",
       "\n",
       "   lu_23_area  lu_24_area lu_41_area  lu_82_area avg_impervious_percent  \\\n",
       "0        7.64        1.47      18.41       23.36                   0.15   \n",
       "1        5.19        1.22       6.01        8.10                   0.15   \n",
       "2        0.39        0.08       2.66       49.32                   0.15   \n",
       "3        0.33        0.09       4.43       60.33                   0.92   \n",
       "4        8.43        5.10       2.54       28.17                  21.89   \n",
       "\n",
       "   orb100yr24ha_am  orb25yr24ha_am  orb2yr24ha_am orb50yr24ha_am  \\\n",
       "0         6,789.38        5,329.28       2,861.72       6,040.96   \n",
       "1         6,789.38        5,329.28       2,861.72       6,040.96   \n",
       "2         6,789.38        5,329.28       2,861.72       6,040.96   \n",
       "3         5,735.26        4,511.41       2,418.30       5,107.41   \n",
       "4         5,639.30        4,438.93       2,379.89       5,025.40   \n",
       "\n",
       "   policy_total_building_coverage_avg  \n",
       "0                           64,285.55  \n",
       "1                           29,839.39  \n",
       "2                           55,680.81  \n",
       "3                           37,778.49  \n",
       "4                           46,515.81  \n",
       "\n",
       "[5 rows x 40 columns]"
      ]
     },
     "execution_count": 13,
     "metadata": {},
     "output_type": "execute_result"
    }
   ],
   "source": [
    "X.head(5)"
   ]
  },
  {
   "cell_type": "code",
   "execution_count": 14,
   "metadata": {},
   "outputs": [],
   "source": [
    "y = df[target]\n",
    "X = df[numeric_columns]"
   ]
  },
  {
   "cell_type": "markdown",
   "metadata": {},
   "source": [
    "## Lasso Feature Selection "
   ]
  },
  {
   "cell_type": "code",
   "execution_count": 15,
   "metadata": {},
   "outputs": [
    {
     "ename": "ValueError",
     "evalue": "could not convert string to float: '3,688.00'",
     "output_type": "error",
     "traceback": [
      "\u001b[1;31m---------------------------------------------------------------------------\u001b[0m",
      "\u001b[1;31mValueError\u001b[0m                                Traceback (most recent call last)",
      "\u001b[1;32m<ipython-input-15-b81c5def1d58>\u001b[0m in \u001b[0;36m<module>\u001b[1;34m\u001b[0m\n\u001b[1;32m----> 1\u001b[1;33m \u001b[0mlasso_clf\u001b[0m \u001b[1;33m=\u001b[0m \u001b[0mLassoCV\u001b[0m\u001b[1;33m(\u001b[0m\u001b[1;33m)\u001b[0m\u001b[1;33m.\u001b[0m\u001b[0mfit\u001b[0m\u001b[1;33m(\u001b[0m\u001b[0mX\u001b[0m\u001b[1;33m,\u001b[0m \u001b[0my\u001b[0m\u001b[1;33m.\u001b[0m\u001b[0mvalues\u001b[0m\u001b[1;33m.\u001b[0m\u001b[0mravel\u001b[0m\u001b[1;33m(\u001b[0m\u001b[1;33m)\u001b[0m\u001b[1;33m)\u001b[0m\u001b[1;33m\u001b[0m\u001b[1;33m\u001b[0m\u001b[0m\n\u001b[0m\u001b[0;32m      2\u001b[0m \u001b[0mlasso_importance\u001b[0m \u001b[1;33m=\u001b[0m \u001b[0mnp\u001b[0m\u001b[1;33m.\u001b[0m\u001b[0mabs\u001b[0m\u001b[1;33m(\u001b[0m\u001b[0mlasso_clf\u001b[0m\u001b[1;33m.\u001b[0m\u001b[0mcoef_\u001b[0m\u001b[1;33m)\u001b[0m\u001b[1;33m\u001b[0m\u001b[1;33m\u001b[0m\u001b[0m\n\u001b[0;32m      3\u001b[0m \u001b[0mprint\u001b[0m\u001b[1;33m(\u001b[0m\u001b[0mlasso_importance\u001b[0m\u001b[1;33m)\u001b[0m\u001b[1;33m\u001b[0m\u001b[1;33m\u001b[0m\u001b[0m\n",
      "\u001b[1;32m~\\AppData\\Local\\Continuum\\anaconda3\\lib\\site-packages\\sklearn\\linear_model\\_coordinate_descent.py\u001b[0m in \u001b[0;36mfit\u001b[1;34m(self, X, y)\u001b[0m\n\u001b[0;32m   1211\u001b[0m             X, y = self._validate_data(X, y,\n\u001b[0;32m   1212\u001b[0m                                        validate_separately=(check_X_params,\n\u001b[1;32m-> 1213\u001b[1;33m                                                             check_y_params))\n\u001b[0m\u001b[0;32m   1214\u001b[0m             \u001b[0mcopy_X\u001b[0m \u001b[1;33m=\u001b[0m \u001b[1;32mFalse\u001b[0m\u001b[1;33m\u001b[0m\u001b[1;33m\u001b[0m\u001b[0m\n\u001b[0;32m   1215\u001b[0m \u001b[1;33m\u001b[0m\u001b[0m\n",
      "\u001b[1;32m~\\AppData\\Local\\Continuum\\anaconda3\\lib\\site-packages\\sklearn\\base.py\u001b[0m in \u001b[0;36m_validate_data\u001b[1;34m(self, X, y, reset, validate_separately, **check_params)\u001b[0m\n\u001b[0;32m    427\u001b[0m                 \u001b[1;31m# :(\u001b[0m\u001b[1;33m\u001b[0m\u001b[1;33m\u001b[0m\u001b[1;33m\u001b[0m\u001b[0m\n\u001b[0;32m    428\u001b[0m                 \u001b[0mcheck_X_params\u001b[0m\u001b[1;33m,\u001b[0m \u001b[0mcheck_y_params\u001b[0m \u001b[1;33m=\u001b[0m \u001b[0mvalidate_separately\u001b[0m\u001b[1;33m\u001b[0m\u001b[1;33m\u001b[0m\u001b[0m\n\u001b[1;32m--> 429\u001b[1;33m                 \u001b[0mX\u001b[0m \u001b[1;33m=\u001b[0m \u001b[0mcheck_array\u001b[0m\u001b[1;33m(\u001b[0m\u001b[0mX\u001b[0m\u001b[1;33m,\u001b[0m \u001b[1;33m**\u001b[0m\u001b[0mcheck_X_params\u001b[0m\u001b[1;33m)\u001b[0m\u001b[1;33m\u001b[0m\u001b[1;33m\u001b[0m\u001b[0m\n\u001b[0m\u001b[0;32m    430\u001b[0m                 \u001b[0my\u001b[0m \u001b[1;33m=\u001b[0m \u001b[0mcheck_array\u001b[0m\u001b[1;33m(\u001b[0m\u001b[0my\u001b[0m\u001b[1;33m,\u001b[0m \u001b[1;33m**\u001b[0m\u001b[0mcheck_y_params\u001b[0m\u001b[1;33m)\u001b[0m\u001b[1;33m\u001b[0m\u001b[1;33m\u001b[0m\u001b[0m\n\u001b[0;32m    431\u001b[0m             \u001b[1;32melse\u001b[0m\u001b[1;33m:\u001b[0m\u001b[1;33m\u001b[0m\u001b[1;33m\u001b[0m\u001b[0m\n",
      "\u001b[1;32m~\\AppData\\Local\\Continuum\\anaconda3\\lib\\site-packages\\sklearn\\utils\\validation.py\u001b[0m in \u001b[0;36minner_f\u001b[1;34m(*args, **kwargs)\u001b[0m\n\u001b[0;32m     71\u001b[0m                           FutureWarning)\n\u001b[0;32m     72\u001b[0m         \u001b[0mkwargs\u001b[0m\u001b[1;33m.\u001b[0m\u001b[0mupdate\u001b[0m\u001b[1;33m(\u001b[0m\u001b[1;33m{\u001b[0m\u001b[0mk\u001b[0m\u001b[1;33m:\u001b[0m \u001b[0marg\u001b[0m \u001b[1;32mfor\u001b[0m \u001b[0mk\u001b[0m\u001b[1;33m,\u001b[0m \u001b[0marg\u001b[0m \u001b[1;32min\u001b[0m \u001b[0mzip\u001b[0m\u001b[1;33m(\u001b[0m\u001b[0msig\u001b[0m\u001b[1;33m.\u001b[0m\u001b[0mparameters\u001b[0m\u001b[1;33m,\u001b[0m \u001b[0margs\u001b[0m\u001b[1;33m)\u001b[0m\u001b[1;33m}\u001b[0m\u001b[1;33m)\u001b[0m\u001b[1;33m\u001b[0m\u001b[1;33m\u001b[0m\u001b[0m\n\u001b[1;32m---> 73\u001b[1;33m         \u001b[1;32mreturn\u001b[0m \u001b[0mf\u001b[0m\u001b[1;33m(\u001b[0m\u001b[1;33m**\u001b[0m\u001b[0mkwargs\u001b[0m\u001b[1;33m)\u001b[0m\u001b[1;33m\u001b[0m\u001b[1;33m\u001b[0m\u001b[0m\n\u001b[0m\u001b[0;32m     74\u001b[0m     \u001b[1;32mreturn\u001b[0m \u001b[0minner_f\u001b[0m\u001b[1;33m\u001b[0m\u001b[1;33m\u001b[0m\u001b[0m\n\u001b[0;32m     75\u001b[0m \u001b[1;33m\u001b[0m\u001b[0m\n",
      "\u001b[1;32m~\\AppData\\Local\\Continuum\\anaconda3\\lib\\site-packages\\sklearn\\utils\\validation.py\u001b[0m in \u001b[0;36mcheck_array\u001b[1;34m(array, accept_sparse, accept_large_sparse, dtype, order, copy, force_all_finite, ensure_2d, allow_nd, ensure_min_samples, ensure_min_features, estimator)\u001b[0m\n\u001b[0;32m    597\u001b[0m                     \u001b[0marray\u001b[0m \u001b[1;33m=\u001b[0m \u001b[0marray\u001b[0m\u001b[1;33m.\u001b[0m\u001b[0mastype\u001b[0m\u001b[1;33m(\u001b[0m\u001b[0mdtype\u001b[0m\u001b[1;33m,\u001b[0m \u001b[0mcasting\u001b[0m\u001b[1;33m=\u001b[0m\u001b[1;34m\"unsafe\"\u001b[0m\u001b[1;33m,\u001b[0m \u001b[0mcopy\u001b[0m\u001b[1;33m=\u001b[0m\u001b[1;32mFalse\u001b[0m\u001b[1;33m)\u001b[0m\u001b[1;33m\u001b[0m\u001b[1;33m\u001b[0m\u001b[0m\n\u001b[0;32m    598\u001b[0m                 \u001b[1;32melse\u001b[0m\u001b[1;33m:\u001b[0m\u001b[1;33m\u001b[0m\u001b[1;33m\u001b[0m\u001b[0m\n\u001b[1;32m--> 599\u001b[1;33m                     \u001b[0marray\u001b[0m \u001b[1;33m=\u001b[0m \u001b[0mnp\u001b[0m\u001b[1;33m.\u001b[0m\u001b[0masarray\u001b[0m\u001b[1;33m(\u001b[0m\u001b[0marray\u001b[0m\u001b[1;33m,\u001b[0m \u001b[0morder\u001b[0m\u001b[1;33m=\u001b[0m\u001b[0morder\u001b[0m\u001b[1;33m,\u001b[0m \u001b[0mdtype\u001b[0m\u001b[1;33m=\u001b[0m\u001b[0mdtype\u001b[0m\u001b[1;33m)\u001b[0m\u001b[1;33m\u001b[0m\u001b[1;33m\u001b[0m\u001b[0m\n\u001b[0m\u001b[0;32m    600\u001b[0m             \u001b[1;32mexcept\u001b[0m \u001b[0mComplexWarning\u001b[0m\u001b[1;33m:\u001b[0m\u001b[1;33m\u001b[0m\u001b[1;33m\u001b[0m\u001b[0m\n\u001b[0;32m    601\u001b[0m                 raise ValueError(\"Complex data not supported\\n\"\n",
      "\u001b[1;32m~\\AppData\\Local\\Continuum\\anaconda3\\lib\\site-packages\\numpy\\core\\numeric.py\u001b[0m in \u001b[0;36masarray\u001b[1;34m(a, dtype, order)\u001b[0m\n\u001b[0;32m    536\u001b[0m \u001b[1;33m\u001b[0m\u001b[0m\n\u001b[0;32m    537\u001b[0m     \"\"\"\n\u001b[1;32m--> 538\u001b[1;33m     \u001b[1;32mreturn\u001b[0m \u001b[0marray\u001b[0m\u001b[1;33m(\u001b[0m\u001b[0ma\u001b[0m\u001b[1;33m,\u001b[0m \u001b[0mdtype\u001b[0m\u001b[1;33m,\u001b[0m \u001b[0mcopy\u001b[0m\u001b[1;33m=\u001b[0m\u001b[1;32mFalse\u001b[0m\u001b[1;33m,\u001b[0m \u001b[0morder\u001b[0m\u001b[1;33m=\u001b[0m\u001b[0morder\u001b[0m\u001b[1;33m)\u001b[0m\u001b[1;33m\u001b[0m\u001b[1;33m\u001b[0m\u001b[0m\n\u001b[0m\u001b[0;32m    539\u001b[0m \u001b[1;33m\u001b[0m\u001b[0m\n\u001b[0;32m    540\u001b[0m \u001b[1;33m\u001b[0m\u001b[0m\n",
      "\u001b[1;31mValueError\u001b[0m: could not convert string to float: '3,688.00'"
     ]
    }
   ],
   "source": [
    "lasso_clf = LassoCV().fit(X, y.values.ravel())\n",
    "lasso_importance = np.abs(lasso_clf.coef_)\n",
    "print(lasso_importance)"
   ]
  },
  {
   "cell_type": "markdown",
   "metadata": {},
   "source": [
    "## Ridge Feature Selection"
   ]
  },
  {
   "cell_type": "code",
   "execution_count": null,
   "metadata": {},
   "outputs": [],
   "source": [
    "ridge_clf = Ridge().fit(X, y.values.ravel())\n",
    "ridge_importance = np.abs(ridge_clf.coef_)\n",
    "np.round(ridge_importance,3)"
   ]
  },
  {
   "cell_type": "code",
   "execution_count": null,
   "metadata": {},
   "outputs": [],
   "source": [
    "ridge_importance = np.abs(ridge_clf.coef_)\n",
    "np.round(ridge_importance,3)\n",
    "\n",
    "feature_names = numeric_columns\n",
    "idx_third = ridge_importance.argsort()[-3]\n",
    "print(ridge_importance.argsort())\n",
    "\n",
    "ridge_threshold = ridge_importance[idx_third] + 10\n",
    "print('Threshold is: {}'.format(ridge_threshold))\n",
    "\n",
    "# # How many features do we want?\n",
    "# # Get the indicies\n",
    "idx_features = (-ridge_importance).argsort()[:10]\n",
    "\n",
    "# # subset by the indicies\n",
    "name_features = np.array(feature_names)[idx_features]\n",
    "print('Selected features: {}'.format(name_features))"
   ]
  },
  {
   "cell_type": "code",
   "execution_count": null,
   "metadata": {},
   "outputs": [],
   "source": [
    "# ridge_threshold = ridge_importance[idx_third] + 10\n",
    "# print('Threshold is: {}'.format(ridge_threshold))"
   ]
  },
  {
   "cell_type": "code",
   "execution_count": null,
   "metadata": {},
   "outputs": [],
   "source": [
    "# # How many features do we want?\n",
    "# # Get the indicies\n",
    "# idx_features = (-ridge_importance).argsort()[:10]\n",
    "\n",
    "# # subset by the indicies\n",
    "# name_features = np.array(feature_names)[idx_features]\n",
    "# print('Selected features: {}'.format(name_features))"
   ]
  },
  {
   "cell_type": "code",
   "execution_count": null,
   "metadata": {},
   "outputs": [],
   "source": [
    "# sfm = SelectFromModel(ridge_clf, threshold=ridge_threshold)\n",
    "# sfm.fit(X, y.values.ravel())\n",
    "# X_transform = sfm.transform(X)\n",
    "\n",
    "# n_features = sfm.transform(X).shape[1]"
   ]
  },
  {
   "cell_type": "markdown",
   "metadata": {},
   "source": [
    "### Min Max Normalization"
   ]
  },
  {
   "cell_type": "code",
   "execution_count": null,
   "metadata": {},
   "outputs": [],
   "source": [
    "from sklearn.preprocessing import MinMaxScaler\n",
    "scaler = MinMaxScaler()\n",
    "scaler.fit(df)\n",
    "df_scale = scaler.transform(df)\n",
    "np.round(df_scale, 3)"
   ]
  },
  {
   "cell_type": "code",
   "execution_count": null,
   "metadata": {},
   "outputs": [],
   "source": [
    "df_scale_dataframe = pd.DataFrame(df_scale, columns = df.columns.values)"
   ]
  },
  {
   "cell_type": "code",
   "execution_count": null,
   "metadata": {},
   "outputs": [],
   "source": [
    "# df_scale_dataframe.hist(figsize=(40,20))\n",
    "df_scale_dataframe.to_csv(\"IN_DL_scale.csv\")"
   ]
  },
  {
   "cell_type": "code",
   "execution_count": null,
   "metadata": {},
   "outputs": [],
   "source": [
    "# import os\n",
    "# cwd = os.getcwd()\n",
    "# cwd"
   ]
  },
  {
   "cell_type": "markdown",
   "metadata": {},
   "source": [
    "## Train Test Split"
   ]
  },
  {
   "cell_type": "code",
   "execution_count": null,
   "metadata": {},
   "outputs": [],
   "source": [
    "#Create train and test dataset with an 80:20 split\n",
    "x_train, x_test, y_train, y_test = train_test_split(df_scale_dataframe[numeric_columns],df_scale_dataframe[target],test_size=0.2,random_state=2018)\n",
    "# Further divide training dataset into train and validation dataset with an 90:10 split\n",
    "x_train, x_val, y_train, y_val = train_test_split(x_train,y_train,test_size=0.1,random_state=2018)\n",
    "\n",
    "#Check the sizes of all newly created datasets\n",
    "print(\"Shape of x_train:\",x_train.shape)\n",
    "print(\"Shape of x_val:\",x_val.shape)\n",
    "print(\"Shape of x_test:\",x_test.shape)\n",
    "print(\"Shape of y_train:\",y_train.shape)\n",
    "print(\"Shape of y_val:\",y_val.shape)\n",
    "print(\"Shape of y_test:\",y_test.shape)"
   ]
  },
  {
   "cell_type": "markdown",
   "metadata": {},
   "source": [
    "## Modelling a ridge regression in Python"
   ]
  },
  {
   "cell_type": "code",
   "execution_count": null,
   "metadata": {},
   "outputs": [],
   "source": [
    "###Model Ridge regression\n",
    "from sklearn.linear_model import Ridge, RidgeCV, ElasticNet, LassoCV, LassoLarsCV\n",
    "from sklearn.model_selection import cross_val_score\n",
    "cross_val_score(Ridge(), x_train, y_train, scoring= \"neg_mean_squared_error\", cv = 5)"
   ]
  },
  {
   "cell_type": "code",
   "execution_count": null,
   "metadata": {},
   "outputs": [],
   "source": [
    "# Let’s look at the coefficients of the model:\n",
    "rmse_ridge = np.sqrt(-cross_val_score(Ridge(), x_train, y_train, scoring=\"neg_mean_squared_error\", cv = 5))\n",
    "rmse_ridge"
   ]
  },
  {
   "cell_type": "code",
   "execution_count": null,
   "metadata": {},
   "outputs": [],
   "source": [
    "# sns.set_style(\"white\")\n",
    "# # Now let us look at a chart about the coefficients in the model:\n",
    "alphas = np.arange(0,0.0001,0.00001)\n",
    "def rmse_cv(model):\n",
    "    rmse= np.sqrt(-cross_val_score(model, x_train, y_train, scoring=\"neg_mean_squared_error\", cv = 5))\n",
    "    return(rmse)\n",
    "cv_ridge = [rmse_cv(Ridge(alpha = alpha)).mean() \n",
    "            for alpha in alphas]\n",
    "cv_ridge = pd.Series(cv_ridge, index = alphas)\n",
    "cv_ridge.plot(title = \"Validation\")\n",
    "# plt.xlabel(\"alpha\")\n",
    "# plt.ylabel(\"rmse\")"
   ]
  },
  {
   "cell_type": "code",
   "execution_count": null,
   "metadata": {},
   "outputs": [],
   "source": [
    "cv_ridge[cv_ridge.values == cv_ridge.min()]"
   ]
  },
  {
   "cell_type": "code",
   "execution_count": null,
   "metadata": {},
   "outputs": [],
   "source": [
    "ridge_clf = Ridge(alpha = 0.7).fit(x_train, y_train.values.ravel())"
   ]
  },
  {
   "cell_type": "code",
   "execution_count": null,
   "metadata": {},
   "outputs": [],
   "source": [
    "clf = LassoCV().fit(x_train, y_train)\n",
    "importance = np.abs(clf.coef_)\n",
    "print(importance)\n",
    "\n",
    "idx_third = importance.argsort()[-3]\n",
    "threshold = importance[idx_third] + 0.001\n",
    "\n",
    "idx_features = (-importance).argsort()[:2]\n",
    "name_features = np.array(feature_names)[idx_features]\n",
    "print('Selected features: {}'.format(name_features))\n",
    "\n",
    "sfm = SelectFromModel(clf, threshold=threshold)\n",
    "sfm.fit(x_train, y_train)\n",
    "X_transform = sfm.transform(X)\n",
    "\n",
    "n_features = sfm.transform(X).shape[1]"
   ]
  },
  {
   "cell_type": "code",
   "execution_count": null,
   "metadata": {},
   "outputs": [],
   "source": [
    "plt.title(\n",
    "    \"Features from diabets using SelectFromModel with \"\n",
    "    \"threshold %0.3f.\" % sfm.threshold)\n",
    "feature1 = X_transform[:, 0]\n",
    "feature2 = X_transform[:, 1]\n",
    "plt.plot(feature1, feature2, 'r.')\n",
    "plt.xlabel(\"First feature: {}\".format(name_features[0]))\n",
    "plt.ylabel(\"Second feature: {}\".format(name_features[1]))\n",
    "plt.ylim([np.min(feature2), np.max(feature2)])\n",
    "plt.show()"
   ]
  },
  {
   "cell_type": "code",
   "execution_count": null,
   "metadata": {},
   "outputs": [],
   "source": [
    "ridge_importance = np.abs(ridge_clf.coef_)\n",
    "np.round(ridge_importance,3)\n",
    "\n",
    "feature_names = numeric_columns\n",
    "idx_third = ridge_importance.argsort()[-3]\n",
    "print(ridge_importance.argsort())\n",
    "\n",
    "ridge_threshold = ridge_importance[idx_third] + 0.000001\n",
    "print('Threshold is: {}'.format(ridge_threshold))\n",
    "\n",
    "# # How many features do we want?\n",
    "# # Get the indicies\n",
    "idx_features = (-ridge_importance).argsort()\n",
    "\n",
    "# # subset by the indicies\n",
    "name_features = np.array(feature_names)[idx_features]\n",
    "print('Selected features: {}'.format(name_features))"
   ]
  },
  {
   "cell_type": "code",
   "execution_count": null,
   "metadata": {},
   "outputs": [],
   "source": [
    "# ###Model Lasso regression\n",
    "# coef = pd.Series(model_ridge.coef_, index = x_train.columns)\n",
    "# coef.head()"
   ]
  },
  {
   "cell_type": "code",
   "execution_count": null,
   "metadata": {},
   "outputs": [],
   "source": [
    "# ###Model Lasso regression\n",
    "# model_lasso = LassoCV(alphas=alphas).fit(x_train, y_train.values.ravel())\n",
    "# coef = pd.Series(model_lasso.coef_, index = x_train.columns)\n",
    "# print(\"Lasso picked \" + str(sum(coef != 0)) + \" variables and eliminated the other \" +  str(sum(coef == 0)) + \" variables\")"
   ]
  },
  {
   "cell_type": "code",
   "execution_count": null,
   "metadata": {},
   "outputs": [],
   "source": [
    "# imp_coef = pd.concat([coef.sort_values().head(10),\n",
    "#                      coef.sort_values().tail(10)])\n",
    "# matplotlib.rcParams['figure.figsize'] = (8.0, 10.0)\n",
    "# imp_coef.plot(kind = \"barh\")\n",
    "# plt.title(\"Coefficients in the Lasso Model\")"
   ]
  },
  {
   "cell_type": "code",
   "execution_count": null,
   "metadata": {},
   "outputs": [],
   "source": [
    "# import matplotlib\n",
    "# imp_coef = pd.concat([coef.sort_values().head(10),\n",
    "#                      coef.sort_values().tail(10)])\n",
    "# matplotlib.rcParams['figure.figsize'] = (8.0, 10.0)\n",
    "# imp_coef.plot(kind = \"barh\")\n",
    "# plt.title(\"Coefficients in the Lasso Model\")"
   ]
  },
  {
   "cell_type": "markdown",
   "metadata": {},
   "source": [
    "### Creating Baseline Accuracy"
   ]
  },
  {
   "cell_type": "code",
   "execution_count": null,
   "metadata": {},
   "outputs": [],
   "source": [
    "#calcualte the average score of the train dataset\n",
    "mean_claims = y_train.mean()\n",
    "print(\"Average Claims :\",mean_claims) "
   ]
  },
  {
   "cell_type": "code",
   "execution_count": null,
   "metadata": {},
   "outputs": [],
   "source": [
    "#Calculate the Mean Absolute Error on the test dataset\n",
    "print(\"MAE for Test Data:\",abs(y_test - mean_claims).mean()[0])"
   ]
  },
  {
   "cell_type": "markdown",
   "metadata": {},
   "source": [
    "# ------------ GLM -----------------"
   ]
  },
  {
   "cell_type": "code",
   "execution_count": null,
   "metadata": {},
   "outputs": [],
   "source": [
    "# pip uninstall h2o"
   ]
  },
  {
   "cell_type": "code",
   "execution_count": null,
   "metadata": {},
   "outputs": [],
   "source": [
    "# import h2o"
   ]
  },
  {
   "cell_type": "markdown",
   "metadata": {},
   "source": [
    "# -------------- Deep Learning ------------------\n",
    "### Designing the Deep Neural Network"
   ]
  },
  {
   "cell_type": "code",
   "execution_count": null,
   "metadata": {},
   "outputs": [],
   "source": [
    "#Create Deep Neural Network Architecuture\n",
    "from keras import Sequential\n",
    "from keras.layers import Dense, Dropout\n",
    "\n",
    "model1 = Sequential()\n",
    "model1.add(Dense(150,input_dim = 40, activation=\"relu\", use_bias=True))\n",
    "model1.add(Dense(1, activation = \"linear\"))\n",
    "\n",
    "#Configure the model\n",
    "model1.compile(optimizer='adam', loss=\"mean_absolute_error\", metrics=[\"mean_absolute_error\"])\n",
    "\n",
    "#Train the model\n",
    "model1.fit(x_train,y_train, validation_data=(x_val,y_val),epochs=100,batch_size=64)\n",
    "\n",
    "result = model1.evaluate(x_test,y_test)\n",
    "for i in range(len(model1.metrics_names)):\n",
    "    print(\"Metric \", model1.metrics_names[i],\":\",str(round(result[i],2)))"
   ]
  },
  {
   "cell_type": "code",
   "execution_count": null,
   "metadata": {},
   "outputs": [],
   "source": [
    "#Use the model's evaluate method to predict and evaluate the test datasets\n",
    "result = model.evaluate(x_test,y_test)\n",
    "\n",
    "#Print the results\n",
    "for i in range(len(model.metrics_names)):\n",
    "    print(\"Metric \",model.metrics_names[i],\":\",str(round(result[i],2)))"
   ]
  },
  {
   "cell_type": "code",
   "execution_count": null,
   "metadata": {},
   "outputs": [],
   "source": [
    "model2 = Sequential()\n",
    "model2.add(Dense(150,input_dim = 40, activation=\"relu\", use_bias=True))\n",
    "model2.add(Dense(150,activation=\"relu\"))\n",
    "model2.add(Dense(150,activation=\"relu\"))\n",
    "model2.add(Dense(1,activation = \"linear\"))\n",
    "\n",
    "model2.compile(optimizer='adam',loss=\"mean_squared_error\",metrics=[\"mean_absolute_error\"])\n",
    "\n",
    "history = model2.fit(x_train,y_train, validation_data=(x_val,y_val),epochs=10,batch_size=64)\n",
    "\n",
    "#result = model.evaluate(x_test,y_test)\n",
    "for i in range(len(model2.metrics_names)):\n",
    "    print(\"Metric \",model2.metrics_names[i],\":\",str(round(result[i],2)))\n"
   ]
  },
  {
   "cell_type": "code",
   "execution_count": null,
   "metadata": {},
   "outputs": [],
   "source": [
    "# model = Sequential()\n",
    "# model.add(Dense(150,input_dim = 40, activation=\"relu\", use_bias=True))\n",
    "# model.add(Dense(1, activation = \"linear\"))\n",
    "\n",
    "# #Configure the model\n",
    "# model.compile(optimizer='adam', loss=\"mean_absolute_error\", metrics=[\"mean_absolute_error\"])\n",
    "\n",
    "# #Train the model\n",
    "# model.fit(x_train,y_train, validation_data=(x_val,y_val),epochs=100,batch_size=64)\n",
    "\n",
    "model3 = Sequential()\n",
    "model3.add(Dense(150, input_dim = 40, activation=\"relu\", use_bias=True))\n",
    "model3.add(Dense(150, activation=\"relu\", use_bias=True))\n",
    "model3.add(Dense(150, activation=\"relu\", use_bias=True))\n",
    "model3.add(Dense(150, activation=\"relu\", use_bias=True))\n",
    "model3.add(Dense(150, activation=\"relu\", use_bias=True))\n",
    "model3.add(Dense(1, activation = \"linear\", use_bias=True))\n",
    "\n",
    "model3.compile(optimizer='adam',loss=\"mean_squared_error\",metrics=[\"mean_squared_error\", \"mean_absolute_error\"])\n",
    "\n",
    "model3.fit(x_train,y_train, validation_data=(x_val,y_val),epochs=30,batch_size=64)\n",
    "\n",
    "result = model3.evaluate(x_test,y_test)\n",
    "for i in range(len(model3.metrics_names)):\n",
    "    print(\"Metric \",model3.metrics_names[i],\":\",str(round(result[i],2)))"
   ]
  },
  {
   "cell_type": "code",
   "execution_count": null,
   "metadata": {},
   "outputs": [],
   "source": [
    "# model4 = Sequential()\n",
    "# model4.add(Dense(350,input_dim = 40,activation=\"relu\"))\n",
    "# model4.add(Dense(350,activation=\"relu\"))\n",
    "# model4.add(Dense(1,activation = \"linear\"))\n",
    "\n",
    "# model4.compile(optimizer='adam',loss=\"mean_squared_error\",metrics=[\"mean_absolute_error\"])\n",
    "\n",
    "# model4.fit(x_train,y_train, validation_data=(x_val,y_val),epochs=15,batch_size=64)\n",
    "\n",
    "# result = model4.evaluate(x_test,y_test)\n",
    "# for i in range(len(model4.metrics_names)):\n",
    "#     print(\"Metric \",model4.metrics_names[i],\":\",str(round(result[i],2)))\n"
   ]
  },
  {
   "cell_type": "markdown",
   "metadata": {},
   "source": [
    "### Training the model with increased number of epochs"
   ]
  },
  {
   "cell_type": "code",
   "execution_count": null,
   "metadata": {},
   "outputs": [],
   "source": [
    "from keras.callbacks import History\n",
    "from keras.callbacks import EarlyStopping, ModelCheckpoint\n",
    "\n",
    "# Set callback functions to early stop training and save the best model so far\n",
    "# callbacks = [EarlyStopping(monitor='val_loss', patience=2)]\n",
    "\n",
    "model4 = Sequential()\n",
    "model4.add(Dense(350,input_dim = 40,activation=\"relu\"))\n",
    "model4.add(Dropout(0.2, input_shape=(40,)))\n",
    "model4.add(Dense(350,activation=\"relu\"))\n",
    "model4.add(Dropout(0.2, input_shape=(40,)))\n",
    "model4.add(Dense(350,activation=\"relu\"))\n",
    "model4.add(Dropout(0.2, input_shape=(40,)))\n",
    "model4.add(Dense(350,activation=\"relu\"))\n",
    "model4.add(Dropout(0.2, input_shape=(40,)))\n",
    "model4.add(Dense(350,activation=\"relu\"))\n",
    "model4.add(Dropout(0.2, input_shape=(40,)))\n",
    "model4.add(Dense(1,activation = \"linear\"))\n",
    "\n",
    "model4.compile(optimizer='adam',loss=\"mean_squared_error\",\n",
    "               metrics=[\"mean_squared_error\", \"mean_absolute_error\"])\n",
    "\n",
    "model4.fit(x_train,y_train, \n",
    "           validation_data=(x_val,y_val), \n",
    "           epochs=150,\n",
    "           batch_size=64,\n",
    "           callbacks=callbacks)\n",
    "\n",
    "result = model4.evaluate(x_test,y_test)\n",
    "\n",
    "for i in range(len(model4.metrics_names)):\n",
    "    print(\"Metric \",model4.metrics_names[i],\":\",str(round(result[i],2)))\n"
   ]
  },
  {
   "cell_type": "markdown",
   "metadata": {},
   "source": [
    "### Visualing the final results"
   ]
  },
  {
   "cell_type": "code",
   "execution_count": null,
   "metadata": {},
   "outputs": [],
   "source": [
    "callbacks"
   ]
  },
  {
   "cell_type": "code",
   "execution_count": null,
   "metadata": {},
   "outputs": [],
   "source": [
    "plt.plot(history.history['loss'])\n",
    "plt.plot(history.history['val_loss'])\n",
    "plt.title(\"Model's Training & Validation loss across epochs\")\n",
    "plt.ylabel('Loss')\n",
    "plt.xlabel('Epochs')\n",
    "plt.legend(['Train', 'Validation'], loc='upper right')\n",
    "plt.show()\n"
   ]
  },
  {
   "cell_type": "code",
   "execution_count": null,
   "metadata": {},
   "outputs": [],
   "source": [
    "# #Manually predicting from the model, instead of using model's evaluate function\n",
    "# y_test[\"Prediction\"] = model4.predict(x_test)\n",
    "# y_test.columns = [\"Actual Claims\",\"Predicted Claims\"]\n",
    "# print(y_test.head(10))\n",
    "\n",
    "# # #Manually predicting from the model, instead of using model's evaluate function\n",
    "# from sklearn.metrics import mean_squared_error, mean_absolute_error\n",
    "# print(\"MSE :\",mean_squared_error(y_test[\"Actual Claims\"].values,y_test[\"Predicted Claims\"].values))\n",
    "# print(\"MAE :\",mean_absolute_error(y_test[\"Actual Claims\"].values,y_test[\"Predicted Claims\"].values))"
   ]
  },
  {
   "cell_type": "code",
   "execution_count": null,
   "metadata": {},
   "outputs": [],
   "source": [
    "from keras.wrappers.scikit_learn import KerasClassifier, KerasRegressor\n",
    "import eli5\n",
    "from eli5.sklearn import PermutationImportance\n",
    "\n",
    "\n",
    "\n",
    "perm = PermutationImportance(model, random_state=1).fit(X,y)\n",
    "eli5.show_weights(perm, feature_names = X.columns.tolist())"
   ]
  },
  {
   "cell_type": "code",
   "execution_count": null,
   "metadata": {},
   "outputs": [],
   "source": [
    "model"
   ]
  },
  {
   "cell_type": "code",
   "execution_count": null,
   "metadata": {},
   "outputs": [],
   "source": [
    "# permutation feature importance with knn for regression\n",
    "from sklearn.datasets import make_regression\n",
    "from sklearn.neighbors import KNeighborsRegressor\n",
    "from sklearn.inspection import permutation_importance\n",
    "from matplotlib import pyplot\n",
    "\n",
    "# define the model\n",
    "model = KNeighborsRegressor()\n",
    "# fit the model\n",
    "model.fit(X, y)\n",
    "# perform permutation importance\n",
    "results = permutation_importance(model, X, y, scoring='neg_mean_squared_error')\n",
    "# get importance\n",
    "importance = results.importances_mean\n",
    "# summarize feature importance\n",
    "for i,v in enumerate(importance):\n",
    "\tprint('Feature: %0d, Score: %.5f' % (i,v))\n",
    "# plot feature importance\n",
    "pyplot.bar([x for x in range(len(importance))], importance)\n",
    "pyplot.show()"
   ]
  },
  {
   "cell_type": "code",
   "execution_count": null,
   "metadata": {},
   "outputs": [],
   "source": []
  }
 ],
 "metadata": {
  "kernelspec": {
   "display_name": "Python 3",
   "language": "python",
   "name": "python3"
  },
  "language_info": {
   "codemirror_mode": {
    "name": "ipython",
    "version": 3
   },
   "file_extension": ".py",
   "mimetype": "text/x-python",
   "name": "python",
   "nbconvert_exporter": "python",
   "pygments_lexer": "ipython3",
   "version": "3.7.4"
  }
 },
 "nbformat": 4,
 "nbformat_minor": 2
}
