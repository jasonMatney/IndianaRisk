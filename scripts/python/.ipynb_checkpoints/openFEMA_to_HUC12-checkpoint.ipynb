{
 "cells": [
  {
   "cell_type": "markdown",
   "metadata": {},
   "source": [
    "# Convert openFEMA .csv files to spatial format "
   ]
  },
  {
   "cell_type": "markdown",
   "metadata": {},
   "source": [
    "#### Import modules:"
   ]
  },
  {
   "cell_type": "code",
   "execution_count": 1,
   "metadata": {},
   "outputs": [],
   "source": [
    "# Pandas to handle all of the .csv files downloaded from openFEMA.\n",
    "import pandas as pd\n",
    "# Glob will be used to aggregate file lists from folders.\n",
    "import glob\n",
    "# OS will be used for paths.\n",
    "import os"
   ]
  },
  {
   "cell_type": "markdown",
   "metadata": {},
   "source": [
    "#### Preparation:"
   ]
  },
  {
   "cell_type": "code",
   "execution_count": 2,
   "metadata": {},
   "outputs": [],
   "source": [
    "# These are the columns that exist in the first policy .csv, which is broken into 11 parts.\n",
    "#  This list is used to assign headers to subsequent policy .csv files which do not have headers. \n",
    "policy_columns = [\n",
    "    'agriculturestructureindicator', 'basefloodelevation',\n",
    "    'basementenclosurecrawlspacetype', 'cancellationdateoffloodpolicy',\n",
    "    'censustract', 'condominiumindicator', 'construction', 'countycode',\n",
    "    'crsdiscount', 'deductibleamountinbuildingcoverage',\n",
    "    'deductibleamountincontentscoverage', 'elevatedbuildingindicator',\n",
    "    'elevationcertificateindicator', 'elevationdifference',\n",
    "    'federalpolicyfee', 'floodzone', 'hfiaasurcharge',\n",
    "    'houseofworshipindicator', 'latitude', 'locationofcontents',\n",
    "    'longitude', 'lowestadjacentgrade', 'lowestfloorelevation',\n",
    "    'nonprofitindicator', 'numberoffloorsininsuredbuilding',\n",
    "    'obstructiontype', 'occupancytype', 'originalconstructiondate',\n",
    "    'originalnbdate', 'policycost', 'policycount', 'policyeffectivedate',\n",
    "    'policyterminationdate', 'policytermindicator',\n",
    "    'postfirmconstructionindicator', 'primaryresidenceindicator',\n",
    "    'propertystate', 'reportedzipcode', 'ratemethod',\n",
    "    'regularemergencyprogramindicator', 'reportedcity',\n",
    "    'smallbusinessindicatorbuilding', 'totalbuildinginsurancecoverage',\n",
    "    'totalcontentsinsurancecoverage', 'totalinsurancepremiumofthepolicy'\n",
    "]\n",
    "# These are the columns that we want to keep for each policy .csv file.\n",
    "policy_use_columns = [\n",
    "    'countycode',\n",
    "    'censustract',\n",
    "    'latitude',\n",
    "    'longitude',\n",
    "    'totalbuildinginsurancecoverage',\n",
    "    'policyeffectivedate']\n",
    "\n",
    "# These are the relative paths for each openFEMA policy .csv file.\n",
    "policy_paths = [\n",
    "    'Data/FIMA_NFIP_Redacted_Policies_Data_Set_Part_1/openFEMA_policies20190831_01.csv',\n",
    "    'Data/FIMA_NFIP_Redacted_Policies_Data_Set_Part_1/openFEMA_policies20190831_02.csv',\n",
    "    'Data/FIMA_NFIP_Redacted_Policies_Data_Set_Part_2/openFEMA_policies20190831_03.csv',\n",
    "    'Data/FIMA_NFIP_Redacted_Policies_Data_Set_Part_2/openFEMA_policies20190831_04.csv',\n",
    "    'Data/FIMA_NFIP_Redacted_Policies_Data_Set_Part_3/openFEMA_policies20190831_05.csv',\n",
    "    'Data/FIMA_NFIP_Redacted_Policies_Data_Set_Part_3/openFEMA_policies20190831_06.csv',\n",
    "    'Data/FIMA_NFIP_Redacted_Policies_Data_Set_Part_4/openFEMA_policies20190831_07.csv',\n",
    "    'Data/FIMA_NFIP_Redacted_Policies_Data_Set_Part_4/openFEMA_policies20190831_08.csv',\n",
    "    'Data/FIMA_NFIP_Redacted_Policies_Data_Set_Part_5/openFEMA_policies20190831_09.csv',\n",
    "    'Data/FIMA_NFIP_Redacted_Policies_Data_Set_Part_5/openFEMA_policies20190831_10.csv',\n",
    "    'Data/FIMA_NFIP_Redacted_Policies_Data_Set_Part_6/openFEMA_policies20190831_11.csv'\n",
    "]"
   ]
  },
  {
   "cell_type": "markdown",
   "metadata": {},
   "source": [
    "#### Pull Indiana data from policy .csv files and write info to a new file:"
   ]
  },
  {
   "cell_type": "code",
   "execution_count": 3,
   "metadata": {},
   "outputs": [],
   "source": [
    "for index, path in enumerate(policy_paths):\n",
    "    # If it is the first .csv which has headers:\n",
    "    if index == 0:\n",
    "        # Store the correct policy number based on file name.\n",
    "        policy_number = index + 1\n",
    "        \n",
    "        # Import policy info as DataFrame with only the applicable columns.\n",
    "        openFEMA_policy_df = pd.read_csv(path, usecols=policy_use_columns)\n",
    "\n",
    "        # Sort out all rows that are not from Indiana ('countycode' must start with 18).\n",
    "        indiana_policies = openFEMA_policy_df[openFEMA_policy_df['countycode'].apply(str).str.startswith('18') == True]\n",
    "        \n",
    "        # Drop rows that are missing values, which will interfere with later operations.\n",
    "        indiana_policies = indiana_policies.dropna()\n",
    "        \n",
    "        # Save the filtered DataFrame to a new file and delete DataFrames from memory.\n",
    "        indiana_policies.to_csv('Data/Indiana_data/Indiana_Policies_{}.csv'.format(str(policy_number)))\n",
    "        del openFEMA_policy_df, indiana_policies\n",
    "    \n",
    "    # For every other policy .csv file:\n",
    "    else:\n",
    "        # Store the correct policy number based on file name.\n",
    "        policy_number = index + 1\n",
    "        \n",
    "        # Import policy info as DataFrame.\n",
    "        openFEMA_policy_df = pd.read_csv(path, low_memory=False)\n",
    "        \n",
    "        # Assign names to columns in DataFrame.\n",
    "        openFEMA_policy_df.columns = policy_columns\n",
    "        \n",
    "        # Take only the columns we need.\n",
    "        openFEMA_policy_df = openFEMA_policy_df[policy_use_columns].copy()\n",
    "        \n",
    "        # Sort out all rows that are not from Indiana ('countycode' must start with 18).\n",
    "        indiana_policies = openFEMA_policy_df[openFEMA_policy_df['countycode'].apply(str).str.startswith('18') == True]\n",
    "        \n",
    "        # Drop rows that are missing values, which will interfere with later operations.\n",
    "        indiana_policies = indiana_policies.dropna()\n",
    "        \n",
    "        # Save the filtered DataFrame to a new file and delete DataFrames from memory.\n",
    "        indiana_policies.to_csv('Data/Indiana_data/Indiana_Policies_{}.csv'.format(str(policy_number)))\n",
    "        del openFEMA_policy_df, indiana_policies"
   ]
  },
  {
   "cell_type": "markdown",
   "metadata": {},
   "source": [
    "#### Convert Indiana policy .csv files to point feature classes and merge together:"
   ]
  },
  {
   "cell_type": "code",
   "execution_count": 4,
   "metadata": {},
   "outputs": [
    {
     "data": {
      "text/plain": [
       "<Result 'Indiana Sensitivity Analysis.gdb\\\\Indiana_Policies_Merged'>"
      ]
     },
     "execution_count": 4,
     "metadata": {},
     "output_type": "execute_result"
    }
   ],
   "source": [
    "# Set workspace for all future operations.\n",
    "arcpy.env.workspace = 'openFEMA_to_HUC12.gdb'\n",
    "\n",
    "# Collect the policy .csv files as a list of file paths.\n",
    "indiana_data_directory = os.path.relpath('Data/Indiana_data')\n",
    "indiana_policy_csv_list = glob.glob(indiana_data_directory + '\\\\Indiana_Policies_*')\n",
    "\n",
    "# Convert the .csv files to spatial data using the latitude longitude fields.\n",
    "#  Names of created feature classes correspond with names of .csv files.\n",
    "for csv_path in indiana_policy_csv_list:\n",
    "    fc_name = csv_path[18:-4]\n",
    "    arcpy.management.XYTableToPoint(\n",
    "        csv_path,\n",
    "        fc_name,\n",
    "        x_field='longitude',\n",
    "        y_field='latitude'\n",
    "    )\n",
    "\n",
    "# Gather the policy feature classes as a list and merge them together.\n",
    "policy_fc_list = arcpy.ListFeatureClasses('Indiana_Policies_*')\n",
    "arcpy.Merge_management(policy_fc_list, 'Indiana_Policies_Merged')"
   ]
  },
  {
   "cell_type": "markdown",
   "metadata": {},
   "source": [
    "#### Clean GeoDatabase of intermediate files:"
   ]
  },
  {
   "cell_type": "code",
   "execution_count": 5,
   "metadata": {},
   "outputs": [],
   "source": [
    "# Clean GeoDatabase of intermediate files:\n",
    "for num in range(1,12):\n",
    "    fc_name = \"Indiana_Policies_{}\".format(num)\n",
    "    arcpy.Delete_management(fc_name)"
   ]
  },
  {
   "cell_type": "markdown",
   "metadata": {},
   "source": [
    "#### Pull Indiana data from claims .csv file, write to new file and convert to point feature class:"
   ]
  },
  {
   "cell_type": "code",
   "execution_count": 6,
   "metadata": {},
   "outputs": [
    {
     "data": {
      "text/plain": [
       "<Result 'Indiana Sensitivity Analysis.gdb\\\\Indiana_Claims'>"
      ]
     },
     "execution_count": 6,
     "metadata": {},
     "output_type": "execute_result"
    }
   ],
   "source": [
    "# Perform the same operations on the single 'Claims' .csv file.\n",
    "claims_path = 'Data/FIMA_NFIP_Redacted_Claims_Data_Set/openFEMA_claims20190831.csv'\n",
    "\n",
    "claims_use_columns = ['countycode', 'censustract', 'latitude', 'longitude', 'amountpaidonbuildingclaim', 'yearofloss']\n",
    "\n",
    "# Import claims info as DataFrame with only the applicable columns.\n",
    "openFEMA_claims_df = pd.read_csv(claims_path, usecols=claims_use_columns)\n",
    "\n",
    "# Sort out all rows that are not from Indiana ('countycode' must start with 18)\n",
    "indiana_claims = openFEMA_claims_df[openFEMA_claims_df['countycode'].apply(str).str.startswith('18') == True]\n",
    "\n",
    "# Drop rows that are missing values\n",
    "indiana_claims = indiana_claims.dropna()\n",
    "\n",
    "# Save to new file and delete dataframes from memory\n",
    "indiana_claims_csv = 'Data/Indiana_data/Indiana_Claims.csv'\n",
    "indiana_claims.to_csv(indiana_claims_csv)\n",
    "del openFEMA_claims_df, indiana_claims\n",
    "\n",
    "# Convert the csv to spatial data using the lat lon fields\n",
    "arcpy.management.XYTableToPoint(\n",
    "    indiana_claims_csv,\n",
    "    'Indiana_Claims',\n",
    "    x_field='longitude',\n",
    "    y_field='latitude'\n",
    ")"
   ]
  },
  {
   "cell_type": "markdown",
   "metadata": {},
   "source": [
    "#### Summarize policies and claims data based on census tract:"
   ]
  },
  {
   "cell_type": "code",
   "execution_count": 7,
   "metadata": {},
   "outputs": [
    {
     "data": {
      "text/plain": [
       "<Result 'Indiana Sensitivity Analysis.gdb\\\\Indiana_Policies_Statistics'>"
      ]
     },
     "execution_count": 7,
     "metadata": {},
     "output_type": "execute_result"
    }
   ],
   "source": [
    "# Compute statistics for policies find average insurance coverage values within each census tract\n",
    "arcpy.analysis.Statistics(\n",
    "    \"Indiana_Policies_Merged\",\n",
    "    \"Indiana_Policies_Statistics\",\n",
    "    \"totalbuildinginsurancecoverage MEAN\",\n",
    "    \"censustract\"\n",
    ")"
   ]
  },
  {
   "cell_type": "code",
   "execution_count": 8,
   "metadata": {},
   "outputs": [
    {
     "data": {
      "text/plain": [
       "<Result 'Indiana Sensitivity Analysis.gdb\\\\Indiana_Claims_Statistics'>"
      ]
     },
     "execution_count": 8,
     "metadata": {},
     "output_type": "execute_result"
    }
   ],
   "source": [
    "# Compute statistics for claims to find average claim payment values within each census tract\n",
    "arcpy.analysis.Statistics(\n",
    "    \"Indiana_Claims\",\n",
    "    \"Indiana_Claims_Statistics\",\n",
    "    \"amountpaidonbuildingclaim MEAN\",\n",
    "    \"censustract\"\n",
    ")"
   ]
  },
  {
   "cell_type": "markdown",
   "metadata": {},
   "source": [
    "#### Format fields in the policies and claims files and join statistic fields to the census tracts feature class:"
   ]
  },
  {
   "cell_type": "code",
   "execution_count": 9,
   "metadata": {},
   "outputs": [
    {
     "data": {
      "text/plain": [
       "<Result 'Indiana_Census_Tracts'>"
      ]
     },
     "execution_count": 9,
     "metadata": {},
     "output_type": "execute_result"
    }
   ],
   "source": [
    "# Create GEOID fields as text in Indiana_Policies_Statistics & Indiana_Claims_Statistics to join to GEOID text field in IN_Census_Tracts\n",
    "arcpy.management.CalculateField(\n",
    "    \"Indiana_Claims_Statistics\",\n",
    "    \"GEOID\",\n",
    "    \"$feature.censustract\",\n",
    "    \"ARCADE\",\n",
    "    field_type=\"TEXT\"\n",
    ")\n",
    "\n",
    "arcpy.management.CalculateField(\n",
    "    \"Indiana_Policies_Statistics\",\n",
    "    \"GEOID\",\n",
    "    \"$feature.censustract\",\n",
    "    \"ARCADE\",\n",
    "    field_type=\"TEXT\"\n",
    ")\n",
    "\n",
    "# Join claims and policy values for each tract from statistics tables to the spatial data\n",
    "arcpy.management.JoinField(\n",
    "    \"Indiana_Census_Tracts\",\n",
    "    \"GEOID\",\n",
    "    \"Indiana_Policies_Statistics\",\n",
    "    \"GEOID\",\n",
    "    \"MEAN_totalbuildinginsurancecoverage\"\n",
    ")\n",
    "\n",
    "arcpy.management.JoinField(\n",
    "    \"Indiana_Census_Tracts\",\n",
    "    \"GEOID\",\n",
    "    \"Indiana_Claims_Statistics\",\n",
    "    \"GEOID\",\n",
    "    \"MEAN_amountpaidonbuildingclaim\"\n",
    ")"
   ]
  },
  {
   "cell_type": "markdown",
   "metadata": {},
   "source": [
    "#### Clip HUC12 data to the state of Indiana and then calculate the area of each HUC12 in square kilometers:"
   ]
  },
  {
   "cell_type": "code",
   "execution_count": 10,
   "metadata": {},
   "outputs": [
    {
     "data": {
      "text/plain": [
       "<Result 'Indiana Sensitivity Analysis.gdb\\\\HUC12_Indiana'>"
      ]
     },
     "execution_count": 10,
     "metadata": {},
     "output_type": "execute_result"
    }
   ],
   "source": [
    "# Clip HUC12 to state of Indiana to eliminate HUC12 area outside of state boundaries\n",
    "arcpy.env.workspace = 'openFEMA_to_HUC12.gdb'\n",
    "arcpy.analysis.Clip(\n",
    "    \"HUC12\",\n",
    "    \"Indiana_State\",\n",
    "    \"HUC12_Indiana\"\n",
    ")"
   ]
  },
  {
   "cell_type": "code",
   "execution_count": 11,
   "metadata": {},
   "outputs": [
    {
     "data": {
      "text/plain": [
       "<Result 'HUC12_Indiana'>"
      ]
     },
     "execution_count": 11,
     "metadata": {},
     "output_type": "execute_result"
    }
   ],
   "source": [
    "# Add field to store area in sq km \n",
    "arcpy.AddField_management(\n",
    "    \"HUC12_Indiana\",\n",
    "    \"Area_sqkm\",\n",
    "    \"DOUBLE\"\n",
    ")\n",
    "\n",
    "# Calculate area of each clipped HUC12 in sqaure kilometers.\n",
    "arcpy.management.CalculateGeometryAttributes(\n",
    "    \"HUC12_Indiana\", \n",
    "    [[\"Area_sqkm\", \"AREA_GEODESIC\"]],\n",
    "    area_unit=\"SQUARE_KILOMETERS\"\n",
    ")"
   ]
  },
  {
   "cell_type": "markdown",
   "metadata": {},
   "source": [
    "#### Compute geometric union of clipped HUC12s and census tracts:"
   ]
  },
  {
   "cell_type": "code",
   "execution_count": 12,
   "metadata": {},
   "outputs": [
    {
     "data": {
      "text/plain": [
       "<Result 'Indiana Sensitivity Analysis.gdb\\\\HUC12_Tracts_Union'>"
      ]
     },
     "execution_count": 12,
     "metadata": {},
     "output_type": "execute_result"
    }
   ],
   "source": [
    "# Compute union of HUC12_Clip and IN_Census_Tracts\n",
    "arcpy.env.workspace = 'openFEMA_to_HUC12.gdb'\n",
    "arcpy.analysis.Union(\n",
    "    [\"HUC12_Indiana\", \"Indiana_Census_Tracts\"],\n",
    "   \"HUC12_Tracts_Union\",\n",
    ")"
   ]
  },
  {
   "cell_type": "markdown",
   "metadata": {},
   "source": [
    "#### Assign claims and policies data to HUC12 based on proportion of HUC12 covered by census tract:"
   ]
  },
  {
   "cell_type": "code",
   "execution_count": 13,
   "metadata": {},
   "outputs": [
    {
     "data": {
      "text/plain": [
       "<Result 'HUC12_Tracts_Union'>"
      ]
     },
     "execution_count": 13,
     "metadata": {},
     "output_type": "execute_result"
    }
   ],
   "source": [
    "# Add field to store area in sq km \n",
    "arcpy.AddField_management(\n",
    "    \"HUC12_Tracts_Union\",\n",
    "    \"Union_area\",\n",
    "    \"DOUBLE\"\n",
    ")\n",
    "\n",
    "# Calculate geometry of each union feature.\n",
    "arcpy.management.CalculateGeometryAttributes(\n",
    "    \"HUC12_Tracts_Union\",\n",
    "    [[\"Union_area\", \"AREA_GEODESIC\"]],\n",
    "    area_unit=\"SQUARE_KILOMETERS\"\n",
    ")\n",
    "\n",
    "# Calculate the proportions of each tract feature vs the HUC12 it resides in as a new field\n",
    "arcpy.management.CalculateField(\n",
    "    \"HUC12_Tracts_Union\",\n",
    "    \"Huc12_proportion\",\n",
    "    \"!Union_area! / !Area_sqkm!\",\n",
    "    \"PYTHON3\",\n",
    "    field_type=\"Double\"\n",
    ")"
   ]
  },
  {
   "cell_type": "code",
   "execution_count": 14,
   "metadata": {},
   "outputs": [
    {
     "data": {
      "text/plain": [
       "<Result 'Indiana Sensitivity Analysis.gdb\\\\HUC12_Tracts_Union_Sums'>"
      ]
     },
     "execution_count": 14,
     "metadata": {},
     "output_type": "execute_result"
    }
   ],
   "source": [
    "# Calculate building coverage and claims values for each HUC12 using summary statistics (each is prop of 100% of huc coverage,\n",
    "# sum together to get correct representative mean values for each huc)\n",
    "arcpy.analysis.Statistics(\n",
    "    \"HUC12_Tracts_Union\",\n",
    "    \"HUC12_Tracts_Union_Sums\",\n",
    "    \"MEAN_totalbuildinginsurancecoverage SUM;MEAN_amountpaidonbuildingclaim SUM\",\n",
    "    \"HUC12\"\n",
    ")"
   ]
  },
  {
   "cell_type": "markdown",
   "metadata": {},
   "source": [
    "#### Create final layer for analysis:"
   ]
  },
  {
   "cell_type": "code",
   "execution_count": 15,
   "metadata": {},
   "outputs": [
    {
     "data": {
      "text/plain": [
       "<Result 'HUC12_Indiana'>"
      ]
     },
     "execution_count": 15,
     "metadata": {},
     "output_type": "execute_result"
    }
   ],
   "source": [
    "# Join the summed averages back to the HUC12 file for analysis\n",
    "arcpy.management.JoinField(\n",
    "    \"HUC12_Indiana\",\n",
    "    \"HUC12\",\n",
    "    \"HUC12_Tracts_Union_Sums\",\n",
    "    \"HUC12\",\n",
    "    \"SUM_MEAN_totalbuildinginsurancecoverage;SUM_MEAN_amountpaidonbuildingclaim\"\n",
    ")"
   ]
  },
  {
   "cell_type": "code",
   "execution_count": null,
   "metadata": {},
   "outputs": [],
   "source": []
  }
 ],
 "metadata": {
  "kernelspec": {
   "display_name": "Python 3",
   "language": "python",
   "name": "python3"
  },
  "language_info": {
   "codemirror_mode": {
    "name": "ipython",
    "version": 3
   },
   "file_extension": ".py",
   "mimetype": "text/x-python",
   "name": "python",
   "nbconvert_exporter": "python",
   "pygments_lexer": "ipython3",
   "version": "3.6.9"
  }
 },
 "nbformat": 4,
 "nbformat_minor": 2
}
