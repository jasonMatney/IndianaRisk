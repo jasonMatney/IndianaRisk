{
 "cells": [
  {
   "cell_type": "code",
   "execution_count": 22,
   "metadata": {},
   "outputs": [],
   "source": [
    "import pandas as pd\n",
    "import arcpy\n",
    "import numpy as np\n",
    "from numpy import mean\n",
    "from numpy import std\n",
    "import os\n",
    "from arcpy import management\n",
    "# from arcgis.gis import GIS\n",
    "from time import time\n",
    "arcpy.env.overwriteOutput = True\n",
    "\n",
    "workspace = r\"D:\\\\D_IndianaRisk\\\\data\"\n",
    "arcpy.env.workspace = workspace\n"
   ]
  },
  {
   "cell_type": "code",
   "execution_count": 23,
   "metadata": {},
   "outputs": [],
   "source": [
    "#source for Bing building footprints for Indiana (attrubuted with open street maps data)\n",
    "building_footprints = r\"D:\\\\D_IndianaRisk\\\\data\\\\buildings_project.shp\"\n",
    "\n",
    "#set source for streams data\n",
    "streams = r\"D:\\\\D_IndianaRisk\\\\data\\\\streams_project.shp\"\n",
    "\n",
    "#set source for subwatersheds\n",
    "all_subwatersheds = r\"D:\\\\D_IndianaRisk\\\\data\\\\HUCs\\\\June_6_HUCS.shp\""
   ]
  },
  {
   "cell_type": "code",
   "execution_count": 24,
   "metadata": {},
   "outputs": [],
   "source": [
    "# arcpy.analysis.Clip(\"test\", \"Building_Footprints_Attributed_IN\", r\"C:\\Users\\jmatney\\Documents\\ArcGIS\\Projects\\Indiana ML Results\\Indiana ML Results.gdb\\test_Clip\", None)"
   ]
  },
  {
   "cell_type": "code",
   "execution_count": 4,
   "metadata": {},
   "outputs": [],
   "source": [
    "#get distance from residential buildings to streams\n",
    "#project buildings and streams so they are in the same GCS\n",
    "# sr = arcpy.SpatialReference(4269)\n",
    "\n",
    "# arcpy.Project_management(streams, workspace + \"streams_project.shp\", sr)\n",
    "\n",
    "\n",
    "# b_copy = arcpy.CopyFeatures_management(building_footprints, workspace + \"buildings_copy\")\n",
    "\n",
    "\n",
    "# arcpy.Project_management(b_copy, workspace+\"buildings_project.shp\", sr)\n",
    "\n"
   ]
  },
  {
   "cell_type": "code",
   "execution_count": 6,
   "metadata": {},
   "outputs": [],
   "source": [
    "# #use near tool to get distance to steams\n",
    "# arcpy.Near_analysis(building_footprints,\n",
    "#                     streams,\n",
    "#                     method=\"GEODESIC\")"
   ]
  },
  {
   "cell_type": "code",
   "execution_count": 28,
   "metadata": {},
   "outputs": [],
   "source": [
    "subwatershed_list = [] \n",
    "dist_to_stream_avg_list = []\n",
    "dist_to_stream_stdev_list =[]\n"
   ]
  },
  {
   "cell_type": "code",
   "execution_count": null,
   "metadata": {},
   "outputs": [],
   "source": [
    "arcpy.analysis.Clip(\"test\", \"Building_Footprints_Attributed_IN\", r\"C:\\Users\\jmatney\\Documents\\ArcGIS\\Projects\\Indiana ML Results\\Indiana ML Results.gdb\\test_Clip\", None)"
   ]
  },
  {
   "cell_type": "code",
   "execution_count": 31,
   "metadata": {},
   "outputs": [
    {
     "name": "stdout",
     "output_type": "stream",
     "text": [
      "huc_051202080201_building.shp\n",
      "'HUC_12' = '051202080201'\n",
      "538.9100949635932\n",
      "417.4282636111914\n",
      "huc_051201110302_building.shp\n",
      "'HUC_12' = '051201110302'\n",
      "538.9100949635932\n",
      "417.4282636111914\n",
      "huc_051201060507_building.shp\n",
      "'HUC_12' = '051201060507'\n",
      "538.9100949635932\n",
      "417.4282636111914\n",
      "huc_071200010303_building.shp\n",
      "'HUC_12' = '071200010303'\n",
      "538.9100949635932\n",
      "417.4282636111914\n",
      "huc_050800030717_building.shp\n",
      "'HUC_12' = '050800030717'\n"
     ]
    },
    {
     "ename": "KeyboardInterrupt",
     "evalue": "",
     "output_type": "error",
     "traceback": [
      "\u001b[1;31m---------------------------------------------------------------------------\u001b[0m",
      "\u001b[1;31mKeyboardInterrupt\u001b[0m                         Traceback (most recent call last)",
      "\u001b[1;32m<ipython-input-31-541766d5d9f7>\u001b[0m in \u001b[0;36m<module>\u001b[1;34m\u001b[0m\n\u001b[0;32m     15\u001b[0m         \u001b[0mprint\u001b[0m\u001b[1;33m(\u001b[0m\u001b[0mwhere_clause\u001b[0m\u001b[1;33m)\u001b[0m\u001b[1;33m\u001b[0m\u001b[1;33m\u001b[0m\u001b[0m\n\u001b[0;32m     16\u001b[0m         \u001b[0marcpy\u001b[0m\u001b[1;33m.\u001b[0m\u001b[0mSelectLayerByAttribute_management\u001b[0m\u001b[1;33m(\u001b[0m\u001b[0mall_subwatersheds\u001b[0m\u001b[1;33m,\u001b[0m \u001b[1;34m'NEW_SELECTION'\u001b[0m\u001b[1;33m,\u001b[0m \u001b[0mwhere_clause\u001b[0m\u001b[1;33m)\u001b[0m\u001b[1;33m\u001b[0m\u001b[1;33m\u001b[0m\u001b[0m\n\u001b[1;32m---> 17\u001b[1;33m         \u001b[0marcpy\u001b[0m\u001b[1;33m.\u001b[0m\u001b[0manalysis\u001b[0m\u001b[1;33m.\u001b[0m\u001b[0mClip\u001b[0m\u001b[1;33m(\u001b[0m\u001b[0mbuilding_footprints\u001b[0m\u001b[1;33m,\u001b[0m \u001b[0mall_subwatersheds\u001b[0m\u001b[1;33m,\u001b[0m \u001b[0moutputFile\u001b[0m\u001b[1;33m)\u001b[0m\u001b[1;33m\u001b[0m\u001b[1;33m\u001b[0m\u001b[0m\n\u001b[0m\u001b[0;32m     18\u001b[0m \u001b[1;33m\u001b[0m\u001b[0m\n\u001b[0;32m     19\u001b[0m         \u001b[1;31m# get all the distances in to the streams\u001b[0m\u001b[1;33m\u001b[0m\u001b[1;33m\u001b[0m\u001b[1;33m\u001b[0m\u001b[0m\n",
      "\u001b[1;32mC:\\Program Files\\ArcGIS\\Pro\\Resources\\ArcPy\\arcpy\\analysis.py\u001b[0m in \u001b[0;36mClip\u001b[1;34m(in_features, clip_features, out_feature_class, cluster_tolerance)\u001b[0m\n\u001b[0;32m    166\u001b[0m     \u001b[1;32mfrom\u001b[0m \u001b[0marcpy\u001b[0m\u001b[1;33m.\u001b[0m\u001b[0marcobjects\u001b[0m\u001b[1;33m.\u001b[0m\u001b[0marcobjectconversion\u001b[0m \u001b[1;32mimport\u001b[0m \u001b[0mconvertArcObjectToPythonObject\u001b[0m\u001b[1;33m\u001b[0m\u001b[1;33m\u001b[0m\u001b[0m\n\u001b[0;32m    167\u001b[0m     \u001b[1;32mtry\u001b[0m\u001b[1;33m:\u001b[0m\u001b[1;33m\u001b[0m\u001b[1;33m\u001b[0m\u001b[0m\n\u001b[1;32m--> 168\u001b[1;33m         \u001b[0mretval\u001b[0m \u001b[1;33m=\u001b[0m \u001b[0mconvertArcObjectToPythonObject\u001b[0m\u001b[1;33m(\u001b[0m\u001b[0mgp\u001b[0m\u001b[1;33m.\u001b[0m\u001b[0mClip_analysis\u001b[0m\u001b[1;33m(\u001b[0m\u001b[1;33m*\u001b[0m\u001b[0mgp_fixargs\u001b[0m\u001b[1;33m(\u001b[0m\u001b[1;33m(\u001b[0m\u001b[0min_features\u001b[0m\u001b[1;33m,\u001b[0m \u001b[0mclip_features\u001b[0m\u001b[1;33m,\u001b[0m \u001b[0mout_feature_class\u001b[0m\u001b[1;33m,\u001b[0m \u001b[0mcluster_tolerance\u001b[0m\u001b[1;33m)\u001b[0m\u001b[1;33m,\u001b[0m \u001b[1;32mTrue\u001b[0m\u001b[1;33m)\u001b[0m\u001b[1;33m)\u001b[0m\u001b[1;33m)\u001b[0m\u001b[1;33m\u001b[0m\u001b[1;33m\u001b[0m\u001b[0m\n\u001b[0m\u001b[0;32m    169\u001b[0m         \u001b[1;32mreturn\u001b[0m \u001b[0mretval\u001b[0m\u001b[1;33m\u001b[0m\u001b[1;33m\u001b[0m\u001b[0m\n\u001b[0;32m    170\u001b[0m     \u001b[1;32mexcept\u001b[0m \u001b[0mException\u001b[0m \u001b[1;32mas\u001b[0m \u001b[0me\u001b[0m\u001b[1;33m:\u001b[0m\u001b[1;33m\u001b[0m\u001b[1;33m\u001b[0m\u001b[0m\n",
      "\u001b[1;32mC:\\Program Files\\ArcGIS\\Pro\\Resources\\ArcPy\\arcpy\\geoprocessing\\_base.py\u001b[0m in \u001b[0;36m<lambda>\u001b[1;34m(*args)\u001b[0m\n\u001b[0;32m    509\u001b[0m         \u001b[0mval\u001b[0m \u001b[1;33m=\u001b[0m \u001b[0mgetattr\u001b[0m\u001b[1;33m(\u001b[0m\u001b[0mself\u001b[0m\u001b[1;33m.\u001b[0m\u001b[0m_gp\u001b[0m\u001b[1;33m,\u001b[0m \u001b[0mattr\u001b[0m\u001b[1;33m)\u001b[0m\u001b[1;33m\u001b[0m\u001b[1;33m\u001b[0m\u001b[0m\n\u001b[0;32m    510\u001b[0m         \u001b[1;32mif\u001b[0m \u001b[0mcallable\u001b[0m\u001b[1;33m(\u001b[0m\u001b[0mval\u001b[0m\u001b[1;33m)\u001b[0m\u001b[1;33m:\u001b[0m\u001b[1;33m\u001b[0m\u001b[1;33m\u001b[0m\u001b[0m\n\u001b[1;32m--> 511\u001b[1;33m             \u001b[1;32mreturn\u001b[0m \u001b[1;32mlambda\u001b[0m \u001b[1;33m*\u001b[0m\u001b[0margs\u001b[0m\u001b[1;33m:\u001b[0m \u001b[0mval\u001b[0m\u001b[1;33m(\u001b[0m\u001b[1;33m*\u001b[0m\u001b[0mgp_fixargs\u001b[0m\u001b[1;33m(\u001b[0m\u001b[0margs\u001b[0m\u001b[1;33m,\u001b[0m \u001b[1;32mTrue\u001b[0m\u001b[1;33m)\u001b[0m\u001b[1;33m)\u001b[0m\u001b[1;33m\u001b[0m\u001b[1;33m\u001b[0m\u001b[0m\n\u001b[0m\u001b[0;32m    512\u001b[0m         \u001b[1;32melse\u001b[0m\u001b[1;33m:\u001b[0m\u001b[1;33m\u001b[0m\u001b[1;33m\u001b[0m\u001b[0m\n\u001b[0;32m    513\u001b[0m             \u001b[1;32mreturn\u001b[0m \u001b[0mconvertArcObjectToPythonObject\u001b[0m\u001b[1;33m(\u001b[0m\u001b[0mval\u001b[0m\u001b[1;33m)\u001b[0m\u001b[1;33m\u001b[0m\u001b[1;33m\u001b[0m\u001b[0m\n",
      "\u001b[1;31mKeyboardInterrupt\u001b[0m: "
     ]
    }
   ],
   "source": [
    "#search cursor through each row of county subwatersheds file\n",
    "with arcpy.da.SearchCursor(all_subwatersheds, ['HUC12', 'AREA', 'PERIMETER']) as cursor:\n",
    "\n",
    "    for row in cursor:\n",
    "\n",
    "        subwatershed_number = row[0]\n",
    "        \n",
    "        subwatershed_list.append(subwatershed_number)\n",
    "        \n",
    "        outputFile = \"huc_\" + subwatershed_number + \"_building.shp\"\n",
    "        \n",
    "        print(outputFile)\n",
    "        \n",
    "        where_clause = \"'HUC_12' = '{}'\".format(row[0])\n",
    "        print(where_clause)\n",
    "        arcpy.SelectLayerByAttribute_management(all_subwatersheds, 'NEW_SELECTION', where_clause)\n",
    "        arcpy.analysis.Clip(building_footprints, all_subwatersheds, outputFile)\n",
    "\n",
    "        # get all the distances in to the streams\n",
    "        dist_to_stream_list = []\n",
    "        with arcpy.da.SearchCursor(outputFile, [\"NEAR_DIST\"]) as distCursor: \n",
    "            for dist in distCursor:  \n",
    "                dist_to_stream = dist[0]  \n",
    "                dist_to_stream_list.append(dist_to_stream)  \n",
    "\n",
    "        dist_to_stream_avg = mean(dist_to_stream_list)\n",
    "\n",
    "        dist_to_stream_stdev = std(dist_to_stream_list)\n",
    "\n",
    "        print(dist_to_stream_avg)\n",
    "        print(dist_to_stream_stdev)\n",
    "\n",
    "        dist_to_stream_avg_list.append(dist_to_stream_avg)\n",
    "        dist_to_stream_stdev_list.append(dist_to_stream_stdev)"
   ]
  },
  {
   "cell_type": "code",
   "execution_count": 32,
   "metadata": {},
   "outputs": [
    {
     "data": {
      "text/plain": [
       "['051202080201',\n",
       " '051201110302',\n",
       " '051201060507',\n",
       " '071200010303',\n",
       " '050800030717']"
      ]
     },
     "execution_count": 32,
     "metadata": {},
     "output_type": "execute_result"
    }
   ],
   "source": [
    "subwatershed_list"
   ]
  },
  {
   "cell_type": "code",
   "execution_count": 33,
   "metadata": {},
   "outputs": [
    {
     "data": {
      "text/plain": [
       "[538.9100949635932, 538.9100949635932, 538.9100949635932, 538.9100949635932]"
      ]
     },
     "execution_count": 33,
     "metadata": {},
     "output_type": "execute_result"
    }
   ],
   "source": [
    "dist_to_stream_avg_list"
   ]
  },
  {
   "cell_type": "code",
   "execution_count": null,
   "metadata": {},
   "outputs": [],
   "source": []
  }
 ],
 "metadata": {
  "kernelspec": {
   "display_name": "Python 3",
   "language": "python",
   "name": "python3"
  },
  "language_info": {
   "codemirror_mode": {
    "name": "ipython",
    "version": 3
   },
   "file_extension": ".py",
   "mimetype": "text/x-python",
   "name": "python",
   "nbconvert_exporter": "python",
   "pygments_lexer": "ipython3",
   "version": "3.6.9"
  }
 },
 "nbformat": 4,
 "nbformat_minor": 2
}
