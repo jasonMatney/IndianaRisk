{
 "cells": [
  {
   "cell_type": "markdown",
   "metadata": {},
   "source": [
    "# Calculate area of subwatersheds"
   ]
  },
  {
   "cell_type": "markdown",
   "metadata": {},
   "source": [
    "Substituting the ArcPy library within Working_ML_McAvoy_EricEdits notebook\n",
    "with open source libraries(example: GDAL, Fiona, Shapely and GeoPandas)"
   ]
  },
  {
   "cell_type": "code",
   "execution_count": 1,
   "metadata": {},
   "outputs": [],
   "source": [
    "from osgeo import ogr\n",
    "from osgeo import osr\n",
    "import geopandas as gpd\n",
    "import fiona\n",
    "import pandas as pd\n",
    "import numpy as np\n",
    "from numpy import mean\n",
    "from numpy import std\n",
    "import os\n",
    "from time import time"
   ]
  },
  {
   "cell_type": "raw",
   "metadata": {},
   "source": [
    "#set source for shapefile with all 11 subwatersheds in the county\n",
    "all_subwatersheds = r\"P:\\Temp\\Bakinam_Essawy\\ML_Project\\shapefiles\\single_huc_test.shp\""
   ]
  },
  {
   "cell_type": "code",
   "execution_count": 3,
   "metadata": {},
   "outputs": [
    {
     "name": "stdout",
     "output_type": "stream",
     "text": [
      "5.45 minutes to process.\n"
     ]
    }
   ],
   "source": [
    "st = time()\n",
    "\n",
    "# Set Local Variables\n",
    "output_workspace = r'P:\\Temp\\McAvoy\\ML_DataCollection\\Indiana_ML\\working_edits_test'\n",
    "\n",
    "#arcpy.env.workspace = output_workspace\n",
    "\n",
    "##### change these based on what subwatersheds you want #####\n",
    "# Read any shapefile with geopandas\n",
    "\n",
    "#set source for shapefile with all 11 subwatersheds in the county\n",
    "all_subwatersheds_gpd = gpd.read_file(r\"P:\\Temp\\Bakinam_Essawy\\ML_Project\\shapefiles\\single_huc_test.shp\")\n",
    "\n",
    "#set source for streams data\n",
    "streams_gpd = gpd.read_file(r\"P:\\Temp\\McAvoy\\ML_DataCollection\\Marion_County_Data\\stream data\\MarionCounty_Streams_Edited.shp\")\n",
    "\n",
    "\n",
    "#####these are the same for all subwatersheds in Indiana#####\n",
    "\n",
    "\n",
    "#set source for dem\n",
    "dem_Indiana = r\"P:\\Temp\\McAvoy\\ML_DataCollection\\Marion_County_Data\\Indiana_3dep\\Indiana_dem2\"\n",
    "\n",
    "#set source for slope dem\n",
    "dem_slope = r\"P:\\Temp\\McAvoy\\ML_DataCollection\\Marion_County_Data\\Indiana_SlopeRaster\\IN_slope2\"\n",
    "\n",
    "\n",
    "#set source for NHFL Data\n",
    "#nfhl_sfha = r\"P:\\Temp\\McAvoy\\ML_DataCollection\\MeridianHills\\MeridianHills_DataCollection\\NFHL_18_20200310.gdb\\S_FLD_HAZ_AR\"\n",
    "nfhl_sfha = gpd.read_file(r\"P:\\Temp\\McAvoy\\ML_DataCollection\\MeridianHills\\MeridianHills_DataCollection\\NFHL_18_20200310.gdb\", driver='FileGDB', layer='S_FLD_HAZ_AR')\n",
    "\n",
    "#set source for water bodies data \n",
    "water_bodies = gpd.read_file(r\"P:\\Temp\\McAvoy\\ML_DataCollection\\Marion_County_Data\\IndianaMAP_WaterBodies\\Water_Bodies_Lakes_LocalRes\\Hydrography_LocalRes_WaterbodyDiscrete_NHD_IN.shp\")\n",
    "\n",
    "#set source for dams data \n",
    "dams = gpd.read_file(r\"P:\\Temp\\McAvoy\\ML_DataCollection\\Marion_County_Data\\IndianaMAP_Dams\\Dams_IDNR\\Dams_IDNR_IN.shp\")\n",
    "\n",
    "#set source for bridges data\n",
    "bridges = gpd.read_file(r\"P:\\Temp\\McAvoy\\ML_DataCollection\\Marion_County_Data\\IndianaMAP_Bridges\\Bridges_County_INDOT\\Bridges_County_INDOT_IN.shp\")\n",
    "\n",
    "#set source for streets data\n",
    "streets = r\"P:\\Temp\\McAvoy\\ML_DataCollection\\Marion_County_Data\\IndianaMAP_Streets\\Streets_Centerlines_IGIO\\County_Street_Centerlines_IGIO_IN.gdb\\County_Street_Centerlines_IGIO_IN_Dec2019\"\n",
    "\n",
    "#set source for railraods data\n",
    "railroads = gpd.read_file(r\"P:\\Temp\\McAvoy\\ML_DataCollection\\Marion_County_Data\\IndianaMAP_Railroads\\Railroads_Active_Abandoned_INDOT\\Rail_System_Active_Abandoned_INDOT_IN.shp\")\n",
    "\n",
    "#set source for ACS population data\n",
    "population = gpd.read_file(r\"P:\\Temp\\McAvoy\\ML_DataCollection\\Marion_County_Data\\Indiana_PopulationData\\Indiana_PopulationData.shp\")\n",
    "\n",
    "#set source for ACS median income data \n",
    "median_income = gpd.read_file(r\"P:\\Temp\\McAvoy\\ML_DataCollection\\Marion_County_Data\\Indiana_IncomeData\\Indiana_IncomeData.shp\")\n",
    "\n",
    "#set source for county boundary data\n",
    "county_boundary = gpd.read_file(r\"P:\\Temp\\McAvoy\\ML_DataCollection\\Marion_County_Data\\MarionCounty_Boundary\\Marion_County_Boundary.shp\")\n",
    "  \n",
    "#source for Bing building footprints for Indiana (attrubuted with open street maps data)\n",
    "building_footprints = r\"P:\\Temp\\McAvoy\\ML_DataCollection\\Marion_County_Data\\BuildingFootprints_Indiana\\Building_Footprints_Attributed_IN.shp\"\n",
    "\n",
    "#folder with partial duration files, set as workspace temporarily, then reset when done\n",
    "directory_rainfall = r\"P:\\Temp\\McAvoy\\ML_DataCollection\\Marion_County_Data\\MarionCounty_Rainfall\\All_Rainfall_Clipped_IN\"\n",
    "\n",
    "#set source for nlcd land use data\n",
    "lu_usa = gpd.read_file(r\"P:\\Temp\\McAvoy\\ML_DataCollection\\Marion_County_Data\\NLCD_Impervious\\NLCD_indiana_polygon.shp\")\n",
    "\n",
    "#set source for impervious indicator data\n",
    "impervious_usa = r\"P:\\Temp\\McAvoy\\ML_DataCollection\\Marion_County_Data\\NLCD_Impervious\\NLCD_2016_Impervious_L48_20190405_PERCENT\\NLCD_2016_Impervious_L48_20190405.img\"\n",
    "\n",
    "#########################################################################################################\n",
    "print(round(((time()-st)/60), 2) , 'minutes to process.')"
   ]
  },
  {
   "cell_type": "code",
   "execution_count": null,
   "metadata": {},
   "outputs": [],
   "source": [
    "print('The spatial reference is', all_subwatersheds.crs)"
   ]
  },
  {
   "cell_type": "code",
   "execution_count": 4,
   "metadata": {},
   "outputs": [],
   "source": [
    "## Empty lists\n",
    "\n",
    "subwatershed_list = []\n",
    "area_list = []\n",
    "perimeter_list = []\n",
    "watershed_length_list = []\n",
    "elongation_ratio_list = []\n",
    "shape_factor_list = []\n",
    "circulatory_ratio_list = []\n",
    "relief_list = []\n",
    "relief_ratio_list = []\n",
    "avg_slope_list = []\n",
    "drainage_density_list = []\n",
    "ruggedness_list = []\n",
    "aae_list = []\n",
    "buildings_aae_list = []\n",
    "x_list = []\n",
    "buildings_x_list = []\n",
    "water_bodies_list = []\n",
    "dams_list = []\n",
    "bridges_list = []\n",
    "streets_list = []\n",
    "railroads_list = []\n",
    "population_list = []\n",
    "dependent_population_list = []\n",
    "population_density_list = []\n",
    "avg_median_income_list = []\n",
    "housing_density_list = []\n",
    "population_change_list = []\n",
    "dist_to_stream_avg_list = []\n",
    "dist_to_stream_stdev_list = []\n",
    "\n",
    "lu_21_list = []\n",
    "lu_22_list = []\n",
    "lu_23_list = []\n",
    "lu_24_list = []\n",
    "lu_41_list = []\n",
    "lu_82_list = []\n",
    "impervious_percent_list = []\n",
    "\n",
    "orb100yr06h_list = []\n",
    "orb100yr12h_list = []\n",
    "orb100yr24h_list = []\n",
    "orb25yr06h_list = []\n",
    "orb25yr12h_list = []\n",
    "orb25yr24h_list = []\n",
    "orb2yr06h_list = []\n",
    "orb2yr12h_list = []\n",
    "orb2yr24h_list = []\n",
    "orb50yr06h_list = []\n",
    "orb50yr12h_list = []\n",
    "orb50yr24h_list = []\n",
    "orb100yr06ha_am_list = []\n",
    "orb100yr12ha_am_list = []\n",
    "orb100yr24ha_am_list = []\n",
    "orb25yr06ha_am_list = []\n",
    "orb25yr12ha_am_list = []\n",
    "orb25yr24ha_am_list = []\n",
    "orb2yr06ha_am_list = []\n",
    "orb2yr12ha_am_list = []\n",
    "orb2yr24ha_am_list = []\n",
    "orb50yr06ha_am_list = []\n",
    "orb50yr12ha_am_list = []\n",
    "orb50yr24ha_am_list = []"
   ]
  },
  {
   "cell_type": "code",
   "execution_count": 13,
   "metadata": {},
   "outputs": [
    {
     "name": "stdout",
     "output_type": "stream",
     "text": [
      "The spatial reference is epsg:4269\n"
     ]
    },
    {
     "data": {
      "text/html": [
       "<div>\n",
       "<style scoped>\n",
       "    .dataframe tbody tr th:only-of-type {\n",
       "        vertical-align: middle;\n",
       "    }\n",
       "\n",
       "    .dataframe tbody tr th {\n",
       "        vertical-align: top;\n",
       "    }\n",
       "\n",
       "    .dataframe thead th {\n",
       "        text-align: right;\n",
       "    }\n",
       "</style>\n",
       "<table border=\"1\" class=\"dataframe\">\n",
       "  <thead>\n",
       "    <tr style=\"text-align: right;\">\n",
       "      <th></th>\n",
       "      <th>TNMID</th>\n",
       "      <th>GNIS_ID</th>\n",
       "      <th>AREAACRES</th>\n",
       "      <th>AREASQKM</th>\n",
       "      <th>STATES</th>\n",
       "      <th>HUC12</th>\n",
       "      <th>NAME</th>\n",
       "      <th>TOHUC</th>\n",
       "      <th>Perimeter</th>\n",
       "      <th>area_full</th>\n",
       "      <th>AREA</th>\n",
       "      <th>geometry</th>\n",
       "    </tr>\n",
       "  </thead>\n",
       "  <tbody>\n",
       "    <tr>\n",
       "      <th>0</th>\n",
       "      <td>{A6F5714B-172F-424D-91F9-9345D6BC9D9A}</td>\n",
       "      <td>0</td>\n",
       "      <td>17492.68</td>\n",
       "      <td>70.79</td>\n",
       "      <td>IN</td>\n",
       "      <td>051202011109</td>\n",
       "      <td>Little Eagle Creek</td>\n",
       "      <td>051202011110</td>\n",
       "      <td>55.883574</td>\n",
       "      <td>70.790345</td>\n",
       "      <td>70.790345</td>\n",
       "      <td>POLYGON ((-86.21579 39.80945, -86.21506 39.809...</td>\n",
       "    </tr>\n",
       "  </tbody>\n",
       "</table>\n",
       "</div>"
      ],
      "text/plain": [
       "                                    TNMID  GNIS_ID  AREAACRES  AREASQKM  \\\n",
       "0  {A6F5714B-172F-424D-91F9-9345D6BC9D9A}        0   17492.68     70.79   \n",
       "\n",
       "  STATES         HUC12                NAME         TOHUC  Perimeter  \\\n",
       "0     IN  051202011109  Little Eagle Creek  051202011110  55.883574   \n",
       "\n",
       "   area_full       AREA                                           geometry  \n",
       "0  70.790345  70.790345  POLYGON ((-86.21579 39.80945, -86.21506 39.809...  "
      ]
     },
     "execution_count": 13,
     "metadata": {},
     "output_type": "execute_result"
    }
   ],
   "source": [
    "# Check the spatial reference for the geopandas\n",
    "print('The spatial reference is', all_subwatersheds_gpd.crs)\n",
    "all_subwatersheds_gpd.head(2)"
   ]
  },
  {
   "cell_type": "code",
   "execution_count": 8,
   "metadata": {},
   "outputs": [
    {
     "name": "stdout",
     "output_type": "stream",
     "text": [
      "esri:102008\n"
     ]
    }
   ],
   "source": [
    "# Convert geopandas projection to ESRI: 102008 so area and length is calculated in meters\n",
    "all_subwatersheds = all_subwatersheds_gpd.copy()\n",
    "all_subwatersheds= all_subwatersheds.to_crs('esri:102008')\n",
    "print(all_subwatersheds.crs)\n"
   ]
  },
  {
   "cell_type": "code",
   "execution_count": 11,
   "metadata": {},
   "outputs": [
    {
     "data": {
      "text/html": [
       "<div>\n",
       "<style scoped>\n",
       "    .dataframe tbody tr th:only-of-type {\n",
       "        vertical-align: middle;\n",
       "    }\n",
       "\n",
       "    .dataframe tbody tr th {\n",
       "        vertical-align: top;\n",
       "    }\n",
       "\n",
       "    .dataframe thead th {\n",
       "        text-align: right;\n",
       "    }\n",
       "</style>\n",
       "<table border=\"1\" class=\"dataframe\">\n",
       "  <thead>\n",
       "    <tr style=\"text-align: right;\">\n",
       "      <th></th>\n",
       "      <th>TNMID</th>\n",
       "      <th>GNIS_ID</th>\n",
       "      <th>AREAACRES</th>\n",
       "      <th>AREASQKM</th>\n",
       "      <th>STATES</th>\n",
       "      <th>HUC12</th>\n",
       "      <th>NAME</th>\n",
       "      <th>TOHUC</th>\n",
       "      <th>Perimeter</th>\n",
       "      <th>area_full</th>\n",
       "      <th>AREA</th>\n",
       "      <th>geometry</th>\n",
       "      <th>perimeter_geopandas</th>\n",
       "      <th>area_geopandas</th>\n",
       "    </tr>\n",
       "  </thead>\n",
       "  <tbody>\n",
       "    <tr>\n",
       "      <th>0</th>\n",
       "      <td>{A6F5714B-172F-424D-91F9-9345D6BC9D9A}</td>\n",
       "      <td>0</td>\n",
       "      <td>17492.68</td>\n",
       "      <td>70.79</td>\n",
       "      <td>IN</td>\n",
       "      <td>051202011109</td>\n",
       "      <td>Little Eagle Creek</td>\n",
       "      <td>051202011110</td>\n",
       "      <td>55.883574</td>\n",
       "      <td>70.790345</td>\n",
       "      <td>70.790345</td>\n",
       "      <td>POLYGON ((787369.681 18192.954, 787421.550 182...</td>\n",
       "      <td>56.409334</td>\n",
       "      <td>70.79033</td>\n",
       "    </tr>\n",
       "  </tbody>\n",
       "</table>\n",
       "</div>"
      ],
      "text/plain": [
       "                                    TNMID  GNIS_ID  AREAACRES  AREASQKM  \\\n",
       "0  {A6F5714B-172F-424D-91F9-9345D6BC9D9A}        0   17492.68     70.79   \n",
       "\n",
       "  STATES         HUC12                NAME         TOHUC  Perimeter  \\\n",
       "0     IN  051202011109  Little Eagle Creek  051202011110  55.883574   \n",
       "\n",
       "   area_full       AREA                                           geometry  \\\n",
       "0  70.790345  70.790345  POLYGON ((787369.681 18192.954, 787421.550 182...   \n",
       "\n",
       "   perimeter_geopandas  area_geopandas  \n",
       "0            56.409334        70.79033  "
      ]
     },
     "execution_count": 11,
     "metadata": {},
     "output_type": "execute_result"
    }
   ],
   "source": [
    "# Add area and perimeter fields for the whole subwatersheds file\n",
    "#calculate area and perimeter of subwatersheds\n",
    "all_subwatersheds[\"perimeter_geopandas\"] = all_subwatersheds['geometry'].length/1000\n",
    "all_subwatersheds[\"area_geopandas\"] = all_subwatersheds['geometry'].area/10**6\n",
    "all_subwatersheds.head(2)"
   ]
  },
  {
   "cell_type": "code",
   "execution_count": 36,
   "metadata": {},
   "outputs": [],
   "source": [
    "# Read a feature layer from Geodatabase using Geopandas\n",
    "nfhl_sfha = gpd.read_file(r\"P:\\Temp\\McAvoy\\ML_DataCollection\\MeridianHills\\MeridianHills_DataCollection\\NFHL_18_20200310.gdb\", driver='FileGDB', layer='S_FLD_HAZ_AR')"
   ]
  },
  {
   "cell_type": "code",
   "execution_count": 44,
   "metadata": {},
   "outputs": [
    {
     "data": {
      "text/html": [
       "<div>\n",
       "<style scoped>\n",
       "    .dataframe tbody tr th:only-of-type {\n",
       "        vertical-align: middle;\n",
       "    }\n",
       "\n",
       "    .dataframe tbody tr th {\n",
       "        vertical-align: top;\n",
       "    }\n",
       "\n",
       "    .dataframe thead th {\n",
       "        text-align: right;\n",
       "    }\n",
       "</style>\n",
       "<table border=\"1\" class=\"dataframe\">\n",
       "  <thead>\n",
       "    <tr style=\"text-align: right;\">\n",
       "      <th></th>\n",
       "      <th>DFIRM_ID</th>\n",
       "      <th>VERSION_ID</th>\n",
       "      <th>FLD_AR_ID</th>\n",
       "      <th>STUDY_TYP</th>\n",
       "      <th>FLD_ZONE</th>\n",
       "      <th>ZONE_SUBTY</th>\n",
       "      <th>SFHA_TF</th>\n",
       "      <th>STATIC_BFE</th>\n",
       "      <th>V_DATUM</th>\n",
       "      <th>DEPTH</th>\n",
       "      <th>...</th>\n",
       "      <th>AR_REVERT</th>\n",
       "      <th>AR_SUBTRV</th>\n",
       "      <th>BFE_REVERT</th>\n",
       "      <th>DEP_REVERT</th>\n",
       "      <th>DUAL_ZONE</th>\n",
       "      <th>SOURCE_CIT</th>\n",
       "      <th>GFID</th>\n",
       "      <th>SHAPE_Length</th>\n",
       "      <th>SHAPE_Area</th>\n",
       "      <th>geometry</th>\n",
       "    </tr>\n",
       "  </thead>\n",
       "  <tbody>\n",
       "    <tr>\n",
       "      <th>0</th>\n",
       "      <td>18097C</td>\n",
       "      <td>1.1.1.0</td>\n",
       "      <td>18097C_1</td>\n",
       "      <td>NP</td>\n",
       "      <td>AH</td>\n",
       "      <td>None</td>\n",
       "      <td>T</td>\n",
       "      <td>740.0</td>\n",
       "      <td>NAVD88</td>\n",
       "      <td>-9999.0</td>\n",
       "      <td>...</td>\n",
       "      <td></td>\n",
       "      <td></td>\n",
       "      <td>-9999.0</td>\n",
       "      <td>-9999.0</td>\n",
       "      <td></td>\n",
       "      <td>18097C_LOMC19</td>\n",
       "      <td>87bee992-4fa3-4527-bd71-935329abcbd8</td>\n",
       "      <td>0.002667</td>\n",
       "      <td>4.348833e-07</td>\n",
       "      <td>MULTIPOLYGON (((-86.22136 39.81742, -86.22134 ...</td>\n",
       "    </tr>\n",
       "  </tbody>\n",
       "</table>\n",
       "<p>1 rows × 23 columns</p>\n",
       "</div>"
      ],
      "text/plain": [
       "  DFIRM_ID VERSION_ID FLD_AR_ID STUDY_TYP FLD_ZONE ZONE_SUBTY SFHA_TF  \\\n",
       "0   18097C    1.1.1.0  18097C_1        NP       AH       None       T   \n",
       "\n",
       "   STATIC_BFE V_DATUM   DEPTH  ... AR_REVERT  AR_SUBTRV BFE_REVERT DEP_REVERT  \\\n",
       "0       740.0  NAVD88 -9999.0  ...                         -9999.0    -9999.0   \n",
       "\n",
       "  DUAL_ZONE     SOURCE_CIT                                  GFID SHAPE_Length  \\\n",
       "0            18097C_LOMC19  87bee992-4fa3-4527-bd71-935329abcbd8     0.002667   \n",
       "\n",
       "     SHAPE_Area                                           geometry  \n",
       "0  4.348833e-07  MULTIPOLYGON (((-86.22136 39.81742, -86.22134 ...  \n",
       "\n",
       "[1 rows x 23 columns]"
      ]
     },
     "execution_count": 44,
     "metadata": {},
     "output_type": "execute_result"
    }
   ],
   "source": [
    "nfhl_sfha.head(1)"
   ]
  },
  {
   "cell_type": "code",
   "execution_count": 42,
   "metadata": {},
   "outputs": [
    {
     "data": {
      "text/plain": [
       "<Geographic 2D CRS: EPSG:4269>\n",
       "Name: NAD83\n",
       "Axis Info [ellipsoidal]:\n",
       "- Lat[north]: Geodetic latitude (degree)\n",
       "- Lon[east]: Geodetic longitude (degree)\n",
       "Area of Use:\n",
       "- name: North America - NAD83\n",
       "- bounds: (167.65, 14.92, -47.74, 86.46)\n",
       "Datum: North American Datum 1983\n",
       "- Ellipsoid: GRS 1980\n",
       "- Prime Meridian: Greenwich"
      ]
     },
     "execution_count": 42,
     "metadata": {},
     "output_type": "execute_result"
    }
   ],
   "source": [
    "nfhl_sfha.crs"
   ]
  },
  {
   "cell_type": "code",
   "execution_count": 27,
   "metadata": {},
   "outputs": [],
   "source": [
    "all_subwatersheds_trans = all_subwatersheds.to_crs('esri:102008')"
   ]
  },
  {
   "cell_type": "code",
   "execution_count": 30,
   "metadata": {},
   "outputs": [],
   "source": [
    "es_union = gpd.overlay(all_subwatersheds_trans, nfhl_sfha_gpd, how='union')"
   ]
  },
  {
   "cell_type": "code",
   "execution_count": 31,
   "metadata": {},
   "outputs": [
    {
     "data": {
      "text/html": [
       "<div>\n",
       "<style scoped>\n",
       "    .dataframe tbody tr th:only-of-type {\n",
       "        vertical-align: middle;\n",
       "    }\n",
       "\n",
       "    .dataframe tbody tr th {\n",
       "        vertical-align: top;\n",
       "    }\n",
       "\n",
       "    .dataframe thead th {\n",
       "        text-align: right;\n",
       "    }\n",
       "</style>\n",
       "<table border=\"1\" class=\"dataframe\">\n",
       "  <thead>\n",
       "    <tr style=\"text-align: right;\">\n",
       "      <th></th>\n",
       "      <th>TNMID_1</th>\n",
       "      <th>GNIS_ID_1</th>\n",
       "      <th>AREAACRES_1</th>\n",
       "      <th>AREASQKM_1</th>\n",
       "      <th>STATES_1</th>\n",
       "      <th>HUC12_1</th>\n",
       "      <th>NAME_1</th>\n",
       "      <th>TOHUC_1</th>\n",
       "      <th>Perimeter_1</th>\n",
       "      <th>area_full_1</th>\n",
       "      <th>...</th>\n",
       "      <th>AREAACRES_2</th>\n",
       "      <th>AREASQKM_2</th>\n",
       "      <th>STATES_2</th>\n",
       "      <th>HUC12_2</th>\n",
       "      <th>NAME_2</th>\n",
       "      <th>TOHUC_2</th>\n",
       "      <th>Perimeter_2</th>\n",
       "      <th>area_full_2</th>\n",
       "      <th>AREA_2</th>\n",
       "      <th>geometry</th>\n",
       "    </tr>\n",
       "  </thead>\n",
       "  <tbody>\n",
       "    <tr>\n",
       "      <th>0</th>\n",
       "      <td>{A6F5714B-172F-424D-91F9-9345D6BC9D9A}</td>\n",
       "      <td>0</td>\n",
       "      <td>17492.68</td>\n",
       "      <td>70.79</td>\n",
       "      <td>IN</td>\n",
       "      <td>051202011109</td>\n",
       "      <td>Little Eagle Creek</td>\n",
       "      <td>051202011110</td>\n",
       "      <td>55.883574</td>\n",
       "      <td>70.790345</td>\n",
       "      <td>...</td>\n",
       "      <td>17492.68</td>\n",
       "      <td>70.79</td>\n",
       "      <td>IN</td>\n",
       "      <td>051202011109</td>\n",
       "      <td>Little Eagle Creek</td>\n",
       "      <td>051202011110</td>\n",
       "      <td>55.883574</td>\n",
       "      <td>70.790345</td>\n",
       "      <td>70.790345</td>\n",
       "      <td>POLYGON ((787369.681 18192.954, 787421.550 182...</td>\n",
       "    </tr>\n",
       "  </tbody>\n",
       "</table>\n",
       "<p>1 rows × 23 columns</p>\n",
       "</div>"
      ],
      "text/plain": [
       "                                  TNMID_1  GNIS_ID_1  AREAACRES_1  AREASQKM_1  \\\n",
       "0  {A6F5714B-172F-424D-91F9-9345D6BC9D9A}          0     17492.68       70.79   \n",
       "\n",
       "  STATES_1       HUC12_1              NAME_1       TOHUC_1  Perimeter_1  \\\n",
       "0       IN  051202011109  Little Eagle Creek  051202011110    55.883574   \n",
       "\n",
       "   area_full_1  ...  AREAACRES_2 AREASQKM_2  STATES_2       HUC12_2  \\\n",
       "0    70.790345  ...     17492.68      70.79        IN  051202011109   \n",
       "\n",
       "               NAME_2       TOHUC_2 Perimeter_2 area_full_2     AREA_2  \\\n",
       "0  Little Eagle Creek  051202011110   55.883574   70.790345  70.790345   \n",
       "\n",
       "                                            geometry  \n",
       "0  POLYGON ((787369.681 18192.954, 787421.550 182...  \n",
       "\n",
       "[1 rows x 23 columns]"
      ]
     },
     "execution_count": 31,
     "metadata": {},
     "output_type": "execute_result"
    }
   ],
   "source": [
    "es_union"
   ]
  },
  {
   "cell_type": "code",
   "execution_count": null,
   "metadata": {},
   "outputs": [],
   "source": []
  }
 ],
 "metadata": {
  "kernelspec": {
   "display_name": "Python 3",
   "language": "python",
   "name": "python3"
  },
  "language_info": {
   "codemirror_mode": {
    "name": "ipython",
    "version": 3
   },
   "file_extension": ".py",
   "mimetype": "text/x-python",
   "name": "python",
   "nbconvert_exporter": "python",
   "pygments_lexer": "ipython3",
   "version": "3.7.6"
  }
 },
 "nbformat": 4,
 "nbformat_minor": 4
}
