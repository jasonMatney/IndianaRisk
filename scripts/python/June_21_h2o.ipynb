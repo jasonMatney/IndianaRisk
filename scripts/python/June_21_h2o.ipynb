{
 "cells": [
  {
   "cell_type": "code",
   "execution_count": 62,
   "metadata": {},
   "outputs": [],
   "source": [
    "from tensorflow import keras \n",
    "import h2o\n",
    "import os\n",
    "import pandas as pd\n",
    "from sklearn.preprocessing import MinMaxScaler\n",
    "from h2o.estimators import H2ORandomForestEstimator\n",
    "from h2o.estimators import H2OGradientBoostingEstimator\n",
    "from h2o.estimators.glm import H2OGeneralizedLinearEstimator"
   ]
  },
  {
   "cell_type": "code",
   "execution_count": 73,
   "metadata": {},
   "outputs": [],
   "source": [
    "\n",
    "# 1. magic for inline plot\n",
    "# 2. magic to print version\n",
    "# 3. magic so that the notebook will reload external python modules\n",
    "# 4. magic to enable retina (high resolution) plots\n",
    "# https://gist.github.com/minrk/3301035\n",
    "%matplotlib inline\n",
    "import matplotlib.pyplot as plt"
   ]
  },
  {
   "cell_type": "code",
   "execution_count": 2,
   "metadata": {},
   "outputs": [],
   "source": [
    "path = \"C:\\\\Users\\jmatney\\Documents\\GitHub\\IndianaRisk\"\n",
    "os.chdir(path)"
   ]
  },
  {
   "cell_type": "code",
   "execution_count": 3,
   "metadata": {},
   "outputs": [
    {
     "data": {
      "text/html": [
       "<div>\n",
       "<style scoped>\n",
       "    .dataframe tbody tr th:only-of-type {\n",
       "        vertical-align: middle;\n",
       "    }\n",
       "\n",
       "    .dataframe tbody tr th {\n",
       "        vertical-align: top;\n",
       "    }\n",
       "\n",
       "    .dataframe thead th {\n",
       "        text-align: right;\n",
       "    }\n",
       "</style>\n",
       "<table border=\"1\" class=\"dataframe\">\n",
       "  <thead>\n",
       "    <tr style=\"text-align: right;\">\n",
       "      <th></th>\n",
       "      <th>subwatershed</th>\n",
       "      <th>circulatory_ratio</th>\n",
       "      <th>relief</th>\n",
       "      <th>avg_slope</th>\n",
       "      <th>elongation_ratio</th>\n",
       "      <th>drainage_density</th>\n",
       "      <th>shape_factor</th>\n",
       "      <th>relief_ratio</th>\n",
       "      <th>ruggedness</th>\n",
       "      <th>aae_area</th>\n",
       "      <th>...</th>\n",
       "      <th>population_density.y</th>\n",
       "      <th>avg_median_income</th>\n",
       "      <th>population_change</th>\n",
       "      <th>dependent_population_pct</th>\n",
       "      <th>dist_to_stream_avg</th>\n",
       "      <th>dist_to_stream_stdev</th>\n",
       "      <th>avg_impervious_percent</th>\n",
       "      <th>orb100yr24ha_am</th>\n",
       "      <th>policy_total_building_coverage_avg</th>\n",
       "      <th>claims_total_building_insurance_coverage_avg</th>\n",
       "    </tr>\n",
       "  </thead>\n",
       "  <tbody>\n",
       "    <tr>\n",
       "      <th>0</th>\n",
       "      <td>51202080201</td>\n",
       "      <td>0.299470</td>\n",
       "      <td>1.010000e+02</td>\n",
       "      <td>11.031308</td>\n",
       "      <td>0.307262</td>\n",
       "      <td>0.412036</td>\n",
       "      <td>9.386736</td>\n",
       "      <td>3.610590e-03</td>\n",
       "      <td>0.050787</td>\n",
       "      <td>0.697929</td>\n",
       "      <td>...</td>\n",
       "      <td>193.107921</td>\n",
       "      <td>58111.000000</td>\n",
       "      <td>1673</td>\n",
       "      <td>41.366667</td>\n",
       "      <td>884.262553</td>\n",
       "      <td>503.506692</td>\n",
       "      <td>0.146502</td>\n",
       "      <td>6789.381348</td>\n",
       "      <td>3212.713978</td>\n",
       "      <td>1180.826665</td>\n",
       "    </tr>\n",
       "    <tr>\n",
       "      <th>1</th>\n",
       "      <td>51201110302</td>\n",
       "      <td>0.485784</td>\n",
       "      <td>5.000000e+01</td>\n",
       "      <td>4.080327</td>\n",
       "      <td>0.718304</td>\n",
       "      <td>0.283812</td>\n",
       "      <td>1.484138</td>\n",
       "      <td>4.839883e-03</td>\n",
       "      <td>0.014050</td>\n",
       "      <td>4.034926</td>\n",
       "      <td>...</td>\n",
       "      <td>104.643085</td>\n",
       "      <td>56771.333333</td>\n",
       "      <td>-431</td>\n",
       "      <td>41.466667</td>\n",
       "      <td>1261.467019</td>\n",
       "      <td>535.669076</td>\n",
       "      <td>1.180721</td>\n",
       "      <td>6862.660156</td>\n",
       "      <td>25613.870480</td>\n",
       "      <td>2713.363580</td>\n",
       "    </tr>\n",
       "    <tr>\n",
       "      <th>2</th>\n",
       "      <td>51201060507</td>\n",
       "      <td>0.322675</td>\n",
       "      <td>2.600000e+01</td>\n",
       "      <td>2.030253</td>\n",
       "      <td>0.815297</td>\n",
       "      <td>0.647139</td>\n",
       "      <td>1.778003</td>\n",
       "      <td>2.980456e-03</td>\n",
       "      <td>0.017181</td>\n",
       "      <td>2.977041</td>\n",
       "      <td>...</td>\n",
       "      <td>321.678527</td>\n",
       "      <td>48506.750000</td>\n",
       "      <td>-243</td>\n",
       "      <td>41.675000</td>\n",
       "      <td>584.613292</td>\n",
       "      <td>297.702490</td>\n",
       "      <td>1.084871</td>\n",
       "      <td>6175.916504</td>\n",
       "      <td>27111.136390</td>\n",
       "      <td>28374.903350</td>\n",
       "    </tr>\n",
       "    <tr>\n",
       "      <th>3</th>\n",
       "      <td>71200010303</td>\n",
       "      <td>0.326203</td>\n",
       "      <td>3.710738e-09</td>\n",
       "      <td>2.053226</td>\n",
       "      <td>0.000588</td>\n",
       "      <td>0.308209</td>\n",
       "      <td>1.027938</td>\n",
       "      <td>4.436303e-13</td>\n",
       "      <td>0.009651</td>\n",
       "      <td>4.357636</td>\n",
       "      <td>...</td>\n",
       "      <td>366.175097</td>\n",
       "      <td>61766.200000</td>\n",
       "      <td>38</td>\n",
       "      <td>42.000000</td>\n",
       "      <td>1087.881755</td>\n",
       "      <td>964.682414</td>\n",
       "      <td>4.389772</td>\n",
       "      <td>5982.229004</td>\n",
       "      <td>33976.722030</td>\n",
       "      <td>43.018237</td>\n",
       "    </tr>\n",
       "    <tr>\n",
       "      <th>4</th>\n",
       "      <td>50800030717</td>\n",
       "      <td>0.379072</td>\n",
       "      <td>7.600000e+01</td>\n",
       "      <td>10.546125</td>\n",
       "      <td>0.172761</td>\n",
       "      <td>0.501159</td>\n",
       "      <td>3.978998</td>\n",
       "      <td>4.231477e-03</td>\n",
       "      <td>0.068939</td>\n",
       "      <td>18.411886</td>\n",
       "      <td>...</td>\n",
       "      <td>256.032460</td>\n",
       "      <td>55698.400000</td>\n",
       "      <td>-833</td>\n",
       "      <td>40.660000</td>\n",
       "      <td>555.426454</td>\n",
       "      <td>409.885301</td>\n",
       "      <td>1.661841</td>\n",
       "      <td>5676.336426</td>\n",
       "      <td>63568.611420</td>\n",
       "      <td>9695.319736</td>\n",
       "    </tr>\n",
       "  </tbody>\n",
       "</table>\n",
       "<p>5 rows × 27 columns</p>\n",
       "</div>"
      ],
      "text/plain": [
       "   subwatershed  circulatory_ratio        relief  avg_slope  elongation_ratio  \\\n",
       "0   51202080201           0.299470  1.010000e+02  11.031308          0.307262   \n",
       "1   51201110302           0.485784  5.000000e+01   4.080327          0.718304   \n",
       "2   51201060507           0.322675  2.600000e+01   2.030253          0.815297   \n",
       "3   71200010303           0.326203  3.710738e-09   2.053226          0.000588   \n",
       "4   50800030717           0.379072  7.600000e+01  10.546125          0.172761   \n",
       "\n",
       "   drainage_density  shape_factor  relief_ratio  ruggedness   aae_area  ...  \\\n",
       "0          0.412036      9.386736  3.610590e-03    0.050787   0.697929  ...   \n",
       "1          0.283812      1.484138  4.839883e-03    0.014050   4.034926  ...   \n",
       "2          0.647139      1.778003  2.980456e-03    0.017181   2.977041  ...   \n",
       "3          0.308209      1.027938  4.436303e-13    0.009651   4.357636  ...   \n",
       "4          0.501159      3.978998  4.231477e-03    0.068939  18.411886  ...   \n",
       "\n",
       "   population_density.y  avg_median_income  population_change  \\\n",
       "0            193.107921       58111.000000               1673   \n",
       "1            104.643085       56771.333333               -431   \n",
       "2            321.678527       48506.750000               -243   \n",
       "3            366.175097       61766.200000                 38   \n",
       "4            256.032460       55698.400000               -833   \n",
       "\n",
       "   dependent_population_pct  dist_to_stream_avg  dist_to_stream_stdev  \\\n",
       "0                 41.366667          884.262553            503.506692   \n",
       "1                 41.466667         1261.467019            535.669076   \n",
       "2                 41.675000          584.613292            297.702490   \n",
       "3                 42.000000         1087.881755            964.682414   \n",
       "4                 40.660000          555.426454            409.885301   \n",
       "\n",
       "   avg_impervious_percent  orb100yr24ha_am  \\\n",
       "0                0.146502      6789.381348   \n",
       "1                1.180721      6862.660156   \n",
       "2                1.084871      6175.916504   \n",
       "3                4.389772      5982.229004   \n",
       "4                1.661841      5676.336426   \n",
       "\n",
       "   policy_total_building_coverage_avg  \\\n",
       "0                         3212.713978   \n",
       "1                        25613.870480   \n",
       "2                        27111.136390   \n",
       "3                        33976.722030   \n",
       "4                        63568.611420   \n",
       "\n",
       "   claims_total_building_insurance_coverage_avg  \n",
       "0                                   1180.826665  \n",
       "1                                   2713.363580  \n",
       "2                                  28374.903350  \n",
       "3                                     43.018237  \n",
       "4                                   9695.319736  \n",
       "\n",
       "[5 rows x 27 columns]"
      ]
     },
     "execution_count": 3,
     "metadata": {},
     "output_type": "execute_result"
    }
   ],
   "source": [
    "# data\n",
    "IN_df = pd.read_excel(\"data\\model_data\\IN_Risk_Model.xlsx\")\n",
    "IN_df.head()"
   ]
  },
  {
   "cell_type": "code",
   "execution_count": 4,
   "metadata": {},
   "outputs": [],
   "source": [
    "IN_mod = IN_df.drop('subwatershed', 1)"
   ]
  },
  {
   "cell_type": "code",
   "execution_count": 100,
   "metadata": {},
   "outputs": [],
   "source": [
    "# Start local host with given number of threads plus give memory size\n",
    "h2o.cluster().shutdown()"
   ]
  },
  {
   "cell_type": "markdown",
   "metadata": {},
   "source": [
    "## Min Max Scaler"
   ]
  },
  {
   "cell_type": "code",
   "execution_count": 13,
   "metadata": {},
   "outputs": [],
   "source": [
    "###############\n",
    "## NORMALIZE ##\n",
    "###############\n",
    "# IN_norm <- normalizeData(IN_mod, type='0_1')\n",
    "# colnames(IN_norm) <- names(IN_mod)\n",
    "# IN_norm_y <- normalizeData(IN_mod$claims_total_building_insurance_coverage_avg, type='0_1')\n",
    "\n",
    "scaler = MinMaxScaler()\n",
    "IN_norm = scaler.fit_transform(IN_mod)"
   ]
  },
  {
   "cell_type": "code",
   "execution_count": 29,
   "metadata": {},
   "outputs": [],
   "source": [
    "IN_norm = pd.DataFrame(IN_norm, columns=IN_mod.columns)"
   ]
  },
  {
   "cell_type": "code",
   "execution_count": 31,
   "metadata": {},
   "outputs": [
    {
     "name": "stdout",
     "output_type": "stream",
     "text": [
      "Parse progress: |█████████████████████████████████████████████████████████| 100%\n"
     ]
    }
   ],
   "source": [
    "hf = h2o.H2OFrame(IN_norm)"
   ]
  },
  {
   "cell_type": "code",
   "execution_count": 34,
   "metadata": {},
   "outputs": [],
   "source": [
    "train, test, valid = hf.split_frame(ratios=[.8, .15])"
   ]
  },
  {
   "cell_type": "code",
   "execution_count": 49,
   "metadata": {},
   "outputs": [],
   "source": [
    "predictors = list(IN_mod.loc[:, IN_mod.columns != \"claims_total_building_insurance_coverage_avg\"].columns)\n",
    "response = \"claims_total_building_insurance_coverage_avg\""
   ]
  },
  {
   "cell_type": "markdown",
   "metadata": {},
   "source": [
    "## Variable importance plot"
   ]
  },
  {
   "cell_type": "code",
   "execution_count": 79,
   "metadata": {},
   "outputs": [],
   "source": [
    "def plot_varimp(h2o_model, n_features = None):\n",
    "    \"\"\"Plot variable importance for H2O tree-based models\"\"\"\n",
    "    importances = h2o_model.varimp()\n",
    "    feature_labels = [tup[0] for tup in importances]\n",
    "    feature_imp = [tup[3] for tup in importances]\n",
    "\n",
    "    # specify bar centers on the y axis, but flip the order so largest bar appears at top\n",
    "    pos = range(len(feature_labels))[::-1]\n",
    "    if n_features is None:\n",
    "        n_features = min(len(feature_imp), 10)\n",
    "\n",
    "    fig, ax = plt.subplots(1, 1)\n",
    "    plt.barh(pos[:n_features], feature_imp[:n_features],\n",
    "             align = 'center', height = 0.8, color = '#1F77B4', edgecolor = 'none')\n",
    "\n",
    "    # Hide the right and top spines, color others grey\n",
    "    ax.spines['right'].set_visible(False)\n",
    "    ax.spines['top'].set_visible(False)\n",
    "    ax.spines['bottom'].set_color('#7B7B7B')\n",
    "    ax.spines['left'].set_color('#7B7B7B')\n",
    "\n",
    "    # Only show ticks on the left and bottom spines\n",
    "    ax.yaxis.set_ticks_position('left')\n",
    "    ax.xaxis.set_ticks_position('bottom')\n",
    "    plt.yticks(pos[:n_features], feature_labels[:n_features])\n",
    "    plt.ylim([min(pos[:n_features]) - 1, max(pos[:n_features]) + 1])\n",
    "\n",
    "    title_fontsize = 14\n",
    "    algo = h2o_model._model_json['algo']\n",
    "    if algo == 'gbm':\n",
    "        plt.title('Variable Importance: H2O GBM', fontsize=title_fontsize)\n",
    "    elif algo == 'drf':\n",
    "        plt.title('Variable Importance: H2O RF', fontsize=title_fontsize)\n",
    "    elif algo == 'xgboost':\n",
    "        plt.title('Variable Importance: H2O XGBoost', fontsize=title_fontsize)\n",
    "\n",
    "    plt.show()"
   ]
  },
  {
   "cell_type": "markdown",
   "metadata": {},
   "source": [
    "## Random Forest"
   ]
  },
  {
   "cell_type": "code",
   "execution_count": 84,
   "metadata": {},
   "outputs": [
    {
     "name": "stdout",
     "output_type": "stream",
     "text": [
      "drf Model Build progress: |███████████████████████████████████████████████| 100%\n",
      "drf prediction progress: |████████████████████████████████████████████████| 100%\n"
     ]
    }
   ],
   "source": [
    "# Number of Cross-validation folds\n",
    "FOLDS = 5\n",
    "\n",
    "# Build and train the model:\n",
    "IN_drf = H2ORandomForestEstimator(seed=1111,\n",
    "                                    ntrees=200,\n",
    "                                    max_depth=5,\n",
    "                                    min_rows=10,\n",
    "                                    nfolds=FOLDS,\n",
    "                                    keep_cross_validation_predictions=True,\n",
    "                                    keep_cross_validation_fold_assignment=True)\n",
    "IN_drf.train(x=predictors,\n",
    "               y=response,\n",
    "               training_frame=train,\n",
    "               validation_frame=valid)\n",
    "\n",
    "# Eval performance:\n",
    "drf_perf = IN_drf.model_performance()\n",
    "\n",
    "# Generate predictions on a validation set (if necessary):\n",
    "drf_pred = IN_drf.predict(test)"
   ]
  },
  {
   "cell_type": "code",
   "execution_count": 85,
   "metadata": {},
   "outputs": [],
   "source": [
    "drf_history = IN_drf.scoring_history()"
   ]
  },
  {
   "cell_type": "code",
   "execution_count": 93,
   "metadata": {},
   "outputs": [
    {
     "data": {
      "image/png": "[encoded data removed]",
      "text/plain": [
       "<Figure size 1440x432 with 1 Axes>"
      ]
     },
     "metadata": {
      "needs_background": "light"
     },
     "output_type": "display_data"
    }
   ],
   "source": [
    "# change default style figure and font size\n",
    "plt.rcParams['figure.figsize'] = 20, 6\n",
    "plt.rcParams['font.size'] = 10\n",
    "\n",
    "plt.plot(drf_history['training_rmse'], label = 'training_rmse')\n",
    "plt.plot(drf_history['validation_rmse'], label = 'validation_rmse')\n",
    "plt.xticks(range(drf_history.shape[0]), drf_history['number_of_trees'].apply(int))\n",
    "plt.title('DRF training history')\n",
    "plt.legend()\n",
    "plt.show()"
   ]
  },
  {
   "cell_type": "code",
   "execution_count": 87,
   "metadata": {},
   "outputs": [
    {
     "data": {
      "image/png": "[encoded data removed]",
      "text/plain": [
       "<Figure size 720x576 with 1 Axes>"
      ]
     },
     "metadata": {
      "needs_background": "light"
     },
     "output_type": "display_data"
    }
   ],
   "source": [
    "plt.rcParams['figure.figsize'] = 10, 8\n",
    "\n",
    "plot_varimp(IN_drf)"
   ]
  },
  {
   "cell_type": "markdown",
   "metadata": {},
   "source": [
    "## Gradient Boosting"
   ]
  },
  {
   "cell_type": "code",
   "execution_count": 61,
   "metadata": {},
   "outputs": [
    {
     "name": "stdout",
     "output_type": "stream",
     "text": [
      "gbm Model Build progress: |███████████████████████████████████████████████| 100%\n",
      "gbm prediction progress: |████████████████████████████████████████████████| 100%\n"
     ]
    }
   ],
   "source": [
    "# Build and train the model:\n",
    "IN_gbm = H2OGradientBoostingEstimator(nfolds=FOLDS,\n",
    "                                        seed=1111,\n",
    "                                        keep_cross_validation_predictions = True)\n",
    "\n",
    "IN_gbm.train(x=predictors, \n",
    "             y=response, \n",
    "             training_frame=train,\n",
    "             validation_frame=valid)\n",
    "\n",
    "# Eval performance:\n",
    "gbm_perf = IN_gbm.model_performance()\n",
    "\n",
    "# Generate predictions on a test set (if necessary):\n",
    "gbm_pred = IN_gbm.predict(test)"
   ]
  },
  {
   "cell_type": "code",
   "execution_count": 77,
   "metadata": {},
   "outputs": [],
   "source": [
    "gbm_history = IN_gbm.scoring_history()"
   ]
  },
  {
   "cell_type": "code",
   "execution_count": 76,
   "metadata": {},
   "outputs": [
    {
     "data": {
      "image/png": "[encoded data removed]",
      "text/plain": [
       "<Figure size 576x432 with 1 Axes>"
      ]
     },
     "metadata": {
      "needs_background": "light"
     },
     "output_type": "display_data"
    }
   ],
   "source": [
    "# change default style figure and font size\n",
    "plt.rcParams['figure.figsize'] = 8, 6\n",
    "plt.rcParams['font.size'] = 12\n",
    "\n",
    "plt.plot(gbm_history['training_rmse'], label = 'training_rmse')\n",
    "plt.plot(gbm_history['validation_rmse'], label = 'validation_rmse')\n",
    "plt.xticks(range(gbm_history.shape[0]), gbm_history['number_of_trees'].apply(int))\n",
    "plt.title('GBM training history')\n",
    "plt.legend()\n",
    "plt.show()"
   ]
  },
  {
   "cell_type": "code",
   "execution_count": 78,
   "metadata": {},
   "outputs": [
    {
     "data": {
      "text/html": [
       "<div>\n",
       "<style scoped>\n",
       "    .dataframe tbody tr th:only-of-type {\n",
       "        vertical-align: middle;\n",
       "    }\n",
       "\n",
       "    .dataframe tbody tr th {\n",
       "        vertical-align: top;\n",
       "    }\n",
       "\n",
       "    .dataframe thead th {\n",
       "        text-align: right;\n",
       "    }\n",
       "</style>\n",
       "<table border=\"1\" class=\"dataframe\">\n",
       "  <thead>\n",
       "    <tr style=\"text-align: right;\">\n",
       "      <th></th>\n",
       "      <th>variable</th>\n",
       "      <th>relative_importance</th>\n",
       "      <th>scaled_importance</th>\n",
       "      <th>percentage</th>\n",
       "    </tr>\n",
       "  </thead>\n",
       "  <tbody>\n",
       "    <tr>\n",
       "      <th>0</th>\n",
       "      <td>policy_total_building_coverage_avg</td>\n",
       "      <td>18.882854</td>\n",
       "      <td>1.000000</td>\n",
       "      <td>0.427719</td>\n",
       "    </tr>\n",
       "    <tr>\n",
       "      <th>1</th>\n",
       "      <td>population_density.y</td>\n",
       "      <td>2.963467</td>\n",
       "      <td>0.156940</td>\n",
       "      <td>0.067126</td>\n",
       "    </tr>\n",
       "    <tr>\n",
       "      <th>2</th>\n",
       "      <td>orb100yr24ha_am</td>\n",
       "      <td>2.447683</td>\n",
       "      <td>0.129625</td>\n",
       "      <td>0.055443</td>\n",
       "    </tr>\n",
       "    <tr>\n",
       "      <th>3</th>\n",
       "      <td>aae_area</td>\n",
       "      <td>1.910220</td>\n",
       "      <td>0.101162</td>\n",
       "      <td>0.043269</td>\n",
       "    </tr>\n",
       "    <tr>\n",
       "      <th>4</th>\n",
       "      <td>circulatory_ratio</td>\n",
       "      <td>1.710816</td>\n",
       "      <td>0.090602</td>\n",
       "      <td>0.038752</td>\n",
       "    </tr>\n",
       "  </tbody>\n",
       "</table>\n",
       "</div>"
      ],
      "text/plain": [
       "                             variable  relative_importance  scaled_importance  \\\n",
       "0  policy_total_building_coverage_avg            18.882854           1.000000   \n",
       "1                population_density.y             2.963467           0.156940   \n",
       "2                     orb100yr24ha_am             2.447683           0.129625   \n",
       "3                            aae_area             1.910220           0.101162   \n",
       "4                   circulatory_ratio             1.710816           0.090602   \n",
       "\n",
       "   percentage  \n",
       "0    0.427719  \n",
       "1    0.067126  \n",
       "2    0.055443  \n",
       "3    0.043269  \n",
       "4    0.038752  "
      ]
     },
     "execution_count": 78,
     "metadata": {},
     "output_type": "execute_result"
    }
   ],
   "source": [
    "IN_gbm.varimp(use_pandas = True).head()"
   ]
  },
  {
   "cell_type": "code",
   "execution_count": 80,
   "metadata": {},
   "outputs": [
    {
     "data": {
      "image/png": "[encoded data removed]",
      "text/plain": [
       "<Figure size 720x576 with 1 Axes>"
      ]
     },
     "metadata": {
      "needs_background": "light"
     },
     "output_type": "display_data"
    }
   ],
   "source": [
    "plt.rcParams['figure.figsize'] = 10, 8\n",
    "\n",
    "plot_varimp(IN_gbm)"
   ]
  },
  {
   "cell_type": "markdown",
   "metadata": {},
   "source": [
    "## Generalized Linear Model"
   ]
  },
  {
   "cell_type": "code",
   "execution_count": 63,
   "metadata": {},
   "outputs": [
    {
     "name": "stdout",
     "output_type": "stream",
     "text": [
      "glm Model Build progress: |███████████████████████████████████████████████| 100%\n"
     ]
    }
   ],
   "source": [
    "IN_glm = H2OGeneralizedLinearEstimator(family= \"gaussian\",\n",
    "                                          lambda_ = 0,\n",
    "                                          compute_p_values = True)\n",
    "\n",
    "IN_glm.train(x=predictors, \n",
    "             y=response, \n",
    "             training_frame = train,\n",
    "             validation_frame = valid)\n",
    "\n",
    "# Eval performance:\n",
    "glm_perf = IN_glm.model_performance()\n",
    "\n",
    "# Generate predictions on a test set (if necessary):\n",
    "glm_pred = IN_glm.predict(test)"
   ]
  },
  {
   "cell_type": "code",
   "execution_count": 68,
   "metadata": {},
   "outputs": [
    {
     "name": "stdout",
     "output_type": "stream",
     "text": [
      "Model Details\n",
      "=============\n",
      "H2OGeneralizedLinearEstimator :  Generalized Linear Modeling\n",
      "Model Key:  GLM_model_python_1592780320798_6\n",
      "\n",
      "\n",
      "GLM Model: summary\n"
     ]
    },
    {
     "data": {
      "text/html": [
       "<div>\n",
       "<style scoped>\n",
       "    .dataframe tbody tr th:only-of-type {\n",
       "        vertical-align: middle;\n",
       "    }\n",
       "\n",
       "    .dataframe tbody tr th {\n",
       "        vertical-align: top;\n",
       "    }\n",
       "\n",
       "    .dataframe thead th {\n",
       "        text-align: right;\n",
       "    }\n",
       "</style>\n",
       "<table border=\"1\" class=\"dataframe\">\n",
       "  <thead>\n",
       "    <tr style=\"text-align: right;\">\n",
       "      <th></th>\n",
       "      <th></th>\n",
       "      <th>family</th>\n",
       "      <th>link</th>\n",
       "      <th>regularization</th>\n",
       "      <th>number_of_predictors_total</th>\n",
       "      <th>number_of_active_predictors</th>\n",
       "      <th>number_of_iterations</th>\n",
       "      <th>training_frame</th>\n",
       "    </tr>\n",
       "  </thead>\n",
       "  <tbody>\n",
       "    <tr>\n",
       "      <th>0</th>\n",
       "      <td></td>\n",
       "      <td>gaussian</td>\n",
       "      <td>identity</td>\n",
       "      <td>None</td>\n",
       "      <td>25</td>\n",
       "      <td>25</td>\n",
       "      <td>1</td>\n",
       "      <td>py_7_sid_9bbc</td>\n",
       "    </tr>\n",
       "  </tbody>\n",
       "</table>\n",
       "</div>"
      ],
      "text/plain": [
       "       family      link regularization  number_of_predictors_total  \\\n",
       "0    gaussian  identity           None                          25   \n",
       "\n",
       "  number_of_active_predictors  number_of_iterations training_frame  \n",
       "0                          25                     1  py_7_sid_9bbc  "
      ]
     },
     "metadata": {},
     "output_type": "display_data"
    },
    {
     "name": "stdout",
     "output_type": "stream",
     "text": [
      "\n",
      "\n",
      "ModelMetricsRegressionGLM: glm\n",
      "** Reported on train data. **\n",
      "\n",
      "MSE: 0.012566493314855688\n",
      "RMSE: 0.11210037160890989\n",
      "MAE: 0.07509790496294215\n",
      "RMSLE: 0.0910610766507804\n",
      "R^2: 0.27327435130427435\n",
      "Mean Residual Deviance: 0.012566493314855688\n",
      "Null degrees of freedom: 592\n",
      "Residual degrees of freedom: 567\n",
      "Null deviance: 10.254117972970455\n",
      "Residual deviance: 7.451930535709423\n",
      "AIC: -858.5346114633487\n",
      "\n",
      "ModelMetricsRegressionGLM: glm\n",
      "** Reported on validation data. **\n",
      "\n",
      "MSE: 0.014594079441660896\n",
      "RMSE: 0.12080595780697613\n",
      "MAE: 0.08969770529771115\n",
      "RMSLE: 0.10071753092571355\n",
      "R^2: 0.14307169920241725\n",
      "Mean Residual Deviance: 0.014594079441660896\n",
      "Null degrees of freedom: 34\n",
      "Residual degrees of freedom: 9\n",
      "Null deviance: 0.5964399074085575\n",
      "Residual deviance: 0.5107927804581314\n",
      "AIC: 5.375820067087666\n",
      "\n",
      "Scoring History: \n"
     ]
    },
    {
     "data": {
      "text/html": [
       "<div>\n",
       "<style scoped>\n",
       "    .dataframe tbody tr th:only-of-type {\n",
       "        vertical-align: middle;\n",
       "    }\n",
       "\n",
       "    .dataframe tbody tr th {\n",
       "        vertical-align: top;\n",
       "    }\n",
       "\n",
       "    .dataframe thead th {\n",
       "        text-align: right;\n",
       "    }\n",
       "</style>\n",
       "<table border=\"1\" class=\"dataframe\">\n",
       "  <thead>\n",
       "    <tr style=\"text-align: right;\">\n",
       "      <th></th>\n",
       "      <th></th>\n",
       "      <th>timestamp</th>\n",
       "      <th>duration</th>\n",
       "      <th>iterations</th>\n",
       "      <th>negative_log_likelihood</th>\n",
       "      <th>objective</th>\n",
       "    </tr>\n",
       "  </thead>\n",
       "  <tbody>\n",
       "    <tr>\n",
       "      <th>0</th>\n",
       "      <td></td>\n",
       "      <td>2020-06-21 20:16:41</td>\n",
       "      <td>0.000 sec</td>\n",
       "      <td>0</td>\n",
       "      <td>10.254118</td>\n",
       "      <td>0.017292</td>\n",
       "    </tr>\n",
       "  </tbody>\n",
       "</table>\n",
       "</div>"
      ],
      "text/plain": [
       "               timestamp    duration  iterations  negative_log_likelihood  \\\n",
       "0    2020-06-21 20:16:41   0.000 sec           0                10.254118   \n",
       "\n",
       "   objective  \n",
       "0   0.017292  "
      ]
     },
     "metadata": {},
     "output_type": "display_data"
    },
    {
     "data": {
      "text/plain": []
     },
     "execution_count": 68,
     "metadata": {},
     "output_type": "execute_result"
    }
   ],
   "source": [
    "IN_glm"
   ]
  },
  {
   "cell_type": "code",
   "execution_count": 94,
   "metadata": {},
   "outputs": [],
   "source": [
    "glm_history = IN_glm.scoring_history()"
   ]
  },
  {
   "cell_type": "code",
   "execution_count": 96,
   "metadata": {},
   "outputs": [
    {
     "data": {
      "text/html": [
       "<div>\n",
       "<style scoped>\n",
       "    .dataframe tbody tr th:only-of-type {\n",
       "        vertical-align: middle;\n",
       "    }\n",
       "\n",
       "    .dataframe tbody tr th {\n",
       "        vertical-align: top;\n",
       "    }\n",
       "\n",
       "    .dataframe thead th {\n",
       "        text-align: right;\n",
       "    }\n",
       "</style>\n",
       "<table border=\"1\" class=\"dataframe\">\n",
       "  <thead>\n",
       "    <tr style=\"text-align: right;\">\n",
       "      <th></th>\n",
       "      <th></th>\n",
       "      <th>timestamp</th>\n",
       "      <th>duration</th>\n",
       "      <th>iterations</th>\n",
       "      <th>negative_log_likelihood</th>\n",
       "      <th>objective</th>\n",
       "    </tr>\n",
       "  </thead>\n",
       "  <tbody>\n",
       "    <tr>\n",
       "      <th>0</th>\n",
       "      <td></td>\n",
       "      <td>2020-06-21 20:16:41</td>\n",
       "      <td>0.000 sec</td>\n",
       "      <td>0</td>\n",
       "      <td>10.254118</td>\n",
       "      <td>0.017292</td>\n",
       "    </tr>\n",
       "  </tbody>\n",
       "</table>\n",
       "</div>"
      ],
      "text/plain": [
       "               timestamp    duration  iterations  negative_log_likelihood  \\\n",
       "0    2020-06-21 20:16:41   0.000 sec           0                10.254118   \n",
       "\n",
       "   objective  \n",
       "0   0.017292  "
      ]
     },
     "execution_count": 96,
     "metadata": {},
     "output_type": "execute_result"
    }
   ],
   "source": [
    "glm_history"
   ]
  },
  {
   "cell_type": "markdown",
   "metadata": {},
   "source": [
    "## AutoML"
   ]
  },
  {
   "cell_type": "code",
   "execution_count": 56,
   "metadata": {},
   "outputs": [
    {
     "name": "stdout",
     "output_type": "stream",
     "text": [
      "AutoML progress: |\n",
      "19:38:15.358: AutoML: XGBoost is not available; skipping it.\n",
      "\n",
      "████████████████████████████████████████████████████████| 100%\n"
     ]
    }
   ],
   "source": [
    "from h2o.automl import H2OAutoML\n",
    "autoML = H2OAutoML(max_runtime_secs=120)\n",
    "autoML.train(x=predictors,\n",
    "             y=response,\n",
    "             training_frame=train)"
   ]
  },
  {
   "cell_type": "code",
   "execution_count": 57,
   "metadata": {},
   "outputs": [
    {
     "data": {
      "text/html": [
       "<table>\n",
       "<thead>\n",
       "<tr><th>model_id                                           </th><th style=\"text-align: right;\">  mean_residual_deviance</th><th style=\"text-align: right;\">    rmse</th><th style=\"text-align: right;\">      mse</th><th style=\"text-align: right;\">      mae</th><th style=\"text-align: right;\">    rmsle</th></tr>\n",
       "</thead>\n",
       "<tbody>\n",
       "<tr><td>GBM_grid__1_AutoML_20200621_193815_model_5         </td><td style=\"text-align: right;\">               0.0128276</td><td style=\"text-align: right;\">0.113259</td><td style=\"text-align: right;\">0.0128276</td><td style=\"text-align: right;\">0.0743332</td><td style=\"text-align: right;\">0.0915211</td></tr>\n",
       "<tr><td>GBM_grid__1_AutoML_20200621_193815_model_6         </td><td style=\"text-align: right;\">               0.0130821</td><td style=\"text-align: right;\">0.114377</td><td style=\"text-align: right;\">0.0130821</td><td style=\"text-align: right;\">0.0772424</td><td style=\"text-align: right;\">0.0930025</td></tr>\n",
       "<tr><td>GBM_2_AutoML_20200621_193815                       </td><td style=\"text-align: right;\">               0.0131141</td><td style=\"text-align: right;\">0.114517</td><td style=\"text-align: right;\">0.0131141</td><td style=\"text-align: right;\">0.0780557</td><td style=\"text-align: right;\">0.0936284</td></tr>\n",
       "<tr><td>GBM_grid__1_AutoML_20200621_193815_model_2         </td><td style=\"text-align: right;\">               0.0132112</td><td style=\"text-align: right;\">0.11494 </td><td style=\"text-align: right;\">0.0132112</td><td style=\"text-align: right;\">0.0783804</td><td style=\"text-align: right;\">0.0930646</td></tr>\n",
       "<tr><td>GBM_4_AutoML_20200621_193815                       </td><td style=\"text-align: right;\">               0.0133106</td><td style=\"text-align: right;\">0.115371</td><td style=\"text-align: right;\">0.0133106</td><td style=\"text-align: right;\">0.0776765</td><td style=\"text-align: right;\">0.093848 </td></tr>\n",
       "<tr><td>GBM_5_AutoML_20200621_193815                       </td><td style=\"text-align: right;\">               0.013336 </td><td style=\"text-align: right;\">0.115482</td><td style=\"text-align: right;\">0.013336 </td><td style=\"text-align: right;\">0.0785215</td><td style=\"text-align: right;\">0.0935434</td></tr>\n",
       "<tr><td>GBM_grid__1_AutoML_20200621_193815_model_3         </td><td style=\"text-align: right;\">               0.013357 </td><td style=\"text-align: right;\">0.115573</td><td style=\"text-align: right;\">0.013357 </td><td style=\"text-align: right;\">0.0774808</td><td style=\"text-align: right;\">0.0936881</td></tr>\n",
       "<tr><td>GBM_grid__1_AutoML_20200621_193815_model_1         </td><td style=\"text-align: right;\">               0.0134339</td><td style=\"text-align: right;\">0.115905</td><td style=\"text-align: right;\">0.0134339</td><td style=\"text-align: right;\">0.0789721</td><td style=\"text-align: right;\">0.0936562</td></tr>\n",
       "<tr><td>StackedEnsemble_BestOfFamily_AutoML_20200621_193815</td><td style=\"text-align: right;\">               0.0134581</td><td style=\"text-align: right;\">0.116009</td><td style=\"text-align: right;\">0.0134581</td><td style=\"text-align: right;\">0.0761897</td><td style=\"text-align: right;\">0.0938142</td></tr>\n",
       "<tr><td>XRT_1_AutoML_20200621_193815                       </td><td style=\"text-align: right;\">               0.013499 </td><td style=\"text-align: right;\">0.116185</td><td style=\"text-align: right;\">0.013499 </td><td style=\"text-align: right;\">0.0791196</td><td style=\"text-align: right;\">0.0942873</td></tr>\n",
       "</tbody>\n",
       "</table>"
      ]
     },
     "metadata": {},
     "output_type": "display_data"
    },
    {
     "name": "stdout",
     "output_type": "stream",
     "text": [
      "\n"
     ]
    }
   ],
   "source": [
    "leaderboard = autoML.leaderboard\n",
    "print(leaderboard)"
   ]
  },
  {
   "cell_type": "code",
   "execution_count": 65,
   "metadata": {},
   "outputs": [
    {
     "name": "stdout",
     "output_type": "stream",
     "text": [
      "\n",
      "ModelMetricsRegressionGLM: glm\n",
      "** Reported on train data. **\n",
      "\n",
      "MSE: 0.012566493314855688\n",
      "RMSE: 0.11210037160890989\n",
      "MAE: 0.07509790496294215\n",
      "RMSLE: 0.0910610766507804\n",
      "R^2: 0.27327435130427435\n",
      "Mean Residual Deviance: 0.012566493314855688\n",
      "Null degrees of freedom: 592\n",
      "Residual degrees of freedom: 567\n",
      "Null deviance: 10.254117972970455\n",
      "Residual deviance: 7.451930535709423\n",
      "AIC: -858.5346114633487\n"
     ]
    },
    {
     "data": {
      "text/plain": []
     },
     "execution_count": 65,
     "metadata": {},
     "output_type": "execute_result"
    }
   ],
   "source": [
    "glm_perf"
   ]
  },
  {
   "cell_type": "code",
   "execution_count": 66,
   "metadata": {},
   "outputs": [
    {
     "name": "stdout",
     "output_type": "stream",
     "text": [
      "\n",
      "ModelMetricsRegression: gbm\n",
      "** Reported on train data. **\n",
      "\n",
      "MSE: 0.003146786619005391\n",
      "RMSE: 0.05609622642393507\n",
      "MAE: 0.03887729965921695\n",
      "RMSLE: 0.04555305434391171\n",
      "Mean Residual Deviance: 0.003146786619005391\n"
     ]
    },
    {
     "data": {
      "text/plain": []
     },
     "execution_count": 66,
     "metadata": {},
     "output_type": "execute_result"
    }
   ],
   "source": [
    "gbm_perf"
   ]
  },
  {
   "cell_type": "code",
   "execution_count": 67,
   "metadata": {},
   "outputs": [
    {
     "name": "stdout",
     "output_type": "stream",
     "text": [
      "\n",
      "ModelMetricsRegression: drf\n",
      "** Reported on train data. **\n",
      "\n",
      "MSE: 0.014452957891926303\n",
      "RMSE: 0.12022045538063106\n",
      "MAE: 0.0810609890742535\n",
      "RMSLE: 0.09738695120531636\n",
      "Mean Residual Deviance: 0.014452957891926303\n"
     ]
    },
    {
     "data": {
      "text/plain": []
     },
     "execution_count": 67,
     "metadata": {},
     "output_type": "execute_result"
    }
   ],
   "source": [
    "drf_perf"
   ]
  },
  {
   "cell_type": "markdown",
   "metadata": {},
   "source": [
    "## Stacked Ensemble"
   ]
  }
 ],
 "metadata": {
  "kernelspec": {
   "display_name": "Python 3",
   "language": "python",
   "name": "python3"
  },
  "language_info": {
   "codemirror_mode": {
    "name": "ipython",
    "version": 3
   },
   "file_extension": ".py",
   "mimetype": "text/x-python",
   "name": "python",
   "nbconvert_exporter": "python",
   "pygments_lexer": "ipython3",
   "version": "3.7.4"
  }
 },
 "nbformat": 4,
 "nbformat_minor": 2
}
