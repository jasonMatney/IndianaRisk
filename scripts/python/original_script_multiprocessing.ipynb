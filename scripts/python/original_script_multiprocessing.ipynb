{
 "cells": [
  {
   "cell_type": "markdown",
   "metadata": {},
   "source": [
    "# Indiana_ML Data Collection \n",
    "#### Using open spatial tools and mulitprocessing "
   ]
  },
  {
   "cell_type": "code",
   "execution_count": null,
   "metadata": {},
   "outputs": [],
   "source": [
    "#########################################################################\n",
    "#Data Collection \n",
    "#\n",
    "# Functions for handling subwatershed characteristics data collection\n",
    "#\n",
    "# Authors: Shannon McAvoy (smcavoy@dewberry.com)\n",
    "#\n",
    "# Editors: Jason Matney (jmatney@dewberry.com)\n",
    "#          Bakinam Essawy (bessawy@dewberry.com) \n",
    "#\n",
    "# Copyright: Dewberry Engineers Inc.\n",
    "#########################################################################"
   ]
  },
  {
   "cell_type": "markdown",
   "metadata": {},
   "source": [
    "### Libraries"
   ]
  },
  {
   "cell_type": "code",
   "execution_count": 1,
   "metadata": {},
   "outputs": [],
   "source": [
    "from functools import partial\n",
    "import multiprocessing as mp\n",
    "from multiprocessing import Pool, cpu_count\n",
    "from functions import *\n",
    "import geopandas as gpd\n",
    "import pandas as pd\n",
    "import numpy as np\n",
    "from numpy import mean\n",
    "from numpy import std\n",
    "import os\n",
    "from time import time"
   ]
  },
  {
   "cell_type": "markdown",
   "metadata": {},
   "source": [
    "### Setting up workspace"
   ]
  },
  {
   "cell_type": "code",
   "execution_count": 2,
   "metadata": {},
   "outputs": [],
   "source": [
    "path = r\"P:\\Temp\\Bakinam_Essawy\\ML_Project\\Indiana_Risk\\forBakinam\"\n",
    "hucs = r\"P:\\Temp\\Bakinam_Essawy\\ML_Project\\Indiana_Risk\\forBakinam\"\n",
    "path_2 = r\"P:\\Temp\\McAvoy\\ML_DataCollection\\Marion_County_Data\"\n",
    "# Set Local Variables\n",
    "output_workspace = os.path.join(path, \"working_dsn\")\n",
    "# output_workspace"
   ]
  },
  {
   "cell_type": "markdown",
   "metadata": {},
   "source": [
    "#### Input data"
   ]
  },
  {
   "cell_type": "code",
   "execution_count": 3,
   "metadata": {},
   "outputs": [],
   "source": [
    "\n",
    "##### change these based on what subwatersheds you want #####\n",
    "# Read any shapefile in using multiprocessing \n",
    "\n",
    "all_subwatersheds = 'all_subwatersheds' \n",
    "all_centroids = 'all_centroids'\n",
    "streams = 'streams'\n",
    "water_bodies = 'water_bodies'\n",
    "dams = 'dams'\n",
    "bridges = 'bridges'\n",
    "railroads = 'railroads'\n",
    "population = 'population'\n",
    "median_income = 'median_income'\n",
    "county_boundary = 'county_boundary'\n",
    "lu_usa = 'lu_usa'\n",
    "#building_footprints = 'building_footprints'\n",
    "data = [\n",
    "    (all_subwatersheds,os.path.join(hucs, \"wbdhu12_a_IN_only.shp\")), # set source for shapefile with all 11 subwatersheds in the county\n",
    "    (all_centroids, os.path.join(hucs, \"wbdhu12_a_IN_only_centroids.shp\")), # All centroids of subwatersheds\n",
    "    (streams, os.path.join(path, \"Hydrography_HighRes_FlowLine_NHD_USGS.shp\")), #set source for streams data\n",
    "    (water_bodies, os.path.join(path_2, \"IndianaMAP_WaterBodies\\Water_Bodies_Lakes_LocalRes\\Hydrography_LocalRes_WaterbodyDiscrete_NHD_IN.shp\")),#set source for water bodies data \n",
    "    (dams, os.path.join(path_2, \"IndianaMAP_Dams\\Dams_IDNR\\Dams_IDNR_IN.shp\")),#set source for dams data\n",
    "    (bridges, os.path.join(path_2, \"IndianaMAP_Bridges\\Bridges_County_INDOT\\Bridges_County_INDOT_IN.shp\")), #set source for bridges data\n",
    "    (railroads, os.path.join(path_2, \"IndianaMAP_Railroads\\Railroads_Active_Abandoned_INDOT\\Rail_System_Active_Abandoned_INDOT_IN.shp\")), #set source for railraods data\n",
    "    (population, os.path.join(path_2, \"Indiana_PopulationData\\Indiana_PopulationData.shp\")), #set source for ACS population data\n",
    "    (median_income, os.path.join(path_2,\"Indiana_IncomeData\\Indiana_IncomeData.shp\")), #set source for ACS median income data \n",
    "    (county_boundary, os.path.join(path_2, \"MarionCounty_Boundary\\Marion_County_Boundary.shp\")), #set source for county boundary data\n",
    "    (lu_usa, os.path.join(path_2, r\"NLCD_Impervious\\NLCD_indiana_polygon.shp\")) #set source for nlcd land use data \n",
    "    \n",
    "]\n"
   ]
  },
  {
   "cell_type": "markdown",
   "metadata": {},
   "source": [
    "### Using multi-processing to load the data"
   ]
  },
  {
   "cell_type": "code",
   "execution_count": 4,
   "metadata": {},
   "outputs": [
    {
     "name": "stdout",
     "output_type": "stream",
     "text": [
      "5.67 minutes to process.\n"
     ]
    }
   ],
   "source": [
    "st = time()\n",
    "with Pool(int(cpu_count()*2)) as p:\n",
    "        x = dict(p.map(load_file, data))\n",
    "\n",
    "print(round(((time()-st)/60), 2) , 'minutes to process.')        "
   ]
  },
  {
   "cell_type": "code",
   "execution_count": null,
   "metadata": {},
   "outputs": [],
   "source": [
    "x[all_subwatersheds]"
   ]
  },
  {
   "cell_type": "markdown",
   "metadata": {},
   "source": [
    "### Not loaded yet using multi-processing"
   ]
  },
  {
   "cell_type": "code",
   "execution_count": null,
   "metadata": {},
   "outputs": [],
   "source": [
    "#####these are the same for all subwatersheds in Indiana#####                                      \n",
    "\n",
    "#set source for dem\n",
    "dem_Indiana = os.path.join(path, \"IN_EXTENT_MOSAIC\\IN_EXTENT_MOSAIC.tif\")\n",
    "\n",
    "#set source for slope dem\n",
    "dem_slope = os.path.join(path, \"Indiana_SlopeRaster\\IN_ext_slope\")\n",
    "\n",
    "#set source for NHFL Data\n",
    "nfhl_sfha = os.path.join(path, \"NFHL_18_20200310.gdb\\S_FLD_HAZ_AR\")\n",
    "\n",
    "#set source for streets data\n",
    "streets = os.path.join(path, \"IndianaMAP_Streets\\Streets_Centerlines_IGIO\\County_Street_Centerlines_IGIO_IN.gdb\\County_Street_Centerlines_IGIO_IN_Dec2019\")\n",
    "\n",
    "#folder with partial duration files, set as workspace temporarily, then reset when done\n",
    "directory_rainfall = os.path.join(path, \"MarionCounty_Rainfall\\All_Rainfall_Clipped_IN\")\n",
    "\n",
    "#set source for impervious indicator data\n",
    "impervious_usa = os.path.join(path, \"NLCD_Impervious\\\\NLCD_2016_Impervious_L48_20190405_PERCENT\\\\NLCD_2016_Impervious_L48_20190405.img\")\n",
    "\n",
    "#source for Bing building footprints for Indiana (attrubuted with open street maps data)\n",
    "building_footprints = os.path.join(path, \"BuildingFootprints_Indiana\\Building_Footprints_Attributed_IN.shp\")\n"
   ]
  },
  {
   "cell_type": "markdown",
   "metadata": {},
   "source": [
    "#### Empty List"
   ]
  },
  {
   "cell_type": "code",
   "execution_count": null,
   "metadata": {},
   "outputs": [],
   "source": [
    "\n",
    "subwatershed_list = []\n",
    "area_list = []\n",
    "perimeter_list = []\n",
    "watershed_length_list = []\n",
    "elongation_ratio_list = []\n",
    "shape_factor_list = []\n",
    "circulatory_ratio_list = []\n",
    "relief_list = []\n",
    "relief_ratio_list = []\n",
    "avg_slope_list = []\n",
    "drainage_density_list = []\n",
    "ruggedness_list = []\n",
    "aae_list = []\n",
    "buildings_aae_list = []\n",
    "x_list = []\n",
    "buildings_x_list = []\n",
    "water_bodies_list = []\n",
    "dams_list = []\n",
    "bridges_list = []\n",
    "streets_list = []\n",
    "railroads_list = []\n",
    "population_list = []\n",
    "dependent_population_list = []\n",
    "population_density_list = []\n",
    "avg_median_income_list = []\n",
    "housing_density_list = []\n",
    "population_change_list = []\n",
    "dist_to_stream_avg_list = []\n",
    "dist_to_stream_stdev_list = []\n",
    "\n",
    "lu_21_list = []\n",
    "lu_22_list = []\n",
    "lu_23_list = []\n",
    "lu_24_list = []\n",
    "lu_41_list = []\n",
    "lu_82_list = []\n",
    "impervious_percent_list = []\n",
    "\n",
    "orb100yr06h_list = []\n",
    "orb100yr12h_list = []\n",
    "orb100yr24h_list = []\n",
    "orb25yr06h_list = []\n",
    "orb25yr12h_list = []\n",
    "orb25yr24h_list = []\n",
    "orb2yr06h_list = []\n",
    "orb2yr12h_list = []\n",
    "orb2yr24h_list = []\n",
    "orb50yr06h_list = []\n",
    "orb50yr12h_list = []\n",
    "orb50yr24h_list = []\n",
    "orb100yr06ha_am_list = []\n",
    "orb100yr12ha_am_list = []\n",
    "orb100yr24ha_am_list = []\n",
    "orb25yr06ha_am_list = []\n",
    "orb25yr12ha_am_list = []\n",
    "orb25yr24ha_am_list = []\n",
    "orb2yr06ha_am_list = []\n",
    "orb2yr12ha_am_list = []\n",
    "orb2yr24ha_am_list = []\n",
    "orb50yr06ha_am_list = []\n",
    "orb50yr12ha_am_list = []\n",
    "orb50yr24ha_am_list = []\n"
   ]
  }
 ],
 "metadata": {
  "kernelspec": {
   "display_name": "Python 3",
   "language": "python",
   "name": "python3"
  },
  "language_info": {
   "codemirror_mode": {
    "name": "ipython",
    "version": 3
   },
   "file_extension": ".py",
   "mimetype": "text/x-python",
   "name": "python",
   "nbconvert_exporter": "python",
   "pygments_lexer": "ipython3",
   "version": "3.7.6"
  }
 },
 "nbformat": 4,
 "nbformat_minor": 4
}
